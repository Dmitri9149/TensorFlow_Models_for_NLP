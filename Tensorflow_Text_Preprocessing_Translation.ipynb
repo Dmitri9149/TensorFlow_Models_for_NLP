{
  "nbformat": 4,
  "nbformat_minor": 0,
  "metadata": {
    "colab": {
      "name": "Tensorflow_Text_Preprocessing_Translation.ipynb",
      "provenance": [],
      "collapsed_sections": [],
      "authorship_tag": "ABX9TyNRR/UtXvAFbmufLyIx6D1T",
      "include_colab_link": true
    },
    "kernelspec": {
      "name": "python3",
      "display_name": "Python 3"
    }
  },
  "cells": [
    {
      "cell_type": "markdown",
      "metadata": {
        "id": "view-in-github",
        "colab_type": "text"
      },
      "source": [
        "<a href=\"https://colab.research.google.com/github/Dmitri9149/TensorFlow_Models_for_NLP/blob/main/Tensorflow_Text_Preprocessing_Translation.ipynb\" target=\"_parent\"><img src=\"https://colab.research.google.com/assets/colab-badge.svg\" alt=\"Open In Colab\"/></a>"
      ]
    },
    {
      "cell_type": "markdown",
      "metadata": {
        "id": "mRdM2itSMcdj"
      },
      "source": [
        "### Text preprocessing for translation with Tensorflow and bin/bash scripting in Google Colab\n",
        "\n",
        "Logical structure of the project and some code is used from \n",
        "d2l.ai project: http://d2l.ai/  \n"
      ]
    },
    {
      "cell_type": "markdown",
      "metadata": {
        "id": "6vOYI9GkohbZ"
      },
      "source": [
        "The Wells \"Time Machine\" book from Gutenberg Project : http://www.gutenberg.org/files/35/35-0.txt is used to test Tokenizer"
      ]
    },
    {
      "cell_type": "code",
      "metadata": {
        "id": "CiYNt5UzoXgF",
        "outputId": "e6a014f5-897d-45ab-a702-82f392c83f9b",
        "colab": {
          "base_uri": "https://localhost:8080/"
        }
      },
      "source": [
        "!pip install -U mxnet-cu101==1.7.0\n",
        "!pip install d2l==0.14.4"
      ],
      "execution_count": 1,
      "outputs": [
        {
          "output_type": "stream",
          "text": [
            "Collecting mxnet-cu101==1.7.0\n",
            "\u001b[?25l  Downloading https://files.pythonhosted.org/packages/40/26/9655677b901537f367c3c473376e4106abc72e01a8fc25b1cb6ed9c37e8c/mxnet_cu101-1.7.0-py2.py3-none-manylinux2014_x86_64.whl (846.0MB)\n",
            "\u001b[K     |███████████████████████████████▌| 834.1MB 1.2MB/s eta 0:00:10tcmalloc: large alloc 1147494400 bytes == 0x64b04000 @  0x7f380d5b5615 0x591e47 0x4cc179 0x4cc2db 0x50a1cc 0x50beb4 0x507be4 0x509900 0x50a2fd 0x50beb4 0x507be4 0x509900 0x50a2fd 0x50cc96 0x58e683 0x50c127 0x58e683 0x50c127 0x58e683 0x50c127 0x58e683 0x50c127 0x5095c8 0x50a2fd 0x50beb4 0x507be4 0x509900 0x50a2fd 0x50beb4 0x5095c8 0x50a2fd\n",
            "\u001b[K     |████████████████████████████████| 846.0MB 20kB/s \n",
            "\u001b[?25hRequirement already satisfied, skipping upgrade: requests<3,>=2.20.0 in /usr/local/lib/python3.6/dist-packages (from mxnet-cu101==1.7.0) (2.23.0)\n",
            "Collecting graphviz<0.9.0,>=0.8.1\n",
            "  Downloading https://files.pythonhosted.org/packages/53/39/4ab213673844e0c004bed8a0781a0721a3f6bb23eb8854ee75c236428892/graphviz-0.8.4-py2.py3-none-any.whl\n",
            "Requirement already satisfied, skipping upgrade: numpy<2.0.0,>1.16.0 in /usr/local/lib/python3.6/dist-packages (from mxnet-cu101==1.7.0) (1.18.5)\n",
            "Requirement already satisfied, skipping upgrade: urllib3!=1.25.0,!=1.25.1,<1.26,>=1.21.1 in /usr/local/lib/python3.6/dist-packages (from requests<3,>=2.20.0->mxnet-cu101==1.7.0) (1.24.3)\n",
            "Requirement already satisfied, skipping upgrade: idna<3,>=2.5 in /usr/local/lib/python3.6/dist-packages (from requests<3,>=2.20.0->mxnet-cu101==1.7.0) (2.10)\n",
            "Requirement already satisfied, skipping upgrade: certifi>=2017.4.17 in /usr/local/lib/python3.6/dist-packages (from requests<3,>=2.20.0->mxnet-cu101==1.7.0) (2020.6.20)\n",
            "Requirement already satisfied, skipping upgrade: chardet<4,>=3.0.2 in /usr/local/lib/python3.6/dist-packages (from requests<3,>=2.20.0->mxnet-cu101==1.7.0) (3.0.4)\n",
            "Installing collected packages: graphviz, mxnet-cu101\n",
            "  Found existing installation: graphviz 0.10.1\n",
            "    Uninstalling graphviz-0.10.1:\n",
            "      Successfully uninstalled graphviz-0.10.1\n",
            "Successfully installed graphviz-0.8.4 mxnet-cu101-1.7.0\n",
            "Collecting d2l==0.14.4\n",
            "\u001b[?25l  Downloading https://files.pythonhosted.org/packages/b4/9b/7fd84dcfa6d4f51f5671ed581e749586beb6a7432804bcf28fde32df4df7/d2l-0.14.4-py3-none-any.whl (58kB)\n",
            "\u001b[K     |████████████████████████████████| 61kB 1.8MB/s \n",
            "\u001b[?25hRequirement already satisfied: jupyter in /usr/local/lib/python3.6/dist-packages (from d2l==0.14.4) (1.0.0)\n",
            "Requirement already satisfied: pandas in /usr/local/lib/python3.6/dist-packages (from d2l==0.14.4) (1.1.4)\n",
            "Requirement already satisfied: matplotlib in /usr/local/lib/python3.6/dist-packages (from d2l==0.14.4) (3.2.2)\n",
            "Requirement already satisfied: numpy in /usr/local/lib/python3.6/dist-packages (from d2l==0.14.4) (1.18.5)\n",
            "Requirement already satisfied: ipywidgets in /usr/local/lib/python3.6/dist-packages (from jupyter->d2l==0.14.4) (7.5.1)\n",
            "Requirement already satisfied: nbconvert in /usr/local/lib/python3.6/dist-packages (from jupyter->d2l==0.14.4) (5.6.1)\n",
            "Requirement already satisfied: ipykernel in /usr/local/lib/python3.6/dist-packages (from jupyter->d2l==0.14.4) (4.10.1)\n",
            "Requirement already satisfied: jupyter-console in /usr/local/lib/python3.6/dist-packages (from jupyter->d2l==0.14.4) (5.2.0)\n",
            "Requirement already satisfied: qtconsole in /usr/local/lib/python3.6/dist-packages (from jupyter->d2l==0.14.4) (4.7.7)\n",
            "Requirement already satisfied: notebook in /usr/local/lib/python3.6/dist-packages (from jupyter->d2l==0.14.4) (5.3.1)\n",
            "Requirement already satisfied: pytz>=2017.2 in /usr/local/lib/python3.6/dist-packages (from pandas->d2l==0.14.4) (2018.9)\n",
            "Requirement already satisfied: python-dateutil>=2.7.3 in /usr/local/lib/python3.6/dist-packages (from pandas->d2l==0.14.4) (2.8.1)\n",
            "Requirement already satisfied: pyparsing!=2.0.4,!=2.1.2,!=2.1.6,>=2.0.1 in /usr/local/lib/python3.6/dist-packages (from matplotlib->d2l==0.14.4) (2.4.7)\n",
            "Requirement already satisfied: kiwisolver>=1.0.1 in /usr/local/lib/python3.6/dist-packages (from matplotlib->d2l==0.14.4) (1.3.1)\n",
            "Requirement already satisfied: cycler>=0.10 in /usr/local/lib/python3.6/dist-packages (from matplotlib->d2l==0.14.4) (0.10.0)\n",
            "Requirement already satisfied: ipython>=4.0.0; python_version >= \"3.3\" in /usr/local/lib/python3.6/dist-packages (from ipywidgets->jupyter->d2l==0.14.4) (5.5.0)\n",
            "Requirement already satisfied: traitlets>=4.3.1 in /usr/local/lib/python3.6/dist-packages (from ipywidgets->jupyter->d2l==0.14.4) (4.3.3)\n",
            "Requirement already satisfied: nbformat>=4.2.0 in /usr/local/lib/python3.6/dist-packages (from ipywidgets->jupyter->d2l==0.14.4) (5.0.8)\n",
            "Requirement already satisfied: widgetsnbextension~=3.5.0 in /usr/local/lib/python3.6/dist-packages (from ipywidgets->jupyter->d2l==0.14.4) (3.5.1)\n",
            "Requirement already satisfied: testpath in /usr/local/lib/python3.6/dist-packages (from nbconvert->jupyter->d2l==0.14.4) (0.4.4)\n",
            "Requirement already satisfied: pygments in /usr/local/lib/python3.6/dist-packages (from nbconvert->jupyter->d2l==0.14.4) (2.6.1)\n",
            "Requirement already satisfied: pandocfilters>=1.4.1 in /usr/local/lib/python3.6/dist-packages (from nbconvert->jupyter->d2l==0.14.4) (1.4.3)\n",
            "Requirement already satisfied: mistune<2,>=0.8.1 in /usr/local/lib/python3.6/dist-packages (from nbconvert->jupyter->d2l==0.14.4) (0.8.4)\n",
            "Requirement already satisfied: entrypoints>=0.2.2 in /usr/local/lib/python3.6/dist-packages (from nbconvert->jupyter->d2l==0.14.4) (0.3)\n",
            "Requirement already satisfied: defusedxml in /usr/local/lib/python3.6/dist-packages (from nbconvert->jupyter->d2l==0.14.4) (0.6.0)\n",
            "Requirement already satisfied: jinja2>=2.4 in /usr/local/lib/python3.6/dist-packages (from nbconvert->jupyter->d2l==0.14.4) (2.11.2)\n",
            "Requirement already satisfied: jupyter-core in /usr/local/lib/python3.6/dist-packages (from nbconvert->jupyter->d2l==0.14.4) (4.6.3)\n",
            "Requirement already satisfied: bleach in /usr/local/lib/python3.6/dist-packages (from nbconvert->jupyter->d2l==0.14.4) (3.2.1)\n",
            "Requirement already satisfied: tornado>=4.0 in /usr/local/lib/python3.6/dist-packages (from ipykernel->jupyter->d2l==0.14.4) (5.1.1)\n",
            "Requirement already satisfied: jupyter-client in /usr/local/lib/python3.6/dist-packages (from ipykernel->jupyter->d2l==0.14.4) (5.3.5)\n",
            "Requirement already satisfied: prompt-toolkit<2.0.0,>=1.0.0 in /usr/local/lib/python3.6/dist-packages (from jupyter-console->jupyter->d2l==0.14.4) (1.0.18)\n",
            "Requirement already satisfied: qtpy in /usr/local/lib/python3.6/dist-packages (from qtconsole->jupyter->d2l==0.14.4) (1.9.0)\n",
            "Requirement already satisfied: ipython-genutils in /usr/local/lib/python3.6/dist-packages (from qtconsole->jupyter->d2l==0.14.4) (0.2.0)\n",
            "Requirement already satisfied: pyzmq>=17.1 in /usr/local/lib/python3.6/dist-packages (from qtconsole->jupyter->d2l==0.14.4) (19.0.2)\n",
            "Requirement already satisfied: Send2Trash in /usr/local/lib/python3.6/dist-packages (from notebook->jupyter->d2l==0.14.4) (1.5.0)\n",
            "Requirement already satisfied: terminado>=0.8.1 in /usr/local/lib/python3.6/dist-packages (from notebook->jupyter->d2l==0.14.4) (0.9.1)\n",
            "Requirement already satisfied: six>=1.5 in /usr/local/lib/python3.6/dist-packages (from python-dateutil>=2.7.3->pandas->d2l==0.14.4) (1.15.0)\n",
            "Requirement already satisfied: pexpect; sys_platform != \"win32\" in /usr/local/lib/python3.6/dist-packages (from ipython>=4.0.0; python_version >= \"3.3\"->ipywidgets->jupyter->d2l==0.14.4) (4.8.0)\n",
            "Requirement already satisfied: decorator in /usr/local/lib/python3.6/dist-packages (from ipython>=4.0.0; python_version >= \"3.3\"->ipywidgets->jupyter->d2l==0.14.4) (4.4.2)\n",
            "Requirement already satisfied: setuptools>=18.5 in /usr/local/lib/python3.6/dist-packages (from ipython>=4.0.0; python_version >= \"3.3\"->ipywidgets->jupyter->d2l==0.14.4) (50.3.2)\n",
            "Requirement already satisfied: pickleshare in /usr/local/lib/python3.6/dist-packages (from ipython>=4.0.0; python_version >= \"3.3\"->ipywidgets->jupyter->d2l==0.14.4) (0.7.5)\n",
            "Requirement already satisfied: simplegeneric>0.8 in /usr/local/lib/python3.6/dist-packages (from ipython>=4.0.0; python_version >= \"3.3\"->ipywidgets->jupyter->d2l==0.14.4) (0.8.1)\n",
            "Requirement already satisfied: jsonschema!=2.5.0,>=2.4 in /usr/local/lib/python3.6/dist-packages (from nbformat>=4.2.0->ipywidgets->jupyter->d2l==0.14.4) (2.6.0)\n",
            "Requirement already satisfied: MarkupSafe>=0.23 in /usr/local/lib/python3.6/dist-packages (from jinja2>=2.4->nbconvert->jupyter->d2l==0.14.4) (1.1.1)\n",
            "Requirement already satisfied: webencodings in /usr/local/lib/python3.6/dist-packages (from bleach->nbconvert->jupyter->d2l==0.14.4) (0.5.1)\n",
            "Requirement already satisfied: packaging in /usr/local/lib/python3.6/dist-packages (from bleach->nbconvert->jupyter->d2l==0.14.4) (20.4)\n",
            "Requirement already satisfied: wcwidth in /usr/local/lib/python3.6/dist-packages (from prompt-toolkit<2.0.0,>=1.0.0->jupyter-console->jupyter->d2l==0.14.4) (0.2.5)\n",
            "Requirement already satisfied: ptyprocess; os_name != \"nt\" in /usr/local/lib/python3.6/dist-packages (from terminado>=0.8.1->notebook->jupyter->d2l==0.14.4) (0.6.0)\n",
            "Installing collected packages: d2l\n",
            "Successfully installed d2l-0.14.4\n"
          ],
          "name": "stdout"
        }
      ]
    },
    {
      "cell_type": "code",
      "metadata": {
        "id": "nnFgD_8mOAZ7"
      },
      "source": [
        "import collections\n",
        "from d2l import tensorflow as d2l\n",
        "import re"
      ],
      "execution_count": 150,
      "outputs": []
    },
    {
      "cell_type": "code",
      "metadata": {
        "id": "5m7GOjDXnWu-",
        "outputId": "6f7e0ff5-7e45-40a1-9039-2d554e967394",
        "colab": {
          "base_uri": "https://localhost:8080/"
        }
      },
      "source": [
        "from google.colab import drive\n",
        "drive.mount('/content/drive')"
      ],
      "execution_count": 151,
      "outputs": [
        {
          "output_type": "stream",
          "text": [
            "Drive already mounted at /content/drive; to attempt to forcibly remount, call drive.mount(\"/content/drive\", force_remount=True).\n"
          ],
          "name": "stdout"
        }
      ]
    },
    {
      "cell_type": "code",
      "metadata": {
        "id": "65Gef9bcxY2B"
      },
      "source": [
        "LOCATION = \"/content//My Drive/Data/TextDatadrive/TimeMachine.txt\"\n",
        "## return list of text lines; ignore punctuation, capitalization\n",
        "def read_drive_file(location):\n",
        "    \"\"\"Load the time machine dataset into a list of text lines.\"\"\"\n",
        "    with open(\"/content/drive/My Drive/Data/TextData/TimeMachine.txt\") as f:\n",
        "        lines = f.readlines()\n",
        "    return [re.sub('[^A-Za-z]+', ' ', line).strip().lower() for line in lines]"
      ],
      "execution_count": 152,
      "outputs": []
    },
    {
      "cell_type": "code",
      "metadata": {
        "id": "t-2eg7e4x4az",
        "outputId": "67f87f6f-4683-4b6f-9d0f-6f97bc52cd3f",
        "colab": {
          "base_uri": "https://localhost:8080/"
        }
      },
      "source": [
        "lines = read_drive_file(LOCATION)\n",
        "print(f'# text lines: {len(lines)}')\n",
        "print(lines[0])\n",
        "print(lines[10])"
      ],
      "execution_count": 153,
      "outputs": [
        {
          "output_type": "stream",
          "text": [
            "# text lines: 3564\n",
            "the project gutenberg ebook of the time machine by h g wells\n",
            "\n"
          ],
          "name": "stdout"
        }
      ]
    },
    {
      "cell_type": "markdown",
      "metadata": {
        "id": "lW4sxjaR3Gcl"
      },
      "source": [
        "##### Have to eliminate some lines at the beginning and end of the project (License + some text from the Gutenberg project) "
      ]
    },
    {
      "cell_type": "code",
      "metadata": {
        "id": "7VMF5bSStAPB",
        "outputId": "612039cb-c698-462d-e58b-7d8b5d6b0dca",
        "colab": {
          "base_uri": "https://localhost:8080/"
        }
      },
      "source": [
        "print(lines[-366:])\n",
        "lines = lines[:-365]\n",
        "##print(time_machine[-1:])"
      ],
      "execution_count": 154,
      "outputs": [
        {
          "output_type": "stream",
          "text": [
            "['still lived on in the heart of man', '', '', '', '', 'end of the project gutenberg ebook of the time machine by h g wells', '', 'end of this project gutenberg ebook the time machine', '', 'this file should be named txt or zip', 'this and all associated files of various formats will be found in', 'http www gutenberg org', '', 'updated editions will replace the previous one the old editions will', 'be renamed', '', 'creating the works from print editions not protected by u s copyright', 'law means that no one owns a united states copyright in these works', 'so the foundation and you can copy and distribute it in the united', 'states without permission and without paying copyright', 'royalties special rules set forth in the general terms of use part', 'of this license apply to copying and distributing project', 'gutenberg tm electronic works to protect the project gutenberg tm', 'concept and trademark project gutenberg is a registered trademark', 'and may not be used if you charge for the ebooks unless you receive', 'specific permission if you do not charge anything for copies of this', 'ebook complying with the rules is very easy you may use this ebook', 'for nearly any purpose such as creation of derivative works reports', 'performances and research they may be modified and printed and given', 'away you may do practically anything in the united states with ebooks', 'not protected by u s copyright law redistribution is subject to the', 'trademark license especially commercial redistribution', '', 'start full license', '', 'the full project gutenberg license', 'please read this before you distribute or use this work', '', 'to protect the project gutenberg tm mission of promoting the free', 'distribution of electronic works by using or distributing this work', 'or any other work associated in any way with the phrase project', 'gutenberg you agree to comply with all the terms of the full', 'project gutenberg tm license available with this file or online at', 'www gutenberg org license', '', 'section general terms of use and redistributing project', 'gutenberg tm electronic works', '', 'a by reading or using any part of this project gutenberg tm', 'electronic work you indicate that you have read understand agree to', 'and accept all the terms of this license and intellectual property', 'trademark copyright agreement if you do not agree to abide by all', 'the terms of this agreement you must cease using and return or', 'destroy all copies of project gutenberg tm electronic works in your', 'possession if you paid a fee for obtaining a copy of or access to a', 'project gutenberg tm electronic work and you do not agree to be bound', 'by the terms of this agreement you may obtain a refund from the', 'person or entity to whom you paid the fee as set forth in paragraph', 'e', '', 'b project gutenberg is a registered trademark it may only be', 'used on or associated in any way with an electronic work by people who', 'agree to be bound by the terms of this agreement there are a few', 'things that you can do with most project gutenberg tm electronic works', 'even without complying with the full terms of this agreement see', 'paragraph c below there are a lot of things you can do with project', 'gutenberg tm electronic works if you follow the terms of this', 'agreement and help preserve free future access to project gutenberg tm', 'electronic works see paragraph e below', '', 'c the project gutenberg literary archive foundation the', 'foundation or pglaf owns a compilation copyright in the collection', 'of project gutenberg tm electronic works nearly all the individual', 'works in the collection are in the public domain in the united', 'states if an individual work is unprotected by copyright law in the', 'united states and you are located in the united states we do not', 'claim a right to prevent you from copying distributing performing', 'displaying or creating derivative works based on the work as long as', 'all references to project gutenberg are removed of course we hope', 'that you will support the project gutenberg tm mission of promoting', 'free access to electronic works by freely sharing project gutenberg tm', 'works in compliance with the terms of this agreement for keeping the', 'project gutenberg tm name associated with the work you can easily', 'comply with the terms of this agreement by keeping this work in the', 'same format with its attached full project gutenberg tm license when', 'you share it without charge with others', '', 'd the copyright laws of the place where you are located also govern', 'what you can do with this work copyright laws in most countries are', 'in a constant state of change if you are outside the united states', 'check the laws of your country in addition to the terms of this', 'agreement before downloading copying displaying performing', 'distributing or creating derivative works based on this work or any', 'other project gutenberg tm work the foundation makes no', 'representations concerning the copyright status of any work in any', 'country outside the united states', '', 'e unless you have removed all references to project gutenberg', '', 'e the following sentence with active links to or other', 'immediate access to the full project gutenberg tm license must appear', 'prominently whenever any copy of a project gutenberg tm work any work', 'on which the phrase project gutenberg appears or with which the', 'phrase project gutenberg is associated is accessed displayed', 'performed viewed copied or distributed', '', 'this ebook is for the use of anyone anywhere in the united states and', 'most other parts of the world at no cost and with almost no', 'restrictions whatsoever you may copy it give it away or re use it', 'under the terms of the project gutenberg license included with this', 'ebook or online at www gutenberg org if you are not located in the', 'united states you ll have to check the laws of the country where you', 'are located before using this ebook', '', 'e if an individual project gutenberg tm electronic work is', 'derived from texts not protected by u s copyright law does not', 'contain a notice indicating that it is posted with permission of the', 'copyright holder the work can be copied and distributed to anyone in', 'the united states without paying any fees or charges if you are', 'redistributing or providing access to a work with the phrase project', 'gutenberg associated with or appearing on the work you must comply', 'either with the requirements of paragraphs e through e or', 'obtain permission for the use of the work and the project gutenberg tm', 'trademark as set forth in paragraphs e or e', '', 'e if an individual project gutenberg tm electronic work is posted', 'with the permission of the copyright holder your use and distribution', 'must comply with both paragraphs e through e and any', 'additional terms imposed by the copyright holder additional terms', 'will be linked to the project gutenberg tm license for all works', 'posted with the permission of the copyright holder found at the', 'beginning of this work', '', 'e do not unlink or detach or remove the full project gutenberg tm', 'license terms from this work or any files containing a part of this', 'work or any other work associated with project gutenberg tm', '', 'e do not copy display perform distribute or redistribute this', 'electronic work or any part of this electronic work without', 'prominently displaying the sentence set forth in paragraph e with', 'active links or immediate access to the full terms of the project', 'gutenberg tm license', '', 'e you may convert to and distribute this work in any binary', 'compressed marked up nonproprietary or proprietary form including', 'any word processing or hypertext form however if you provide access', 'to or distribute copies of a project gutenberg tm work in a format', 'other than plain vanilla ascii or other format used in the official', 'version posted on the official project gutenberg tm web site', 'www gutenberg org you must at no additional cost fee or expense', 'to the user provide a copy a means of exporting a copy or a means', 'of obtaining a copy upon request of the work in its original plain', 'vanilla ascii or other form any alternate format must include the', 'full project gutenberg tm license as specified in paragraph e', '', 'e do not charge a fee for access to viewing displaying', 'performing copying or distributing any project gutenberg tm works', 'unless you comply with paragraph e or e', '', 'e you may charge a reasonable fee for copies of or providing', 'access to or distributing project gutenberg tm electronic works', 'provided that', '', 'you pay a royalty fee of of the gross profits you derive from', 'the use of project gutenberg tm works calculated using the method', 'you already use to calculate your applicable taxes the fee is owed', 'to the owner of the project gutenberg tm trademark but he has', 'agreed to donate royalties under this paragraph to the project', 'gutenberg literary archive foundation royalty payments must be paid', 'within days following each date on which you prepare or are', 'legally required to prepare your periodic tax returns royalty', 'payments should be clearly marked as such and sent to the project', 'gutenberg literary archive foundation at the address specified in', 'section information about donations to the project gutenberg', 'literary archive foundation', '', 'you provide a full refund of any money paid by a user who notifies', 'you in writing or by e mail within days of receipt that s he', 'does not agree to the terms of the full project gutenberg tm', 'license you must require such a user to return or destroy all', 'copies of the works possessed in a physical medium and discontinue', 'all use of and all access to other copies of project gutenberg tm', 'works', '', 'you provide in accordance with paragraph f a full refund of', 'any money paid for a work or a replacement copy if a defect in the', 'electronic work is discovered and reported to you within days of', 'receipt of the work', '', 'you comply with all other terms of this agreement for free', 'distribution of project gutenberg tm works', '', 'e if you wish to charge a fee or distribute a project', 'gutenberg tm electronic work or group of works on different terms than', 'are set forth in this agreement you must obtain permission in writing', 'from both the project gutenberg literary archive foundation and the', 'project gutenberg trademark llc the owner of the project gutenberg tm', 'trademark contact the foundation as set forth in section below', '', 'f', '', 'f project gutenberg volunteers and employees expend considerable', 'effort to identify do copyright research on transcribe and proofread', 'works not protected by u s copyright law in creating the project', 'gutenberg tm collection despite these efforts project gutenberg tm', 'electronic works and the medium on which they may be stored may', 'contain defects such as but not limited to incomplete inaccurate', 'or corrupt data transcription errors a copyright or other', 'intellectual property infringement a defective or damaged disk or', 'other medium a computer virus or computer codes that damage or', 'cannot be read by your equipment', '', 'f limited warranty disclaimer of damages except for the right', 'of replacement or refund described in paragraph f the project', 'gutenberg literary archive foundation the owner of the project', 'gutenberg tm trademark and any other party distributing a project', 'gutenberg tm electronic work under this agreement disclaim all', 'liability to you for damages costs and expenses including legal', 'fees you agree that you have no remedies for negligence strict', 'liability breach of warranty or breach of contract except those', 'provided in paragraph f you agree that the foundation the', 'trademark owner and any distributor under this agreement will not be', 'liable to you for actual direct indirect consequential punitive or', 'incidental damages even if you give notice of the possibility of such', 'damage', '', 'f limited right of replacement or refund if you discover a', 'defect in this electronic work within days of receiving it you can', 'receive a refund of the money if any you paid for it by sending a', 'written explanation to the person you received the work from if you', 'received the work on a physical medium you must return the medium', 'with your written explanation the person or entity that provided you', 'with the defective work may elect to provide a replacement copy in', 'lieu of a refund if you received the work electronically the person', 'or entity providing it to you may choose to give you a second', 'opportunity to receive the work electronically in lieu of a refund if', 'the second copy is also defective you may demand a refund in writing', 'without further opportunities to fix the problem', '', 'f except for the limited right of replacement or refund set forth', 'in paragraph f this work is provided to you as is with no', 'other warranties of any kind express or implied including but not', 'limited to warranties of merchantability or fitness for any purpose', '', 'f some states do not allow disclaimers of certain implied', 'warranties or the exclusion or limitation of certain types of', 'damages if any disclaimer or limitation set forth in this agreement', 'violates the law of the state applicable to this agreement the', 'agreement shall be interpreted to make the maximum disclaimer or', 'limitation permitted by the applicable state law the invalidity or', 'unenforceability of any provision of this agreement shall not void the', 'remaining provisions', '', 'f indemnity you agree to indemnify and hold the foundation the', 'trademark owner any agent or employee of the foundation anyone', 'providing copies of project gutenberg tm electronic works in', 'accordance with this agreement and any volunteers associated with the', 'production promotion and distribution of project gutenberg tm', 'electronic works harmless from all liability costs and expenses', 'including legal fees that arise directly or indirectly from any of', 'the following which you do or cause to occur a distribution of this', 'or any project gutenberg tm work b alteration modification or', 'additions or deletions to any project gutenberg tm work and c any', 'defect you cause', '', 'section information about the mission of project gutenberg tm', '', 'project gutenberg tm is synonymous with the free distribution of', 'electronic works in formats readable by the widest variety of', 'computers including obsolete old middle aged and new computers it', 'exists because of the efforts of hundreds of volunteers and donations', 'from people in all walks of life', '', 'volunteers and financial support to provide volunteers with the', 'assistance they need are critical to reaching project gutenberg tm s', 'goals and ensuring that the project gutenberg tm collection will', 'remain freely available for generations to come in the project', 'gutenberg literary archive foundation was created to provide a secure', 'and permanent future for project gutenberg tm and future', 'generations to learn more about the project gutenberg literary', 'archive foundation and how your efforts and donations can help see', 'sections and and the foundation information page at', 'www gutenberg org', '', '', '', 'section information about the project gutenberg literary archive foundation', '', 'the project gutenberg literary archive foundation is a non profit', 'c educational corporation organized under the laws of the', 'state of mississippi and granted tax exempt status by the internal', 'revenue service the foundation s ein or federal tax identification', 'number is contributions to the project gutenberg literary', 'archive foundation are tax deductible to the full extent permitted by', 'u s federal laws and your state s laws', '', 'the foundation s principal office is in fairbanks alaska with the', 'mailing address po box fairbanks ak but its', 'volunteers and employees are scattered throughout numerous', 'locations its business office is located at north west salt', 'lake city ut email contact links and up to', 'date contact information can be found at the foundation s web site and', 'official page at www gutenberg org contact', '', 'for additional contact information', '', 'dr gregory b newby', 'chief executive and director', 'gbnewby pglaf org', '', 'section information about donations to the project gutenberg', 'literary archive foundation', '', 'project gutenberg tm depends upon and cannot survive without wide', 'spread public support and donations to carry out its mission of', 'increasing the number of public domain and licensed works that can be', 'freely distributed in machine readable form accessible by the widest', 'array of equipment including outdated equipment many small donations', 'to are particularly important to maintaining tax exempt', 'status with the irs', '', 'the foundation is committed to complying with the laws regulating', 'charities and charitable donations in all states of the united', 'states compliance requirements are not uniform and it takes a', 'considerable effort much paperwork and many fees to meet and keep up', 'with these requirements we do not solicit donations in locations', 'where we have not received written confirmation of compliance to send', 'donations or determine the status of compliance for any particular', 'state visit www gutenberg org donate', '', 'while we cannot and do not solicit contributions from states where we', 'have not met the solicitation requirements we know of no prohibition', 'against accepting unsolicited donations from donors in such states who', 'approach us with offers to donate', '', 'international donations are gratefully accepted but we cannot make', 'any statements concerning tax treatment of donations received from', 'outside the united states u s laws alone swamp our small staff', '', 'please check the project gutenberg web pages for current donation', 'methods and addresses donations are accepted in a number of other', 'ways including checks online payments and credit card donations to', 'donate please visit www gutenberg org donate', '', 'section general information about project gutenberg tm electronic works', '', 'professor michael s hart was the originator of the project', 'gutenberg tm concept of a library of electronic works that could be', 'freely shared with anyone for forty years he produced and', 'distributed project gutenberg tm ebooks with only a loose network of', 'volunteer support', '', 'project gutenberg tm ebooks are often created from several printed', 'editions all of which are confirmed as not protected by copyright in', 'the u s unless a copyright notice is included thus we do not', 'necessarily keep ebooks in compliance with any particular paper', 'edition', '', 'most people start at our web site which has the main pg search', 'facility www gutenberg org', '', 'this web site includes information about project gutenberg tm', 'including how to make donations to the project gutenberg literary', 'archive foundation how to help produce our new ebooks and how to', 'subscribe to our email newsletter to hear about new ebooks', '']\n"
          ],
          "name": "stdout"
        }
      ]
    },
    {
      "cell_type": "code",
      "metadata": {
        "id": "mrUcRgbD0Iz7",
        "outputId": "0d24e88f-2f24-487f-d499-560bce505bfe",
        "colab": {
          "base_uri": "https://localhost:8080/"
        }
      },
      "source": [
        "print(lines[-2:])"
      ],
      "execution_count": 155,
      "outputs": [
        {
          "output_type": "stream",
          "text": [
            "['even when mind and strength had gone gratitude and a mutual tenderness', 'still lived on in the heart of man']\n"
          ],
          "name": "stdout"
        }
      ]
    },
    {
      "cell_type": "code",
      "metadata": {
        "id": "INgtS3E92NhB",
        "outputId": "af86276e-914d-4e81-86d1-5eeeca6d5e5a",
        "colab": {
          "base_uri": "https://localhost:8080/"
        }
      },
      "source": [
        "print(lines[0:60])"
      ],
      "execution_count": 156,
      "outputs": [
        {
          "output_type": "stream",
          "text": [
            "['the project gutenberg ebook of the time machine by h g wells', '', 'this ebook is for the use of anyone anywhere in the united states and most', 'other parts of the world at no cost and with almost no restrictions', 'whatsoever you may copy it give it away or re use it under the terms of', 'the project gutenberg license included with this ebook or online at', 'www gutenberg org if you are not located in the united states you ll have', 'to check the laws of the country where you are located before using this ebook', '', 'title the time machine', '', 'author h g wells', '', 'release date july ebook', 'most recently updated october', '', 'language english', '', 'character set encoding utf', '', 'start of this project gutenberg ebook the time machine', '', '', '', '', 'the time machine', '', 'an invention', '', 'by h g wells', '', '', 'contents', '', 'i introduction', 'ii the machine', 'iii the time traveller returns', 'iv time travelling', 'v in the golden age', 'vi the sunset of mankind', 'vii a sudden shock', 'viii explanation', 'ix the morlocks', 'x when night came', 'xi the palace of green porcelain', 'xii in the darkness', 'xiii the trap of the white sphinx', 'xiv the further vision', 'xv the time traveller s return', 'xvi after the story', 'epilogue', '', '', '', '', 'i', 'introduction', '', '', 'the time traveller for so it will be convenient to speak of him was']\n"
          ],
          "name": "stdout"
        }
      ]
    },
    {
      "cell_type": "code",
      "metadata": {
        "id": "kPO_A0bD2luz",
        "outputId": "1264be76-f79e-49f1-bce7-78812e1ef85e",
        "colab": {
          "base_uri": "https://localhost:8080/"
        }
      },
      "source": [
        "lines = lines[56:]\n",
        "print(lines[0:5])"
      ],
      "execution_count": 157,
      "outputs": [
        {
          "output_type": "stream",
          "text": [
            "['introduction', '', '', 'the time traveller for so it will be convenient to speak of him was', 'expounding a recondite matter to us his pale grey eyes shone and']\n"
          ],
          "name": "stdout"
        }
      ]
    },
    {
      "cell_type": "markdown",
      "metadata": {
        "id": "UhOJ69szAQic"
      },
      "source": [
        "#### Tokenize"
      ]
    },
    {
      "cell_type": "code",
      "metadata": {
        "id": "5303pSZO8OKD"
      },
      "source": [
        "### from d2l.ai\n",
        "def tokenize(lines, token='word'):\n",
        "    \"\"\"Split text lines into word or character tokens.\"\"\"\n",
        "    if token == 'word':\n",
        "        return [line.split() for line in lines]\n",
        "    elif token == 'char':\n",
        "        return [list(line) for line in lines]\n",
        "    else:\n",
        "        print('ERROR: unknown token type: ' + token)"
      ],
      "execution_count": 158,
      "outputs": []
    },
    {
      "cell_type": "code",
      "metadata": {
        "id": "xXmVaB4X_yon",
        "outputId": "015156a2-b2be-4fc3-dde5-5de27cd595c5",
        "colab": {
          "base_uri": "https://localhost:8080/"
        }
      },
      "source": [
        "### tokens= list of words\n",
        "tokens = tokenize(lines)\n",
        "for i in range(11):\n",
        "    print(tokens[i])"
      ],
      "execution_count": 159,
      "outputs": [
        {
          "output_type": "stream",
          "text": [
            "['introduction']\n",
            "[]\n",
            "[]\n",
            "['the', 'time', 'traveller', 'for', 'so', 'it', 'will', 'be', 'convenient', 'to', 'speak', 'of', 'him', 'was']\n",
            "['expounding', 'a', 'recondite', 'matter', 'to', 'us', 'his', 'pale', 'grey', 'eyes', 'shone', 'and']\n",
            "['twinkled', 'and', 'his', 'usually', 'pale', 'face', 'was', 'flushed', 'and', 'animated', 'the', 'fire']\n",
            "['burnt', 'brightly', 'and', 'the', 'soft', 'radiance', 'of', 'the', 'incandescent', 'lights', 'in', 'the']\n",
            "['lilies', 'of', 'silver', 'caught', 'the', 'bubbles', 'that', 'flashed', 'and', 'passed', 'in', 'our']\n",
            "['glasses', 'our', 'chairs', 'being', 'his', 'patents', 'embraced', 'and', 'caressed', 'us', 'rather']\n",
            "['than', 'submitted', 'to', 'be', 'sat', 'upon', 'and', 'there', 'was', 'that', 'luxurious']\n",
            "['after', 'dinner', 'atmosphere', 'when', 'thought', 'runs', 'gracefully', 'free', 'of', 'the']\n"
          ],
          "name": "stdout"
        }
      ]
    },
    {
      "cell_type": "code",
      "metadata": {
        "id": "grwntEiNCJsS"
      },
      "source": [
        "### from d2l.ai\n",
        "class Vocab:\n",
        "    \"\"\"Vocabulary for text.\"\"\"\n",
        "    def __init__(self, tokens=None, min_freq=0, reserved_tokens=None):\n",
        "        if tokens is None:\n",
        "            tokens = []\n",
        "        if reserved_tokens is None:\n",
        "            reserved_tokens = []\n",
        "        # Sort according to frequencies\n",
        "        counter = count_corpus(tokens)\n",
        "        self.token_freqs = sorted(counter.items(), key=lambda x: x[0])\n",
        "        self.token_freqs.sort(key=lambda x: x[1], reverse=True)\n",
        "        # The index for the unknown token is 0\n",
        "        self.unk, uniq_tokens = 0, ['<unk>'] + reserved_tokens\n",
        "        uniq_tokens += [token for token, freq in self.token_freqs\n",
        "                        if freq >= min_freq and token not in uniq_tokens]\n",
        "        self.idx_to_token, self.token_to_idx = [], dict()\n",
        "        for token in uniq_tokens:\n",
        "            self.idx_to_token.append(token)\n",
        "            self.token_to_idx[token] = len(self.idx_to_token) - 1\n",
        "\n",
        "    def __len__(self):\n",
        "        return len(self.idx_to_token)\n",
        "\n",
        "    def __getitem__(self, tokens):\n",
        "        if not isinstance(tokens, (list, tuple)):\n",
        "            return self.token_to_idx.get(tokens, self.unk)\n",
        "        return [self.__getitem__(token) for token in tokens]\n",
        "\n",
        "    def to_tokens(self, indices):\n",
        "        if not isinstance(indices, (list, tuple)):\n",
        "            return self.idx_to_token[indices]\n",
        "        return [self.idx_to_token[index] for index in indices]\n",
        "\n",
        "def count_corpus(tokens):\n",
        "    \"\"\"Count token frequencies.\"\"\"\n",
        "    # Here `tokens` is a 1D list or 2D list\n",
        "    if len(tokens) == 0 or isinstance(tokens[0], list):\n",
        "        # Flatten a list of token lists into a list of tokens\n",
        "        tokens = [token for line in tokens for token in line]\n",
        "    return collections.Counter(tokens)"
      ],
      "execution_count": 160,
      "outputs": []
    },
    {
      "cell_type": "code",
      "metadata": {
        "id": "o5RBShfcSj2q",
        "outputId": "1081d59a-efbc-4070-c9bb-139b8c80a3df",
        "colab": {
          "base_uri": "https://localhost:8080/"
        }
      },
      "source": [
        "### supply list of lists of tokens\n",
        "vocab = Vocab(tokens)\n",
        "print(list(vocab.token_to_idx.items())[:10])"
      ],
      "execution_count": 161,
      "outputs": [
        {
          "output_type": "stream",
          "text": [
            "[('<unk>', 0), ('the', 1), ('i', 2), ('and', 3), ('of', 4), ('a', 5), ('to', 6), ('was', 7), ('in', 8), ('that', 9)]\n"
          ],
          "name": "stdout"
        }
      ]
    },
    {
      "cell_type": "code",
      "metadata": {
        "id": "Vay2Nyi6TIsU",
        "outputId": "8359956b-c6e3-4d57-bcb8-3c6add39a410",
        "colab": {
          "base_uri": "https://localhost:8080/"
        }
      },
      "source": [
        "### tokens = list of words\n",
        "### tokens[i]= words in sentence with number i\n",
        "for i in [3,10]:\n",
        "    print('words:', tokens[i])\n",
        "### supply list of tokens\n",
        "    print('indices:', vocab[tokens[i]])"
      ],
      "execution_count": 162,
      "outputs": [
        {
          "output_type": "stream",
          "text": [
            "words: ['the', 'time', 'traveller', 'for', 'so', 'it', 'will', 'be', 'convenient', 'to', 'speak', 'of', 'him', 'was']\n",
            "indices: [1, 19, 70, 16, 36, 11, 118, 42, 707, 6, 661, 4, 108, 7]\n",
            "words: ['after', 'dinner', 'atmosphere', 'when', 'thought', 'runs', 'gracefully', 'free', 'of', 'the']\n",
            "indices: [109, 291, 1471, 78, 77, 3973, 3114, 909, 4, 1]\n"
          ],
          "name": "stdout"
        }
      ]
    },
    {
      "cell_type": "code",
      "metadata": {
        "id": "a5GuuB9GYvXe",
        "outputId": "5cbb1a37-00ea-4710-951b-b2ec33958587",
        "colab": {
          "base_uri": "https://localhost:8080/"
        }
      },
      "source": [
        "vocab[['the', 'runs', 'dinner','after']]"
      ],
      "execution_count": 163,
      "outputs": [
        {
          "output_type": "execute_result",
          "data": {
            "text/plain": [
              "[1, 3973, 291, 109]"
            ]
          },
          "metadata": {
            "tags": []
          },
          "execution_count": 163
        }
      ]
    },
    {
      "cell_type": "markdown",
      "metadata": {
        "id": "SCH_vSza-biq"
      },
      "source": [
        "#### Text frequences"
      ]
    },
    {
      "cell_type": "code",
      "metadata": {
        "id": "JzIVO8Ao-wMH",
        "outputId": "a046c41a-c8a2-4482-e7e0-582d3b98e83c",
        "colab": {
          "base_uri": "https://localhost:8080/"
        }
      },
      "source": [
        "# Since each text line is not necessisarily a sentence or a paragraph, we\n",
        "# concatenate all text lines\n",
        "corpus = [token for line in tokens for token in line]\n",
        "vocab = Vocab(corpus)\n",
        "### it is intersting to trace the most frequent words\n",
        "vocab.token_freqs[:200]"
      ],
      "execution_count": 164,
      "outputs": [
        {
          "output_type": "execute_result",
          "data": {
            "text/plain": [
              "[('the', 2272),\n",
              " ('i', 1266),\n",
              " ('and', 1245),\n",
              " ('of', 1160),\n",
              " ('a', 818),\n",
              " ('to', 684),\n",
              " ('was', 552),\n",
              " ('in', 543),\n",
              " ('that', 443),\n",
              " ('my', 441),\n",
              " ('it', 437),\n",
              " ('had', 354),\n",
              " ('me', 281),\n",
              " ('as', 270),\n",
              " ('at', 244),\n",
              " ('for', 221),\n",
              " ('with', 217),\n",
              " ('but', 205),\n",
              " ('time', 203),\n",
              " ('were', 158),\n",
              " ('this', 152),\n",
              " ('on', 137),\n",
              " ('you', 137),\n",
              " ('then', 134),\n",
              " ('his', 129),\n",
              " ('there', 126),\n",
              " ('he', 123),\n",
              " ('from', 122),\n",
              " ('have', 122),\n",
              " ('they', 122),\n",
              " ('all', 118),\n",
              " ('one', 118),\n",
              " ('into', 114),\n",
              " ('little', 114),\n",
              " ('not', 114),\n",
              " ('so', 113),\n",
              " ('upon', 113),\n",
              " ('came', 106),\n",
              " ('is', 106),\n",
              " ('by', 99),\n",
              " ('some', 94),\n",
              " ('be', 93),\n",
              " ('could', 92),\n",
              " ('no', 92),\n",
              " ('their', 91),\n",
              " ('said', 89),\n",
              " ('saw', 88),\n",
              " ('down', 87),\n",
              " ('an', 86),\n",
              " ('machine', 86),\n",
              " ('them', 86),\n",
              " ('very', 85),\n",
              " ('which', 85),\n",
              " ('or', 84),\n",
              " ('we', 82),\n",
              " ('now', 79),\n",
              " ('what', 77),\n",
              " ('been', 75),\n",
              " ('her', 75),\n",
              " ('like', 74),\n",
              " ('these', 74),\n",
              " ('out', 73),\n",
              " ('seemed', 72),\n",
              " ('man', 71),\n",
              " ('s', 71),\n",
              " ('up', 71),\n",
              " ('about', 69),\n",
              " ('its', 69),\n",
              " ('thing', 66),\n",
              " ('traveller', 63),\n",
              " ('again', 62),\n",
              " ('white', 60),\n",
              " ('would', 60),\n",
              " ('more', 59),\n",
              " ('felt', 57),\n",
              " ('our', 57),\n",
              " ('thought', 57),\n",
              " ('when', 56),\n",
              " ('weena', 54),\n",
              " ('still', 53),\n",
              " ('over', 52),\n",
              " ('even', 51),\n",
              " ('myself', 51),\n",
              " ('if', 50),\n",
              " ('first', 49),\n",
              " ('hand', 49),\n",
              " ('must', 49),\n",
              " ('through', 49),\n",
              " ('went', 49),\n",
              " ('are', 48),\n",
              " ('before', 48),\n",
              " ('last', 47),\n",
              " ('morlocks', 47),\n",
              " ('towards', 47),\n",
              " ('only', 46),\n",
              " ('people', 46),\n",
              " ('she', 46),\n",
              " ('see', 45),\n",
              " ('too', 45),\n",
              " ('found', 44),\n",
              " ('here', 43),\n",
              " ('how', 43),\n",
              " ('light', 43),\n",
              " ('great', 42),\n",
              " ('did', 41),\n",
              " ('back', 40),\n",
              " ('began', 40),\n",
              " ('him', 40),\n",
              " ('after', 38),\n",
              " ('any', 38),\n",
              " ('face', 38),\n",
              " ('way', 38),\n",
              " ('another', 37),\n",
              " ('away', 37),\n",
              " ('night', 37),\n",
              " ('same', 37),\n",
              " ('well', 37),\n",
              " ('will', 37),\n",
              " ('world', 37),\n",
              " ('made', 36),\n",
              " ('other', 36),\n",
              " ('round', 36),\n",
              " ('think', 36),\n",
              " ('eyes', 35),\n",
              " ('might', 35),\n",
              " ('mind', 35),\n",
              " ('perhaps', 35),\n",
              " ('us', 35),\n",
              " ('long', 34),\n",
              " ('looked', 34),\n",
              " ('own', 34),\n",
              " ('put', 34),\n",
              " ('than', 34),\n",
              " ('things', 34),\n",
              " ('among', 33),\n",
              " ('may', 33),\n",
              " ('sky', 33),\n",
              " ('under', 33),\n",
              " ('against', 32),\n",
              " ('day', 32),\n",
              " ('strange', 32),\n",
              " ('such', 32),\n",
              " ('took', 32),\n",
              " ('yet', 32),\n",
              " ('moment', 31),\n",
              " ('sun', 31),\n",
              " ('where', 31),\n",
              " ('black', 30),\n",
              " ('come', 30),\n",
              " ('fire', 30),\n",
              " ('know', 29),\n",
              " ('old', 29),\n",
              " ('darkness', 28),\n",
              " ('enough', 28),\n",
              " ('hands', 28),\n",
              " ('new', 28),\n",
              " ('off', 28),\n",
              " ('presently', 28),\n",
              " ('t', 28),\n",
              " ('two', 28),\n",
              " ('dark', 27),\n",
              " ('green', 27),\n",
              " ('most', 27),\n",
              " ('once', 27),\n",
              " ('grew', 26),\n",
              " ('left', 26),\n",
              " ('place', 26),\n",
              " ('red', 26),\n",
              " ('who', 26),\n",
              " ('end', 25),\n",
              " ('got', 25),\n",
              " ('psychologist', 25),\n",
              " ('space', 25),\n",
              " ('three', 25),\n",
              " ('fear', 24),\n",
              " ('looking', 24),\n",
              " ('medical', 24),\n",
              " ('stood', 24),\n",
              " ('above', 23),\n",
              " ('air', 23),\n",
              " ('almost', 23),\n",
              " ('head', 23),\n",
              " ('much', 23),\n",
              " ('should', 23),\n",
              " ('sphinx', 23),\n",
              " ('across', 22),\n",
              " ('can', 22),\n",
              " ('do', 22),\n",
              " ('far', 22),\n",
              " ('has', 22),\n",
              " ('minute', 22),\n",
              " ('sat', 22),\n",
              " ('seen', 22),\n",
              " ('suddenly', 22),\n",
              " ('tried', 22),\n",
              " ('along', 21),\n",
              " ('earth', 21),\n",
              " ('future', 21),\n",
              " ('get', 21),\n",
              " ('human', 21)]"
            ]
          },
          "metadata": {
            "tags": []
          },
          "execution_count": 164
        }
      ]
    },
    {
      "cell_type": "code",
      "metadata": {
        "id": "vjpje1XE-5pM",
        "outputId": "17a91fb1-4aca-41b0-84e8-6a592a57ae90",
        "colab": {
          "base_uri": "https://localhost:8080/",
          "height": 262
        }
      },
      "source": [
        "freqs = [freq for (token, freq) in vocab.token_freqs]\n",
        "d2l.plot(freqs, xlabel='token: x', ylabel='frequency: n(x)',\n",
        "         xscale='log', yscale='log')\n",
        "### 11 most frequent\n",
        "### [('the', 2272),\n",
        "### ('i', 1266),\n",
        "### ('and', 1245),\n",
        "### ('of', 1160),\n",
        "### ('a', 818),\n",
        "### ('to', 684),\n",
        "### ('was', 552),\n",
        "### ('in', 543),\n",
        "### ('that', 443),\n",
        "### ('my', 441),\n",
        "### ('it', 437)]"
      ],
      "execution_count": 165,
      "outputs": [
        {
          "output_type": "display_data",
          "data": {
            "text/plain": [
              "<Figure size 252x180 with 1 Axes>"
            ],
            "image/svg+xml": "<?xml version=\"1.0\" encoding=\"utf-8\" standalone=\"no\"?>\n<!DOCTYPE svg PUBLIC \"-//W3C//DTD SVG 1.1//EN\"\n  \"http://www.w3.org/Graphics/SVG/1.1/DTD/svg11.dtd\">\n<!-- Created with matplotlib (https://matplotlib.org/) -->\n<svg height=\"180.65625pt\" version=\"1.1\" viewBox=\"0 0 247.978125 180.65625\" width=\"247.978125pt\" xmlns=\"http://www.w3.org/2000/svg\" xmlns:xlink=\"http://www.w3.org/1999/xlink\">\n <defs>\n  <style type=\"text/css\">\n*{stroke-linecap:butt;stroke-linejoin:round;}\n  </style>\n </defs>\n <g id=\"figure_1\">\n  <g id=\"patch_1\">\n   <path d=\"M 0 180.65625 \nL 247.978125 180.65625 \nL 247.978125 0 \nL 0 0 \nz\n\" style=\"fill:none;\"/>\n  </g>\n  <g id=\"axes_1\">\n   <g id=\"patch_2\">\n    <path d=\"M 45.478125 143.1 \nL 240.778125 143.1 \nL 240.778125 7.2 \nL 45.478125 7.2 \nz\n\" style=\"fill:#ffffff;\"/>\n   </g>\n   <g id=\"matplotlib.axis_1\">\n    <g id=\"xtick_1\">\n     <g id=\"line2d_1\">\n      <path clip-path=\"url(#p069e68e1f9)\" d=\"M 54.355398 143.1 \nL 54.355398 7.2 \n\" style=\"fill:none;stroke:#b0b0b0;stroke-linecap:square;stroke-width:0.8;\"/>\n     </g>\n     <g id=\"line2d_2\">\n      <defs>\n       <path d=\"M 0 0 \nL 0 3.5 \n\" id=\"m863555e507\" style=\"stroke:#000000;stroke-width:0.8;\"/>\n      </defs>\n      <g>\n       <use style=\"stroke:#000000;stroke-width:0.8;\" x=\"54.355398\" xlink:href=\"#m863555e507\" y=\"143.1\"/>\n      </g>\n     </g>\n     <g id=\"text_1\">\n      <!-- $\\mathdefault{10^{0}}$ -->\n      <defs>\n       <path d=\"M 12.40625 8.296875 \nL 28.515625 8.296875 \nL 28.515625 63.921875 \nL 10.984375 60.40625 \nL 10.984375 69.390625 \nL 28.421875 72.90625 \nL 38.28125 72.90625 \nL 38.28125 8.296875 \nL 54.390625 8.296875 \nL 54.390625 0 \nL 12.40625 0 \nz\n\" id=\"DejaVuSans-49\"/>\n       <path d=\"M 31.78125 66.40625 \nQ 24.171875 66.40625 20.328125 58.90625 \nQ 16.5 51.421875 16.5 36.375 \nQ 16.5 21.390625 20.328125 13.890625 \nQ 24.171875 6.390625 31.78125 6.390625 \nQ 39.453125 6.390625 43.28125 13.890625 \nQ 47.125 21.390625 47.125 36.375 \nQ 47.125 51.421875 43.28125 58.90625 \nQ 39.453125 66.40625 31.78125 66.40625 \nz\nM 31.78125 74.21875 \nQ 44.046875 74.21875 50.515625 64.515625 \nQ 56.984375 54.828125 56.984375 36.375 \nQ 56.984375 17.96875 50.515625 8.265625 \nQ 44.046875 -1.421875 31.78125 -1.421875 \nQ 19.53125 -1.421875 13.0625 8.265625 \nQ 6.59375 17.96875 6.59375 36.375 \nQ 6.59375 54.828125 13.0625 64.515625 \nQ 19.53125 74.21875 31.78125 74.21875 \nz\n\" id=\"DejaVuSans-48\"/>\n      </defs>\n      <g transform=\"translate(45.555398 157.698438)scale(0.1 -0.1)\">\n       <use transform=\"translate(0 0.765625)\" xlink:href=\"#DejaVuSans-49\"/>\n       <use transform=\"translate(63.623047 0.765625)\" xlink:href=\"#DejaVuSans-48\"/>\n       <use transform=\"translate(128.203125 39.046875)scale(0.7)\" xlink:href=\"#DejaVuSans-48\"/>\n      </g>\n     </g>\n    </g>\n    <g id=\"xtick_2\">\n     <g id=\"line2d_3\">\n      <path clip-path=\"url(#p069e68e1f9)\" d=\"M 102.836063 143.1 \nL 102.836063 7.2 \n\" style=\"fill:none;stroke:#b0b0b0;stroke-linecap:square;stroke-width:0.8;\"/>\n     </g>\n     <g id=\"line2d_4\">\n      <g>\n       <use style=\"stroke:#000000;stroke-width:0.8;\" x=\"102.836063\" xlink:href=\"#m863555e507\" y=\"143.1\"/>\n      </g>\n     </g>\n     <g id=\"text_2\">\n      <!-- $\\mathdefault{10^{1}}$ -->\n      <g transform=\"translate(94.036063 157.698438)scale(0.1 -0.1)\">\n       <use transform=\"translate(0 0.684375)\" xlink:href=\"#DejaVuSans-49\"/>\n       <use transform=\"translate(63.623047 0.684375)\" xlink:href=\"#DejaVuSans-48\"/>\n       <use transform=\"translate(128.203125 38.965625)scale(0.7)\" xlink:href=\"#DejaVuSans-49\"/>\n      </g>\n     </g>\n    </g>\n    <g id=\"xtick_3\">\n     <g id=\"line2d_5\">\n      <path clip-path=\"url(#p069e68e1f9)\" d=\"M 151.316728 143.1 \nL 151.316728 7.2 \n\" style=\"fill:none;stroke:#b0b0b0;stroke-linecap:square;stroke-width:0.8;\"/>\n     </g>\n     <g id=\"line2d_6\">\n      <g>\n       <use style=\"stroke:#000000;stroke-width:0.8;\" x=\"151.316728\" xlink:href=\"#m863555e507\" y=\"143.1\"/>\n      </g>\n     </g>\n     <g id=\"text_3\">\n      <!-- $\\mathdefault{10^{2}}$ -->\n      <defs>\n       <path d=\"M 19.1875 8.296875 \nL 53.609375 8.296875 \nL 53.609375 0 \nL 7.328125 0 \nL 7.328125 8.296875 \nQ 12.9375 14.109375 22.625 23.890625 \nQ 32.328125 33.6875 34.8125 36.53125 \nQ 39.546875 41.84375 41.421875 45.53125 \nQ 43.3125 49.21875 43.3125 52.78125 \nQ 43.3125 58.59375 39.234375 62.25 \nQ 35.15625 65.921875 28.609375 65.921875 \nQ 23.96875 65.921875 18.8125 64.3125 \nQ 13.671875 62.703125 7.8125 59.421875 \nL 7.8125 69.390625 \nQ 13.765625 71.78125 18.9375 73 \nQ 24.125 74.21875 28.421875 74.21875 \nQ 39.75 74.21875 46.484375 68.546875 \nQ 53.21875 62.890625 53.21875 53.421875 \nQ 53.21875 48.921875 51.53125 44.890625 \nQ 49.859375 40.875 45.40625 35.40625 \nQ 44.1875 33.984375 37.640625 27.21875 \nQ 31.109375 20.453125 19.1875 8.296875 \nz\n\" id=\"DejaVuSans-50\"/>\n      </defs>\n      <g transform=\"translate(142.516728 157.698438)scale(0.1 -0.1)\">\n       <use transform=\"translate(0 0.765625)\" xlink:href=\"#DejaVuSans-49\"/>\n       <use transform=\"translate(63.623047 0.765625)\" xlink:href=\"#DejaVuSans-48\"/>\n       <use transform=\"translate(128.203125 39.046875)scale(0.7)\" xlink:href=\"#DejaVuSans-50\"/>\n      </g>\n     </g>\n    </g>\n    <g id=\"xtick_4\">\n     <g id=\"line2d_7\">\n      <path clip-path=\"url(#p069e68e1f9)\" d=\"M 199.797393 143.1 \nL 199.797393 7.2 \n\" style=\"fill:none;stroke:#b0b0b0;stroke-linecap:square;stroke-width:0.8;\"/>\n     </g>\n     <g id=\"line2d_8\">\n      <g>\n       <use style=\"stroke:#000000;stroke-width:0.8;\" x=\"199.797393\" xlink:href=\"#m863555e507\" y=\"143.1\"/>\n      </g>\n     </g>\n     <g id=\"text_4\">\n      <!-- $\\mathdefault{10^{3}}$ -->\n      <defs>\n       <path d=\"M 40.578125 39.3125 \nQ 47.65625 37.796875 51.625 33 \nQ 55.609375 28.21875 55.609375 21.1875 \nQ 55.609375 10.40625 48.1875 4.484375 \nQ 40.765625 -1.421875 27.09375 -1.421875 \nQ 22.515625 -1.421875 17.65625 -0.515625 \nQ 12.796875 0.390625 7.625 2.203125 \nL 7.625 11.71875 \nQ 11.71875 9.328125 16.59375 8.109375 \nQ 21.484375 6.890625 26.8125 6.890625 \nQ 36.078125 6.890625 40.9375 10.546875 \nQ 45.796875 14.203125 45.796875 21.1875 \nQ 45.796875 27.640625 41.28125 31.265625 \nQ 36.765625 34.90625 28.71875 34.90625 \nL 20.21875 34.90625 \nL 20.21875 43.015625 \nL 29.109375 43.015625 \nQ 36.375 43.015625 40.234375 45.921875 \nQ 44.09375 48.828125 44.09375 54.296875 \nQ 44.09375 59.90625 40.109375 62.90625 \nQ 36.140625 65.921875 28.71875 65.921875 \nQ 24.65625 65.921875 20.015625 65.03125 \nQ 15.375 64.15625 9.8125 62.3125 \nL 9.8125 71.09375 \nQ 15.4375 72.65625 20.34375 73.4375 \nQ 25.25 74.21875 29.59375 74.21875 \nQ 40.828125 74.21875 47.359375 69.109375 \nQ 53.90625 64.015625 53.90625 55.328125 \nQ 53.90625 49.265625 50.4375 45.09375 \nQ 46.96875 40.921875 40.578125 39.3125 \nz\n\" id=\"DejaVuSans-51\"/>\n      </defs>\n      <g transform=\"translate(190.997393 157.698438)scale(0.1 -0.1)\">\n       <use transform=\"translate(0 0.765625)\" xlink:href=\"#DejaVuSans-49\"/>\n       <use transform=\"translate(63.623047 0.765625)\" xlink:href=\"#DejaVuSans-48\"/>\n       <use transform=\"translate(128.203125 39.046875)scale(0.7)\" xlink:href=\"#DejaVuSans-51\"/>\n      </g>\n     </g>\n    </g>\n    <g id=\"xtick_5\">\n     <g id=\"line2d_9\">\n      <defs>\n       <path d=\"M 0 0 \nL 0 2 \n\" id=\"m054ccf459f\" style=\"stroke:#000000;stroke-width:0.6;\"/>\n      </defs>\n      <g>\n       <use style=\"stroke:#000000;stroke-width:0.6;\" x=\"46.845648\" xlink:href=\"#m054ccf459f\" y=\"143.1\"/>\n      </g>\n     </g>\n    </g>\n    <g id=\"xtick_6\">\n     <g id=\"line2d_10\">\n      <g>\n       <use style=\"stroke:#000000;stroke-width:0.6;\" x=\"49.657136\" xlink:href=\"#m054ccf459f\" y=\"143.1\"/>\n      </g>\n     </g>\n    </g>\n    <g id=\"xtick_7\">\n     <g id=\"line2d_11\">\n      <g>\n       <use style=\"stroke:#000000;stroke-width:0.6;\" x=\"52.137044\" xlink:href=\"#m054ccf459f\" y=\"143.1\"/>\n      </g>\n     </g>\n    </g>\n    <g id=\"xtick_8\">\n     <g id=\"line2d_12\">\n      <g>\n       <use style=\"stroke:#000000;stroke-width:0.6;\" x=\"68.949532\" xlink:href=\"#m054ccf459f\" y=\"143.1\"/>\n      </g>\n     </g>\n    </g>\n    <g id=\"xtick_9\">\n     <g id=\"line2d_13\">\n      <g>\n       <use style=\"stroke:#000000;stroke-width:0.6;\" x=\"77.486553\" xlink:href=\"#m054ccf459f\" y=\"143.1\"/>\n      </g>\n     </g>\n    </g>\n    <g id=\"xtick_10\">\n     <g id=\"line2d_14\">\n      <g>\n       <use style=\"stroke:#000000;stroke-width:0.6;\" x=\"83.543666\" xlink:href=\"#m054ccf459f\" y=\"143.1\"/>\n      </g>\n     </g>\n    </g>\n    <g id=\"xtick_11\">\n     <g id=\"line2d_15\">\n      <g>\n       <use style=\"stroke:#000000;stroke-width:0.6;\" x=\"88.241928\" xlink:href=\"#m054ccf459f\" y=\"143.1\"/>\n      </g>\n     </g>\n    </g>\n    <g id=\"xtick_12\">\n     <g id=\"line2d_16\">\n      <g>\n       <use style=\"stroke:#000000;stroke-width:0.6;\" x=\"92.080688\" xlink:href=\"#m054ccf459f\" y=\"143.1\"/>\n      </g>\n     </g>\n    </g>\n    <g id=\"xtick_13\">\n     <g id=\"line2d_17\">\n      <g>\n       <use style=\"stroke:#000000;stroke-width:0.6;\" x=\"95.326313\" xlink:href=\"#m054ccf459f\" y=\"143.1\"/>\n      </g>\n     </g>\n    </g>\n    <g id=\"xtick_14\">\n     <g id=\"line2d_18\">\n      <g>\n       <use style=\"stroke:#000000;stroke-width:0.6;\" x=\"98.137801\" xlink:href=\"#m054ccf459f\" y=\"143.1\"/>\n      </g>\n     </g>\n    </g>\n    <g id=\"xtick_15\">\n     <g id=\"line2d_19\">\n      <g>\n       <use style=\"stroke:#000000;stroke-width:0.6;\" x=\"100.617709\" xlink:href=\"#m054ccf459f\" y=\"143.1\"/>\n      </g>\n     </g>\n    </g>\n    <g id=\"xtick_16\">\n     <g id=\"line2d_20\">\n      <g>\n       <use style=\"stroke:#000000;stroke-width:0.6;\" x=\"117.430197\" xlink:href=\"#m054ccf459f\" y=\"143.1\"/>\n      </g>\n     </g>\n    </g>\n    <g id=\"xtick_17\">\n     <g id=\"line2d_21\">\n      <g>\n       <use style=\"stroke:#000000;stroke-width:0.6;\" x=\"125.967218\" xlink:href=\"#m054ccf459f\" y=\"143.1\"/>\n      </g>\n     </g>\n    </g>\n    <g id=\"xtick_18\">\n     <g id=\"line2d_22\">\n      <g>\n       <use style=\"stroke:#000000;stroke-width:0.6;\" x=\"132.024331\" xlink:href=\"#m054ccf459f\" y=\"143.1\"/>\n      </g>\n     </g>\n    </g>\n    <g id=\"xtick_19\">\n     <g id=\"line2d_23\">\n      <g>\n       <use style=\"stroke:#000000;stroke-width:0.6;\" x=\"136.722593\" xlink:href=\"#m054ccf459f\" y=\"143.1\"/>\n      </g>\n     </g>\n    </g>\n    <g id=\"xtick_20\">\n     <g id=\"line2d_24\">\n      <g>\n       <use style=\"stroke:#000000;stroke-width:0.6;\" x=\"140.561353\" xlink:href=\"#m054ccf459f\" y=\"143.1\"/>\n      </g>\n     </g>\n    </g>\n    <g id=\"xtick_21\">\n     <g id=\"line2d_25\">\n      <g>\n       <use style=\"stroke:#000000;stroke-width:0.6;\" x=\"143.806978\" xlink:href=\"#m054ccf459f\" y=\"143.1\"/>\n      </g>\n     </g>\n    </g>\n    <g id=\"xtick_22\">\n     <g id=\"line2d_26\">\n      <g>\n       <use style=\"stroke:#000000;stroke-width:0.6;\" x=\"146.618466\" xlink:href=\"#m054ccf459f\" y=\"143.1\"/>\n      </g>\n     </g>\n    </g>\n    <g id=\"xtick_23\">\n     <g id=\"line2d_27\">\n      <g>\n       <use style=\"stroke:#000000;stroke-width:0.6;\" x=\"149.098374\" xlink:href=\"#m054ccf459f\" y=\"143.1\"/>\n      </g>\n     </g>\n    </g>\n    <g id=\"xtick_24\">\n     <g id=\"line2d_28\">\n      <g>\n       <use style=\"stroke:#000000;stroke-width:0.6;\" x=\"165.910862\" xlink:href=\"#m054ccf459f\" y=\"143.1\"/>\n      </g>\n     </g>\n    </g>\n    <g id=\"xtick_25\">\n     <g id=\"line2d_29\">\n      <g>\n       <use style=\"stroke:#000000;stroke-width:0.6;\" x=\"174.447883\" xlink:href=\"#m054ccf459f\" y=\"143.1\"/>\n      </g>\n     </g>\n    </g>\n    <g id=\"xtick_26\">\n     <g id=\"line2d_30\">\n      <g>\n       <use style=\"stroke:#000000;stroke-width:0.6;\" x=\"180.504996\" xlink:href=\"#m054ccf459f\" y=\"143.1\"/>\n      </g>\n     </g>\n    </g>\n    <g id=\"xtick_27\">\n     <g id=\"line2d_31\">\n      <g>\n       <use style=\"stroke:#000000;stroke-width:0.6;\" x=\"185.203258\" xlink:href=\"#m054ccf459f\" y=\"143.1\"/>\n      </g>\n     </g>\n    </g>\n    <g id=\"xtick_28\">\n     <g id=\"line2d_32\">\n      <g>\n       <use style=\"stroke:#000000;stroke-width:0.6;\" x=\"189.042018\" xlink:href=\"#m054ccf459f\" y=\"143.1\"/>\n      </g>\n     </g>\n    </g>\n    <g id=\"xtick_29\">\n     <g id=\"line2d_33\">\n      <g>\n       <use style=\"stroke:#000000;stroke-width:0.6;\" x=\"192.287643\" xlink:href=\"#m054ccf459f\" y=\"143.1\"/>\n      </g>\n     </g>\n    </g>\n    <g id=\"xtick_30\">\n     <g id=\"line2d_34\">\n      <g>\n       <use style=\"stroke:#000000;stroke-width:0.6;\" x=\"195.099131\" xlink:href=\"#m054ccf459f\" y=\"143.1\"/>\n      </g>\n     </g>\n    </g>\n    <g id=\"xtick_31\">\n     <g id=\"line2d_35\">\n      <g>\n       <use style=\"stroke:#000000;stroke-width:0.6;\" x=\"197.579039\" xlink:href=\"#m054ccf459f\" y=\"143.1\"/>\n      </g>\n     </g>\n    </g>\n    <g id=\"xtick_32\">\n     <g id=\"line2d_36\">\n      <g>\n       <use style=\"stroke:#000000;stroke-width:0.6;\" x=\"214.391527\" xlink:href=\"#m054ccf459f\" y=\"143.1\"/>\n      </g>\n     </g>\n    </g>\n    <g id=\"xtick_33\">\n     <g id=\"line2d_37\">\n      <g>\n       <use style=\"stroke:#000000;stroke-width:0.6;\" x=\"222.928548\" xlink:href=\"#m054ccf459f\" y=\"143.1\"/>\n      </g>\n     </g>\n    </g>\n    <g id=\"xtick_34\">\n     <g id=\"line2d_38\">\n      <g>\n       <use style=\"stroke:#000000;stroke-width:0.6;\" x=\"228.985661\" xlink:href=\"#m054ccf459f\" y=\"143.1\"/>\n      </g>\n     </g>\n    </g>\n    <g id=\"xtick_35\">\n     <g id=\"line2d_39\">\n      <g>\n       <use style=\"stroke:#000000;stroke-width:0.6;\" x=\"233.683923\" xlink:href=\"#m054ccf459f\" y=\"143.1\"/>\n      </g>\n     </g>\n    </g>\n    <g id=\"xtick_36\">\n     <g id=\"line2d_40\">\n      <g>\n       <use style=\"stroke:#000000;stroke-width:0.6;\" x=\"237.522683\" xlink:href=\"#m054ccf459f\" y=\"143.1\"/>\n      </g>\n     </g>\n    </g>\n    <g id=\"xtick_37\">\n     <g id=\"line2d_41\">\n      <g>\n       <use style=\"stroke:#000000;stroke-width:0.6;\" x=\"240.768308\" xlink:href=\"#m054ccf459f\" y=\"143.1\"/>\n      </g>\n     </g>\n    </g>\n    <g id=\"text_5\">\n     <!-- token: x -->\n     <defs>\n      <path d=\"M 18.3125 70.21875 \nL 18.3125 54.6875 \nL 36.8125 54.6875 \nL 36.8125 47.703125 \nL 18.3125 47.703125 \nL 18.3125 18.015625 \nQ 18.3125 11.328125 20.140625 9.421875 \nQ 21.96875 7.515625 27.59375 7.515625 \nL 36.8125 7.515625 \nL 36.8125 0 \nL 27.59375 0 \nQ 17.1875 0 13.234375 3.875 \nQ 9.28125 7.765625 9.28125 18.015625 \nL 9.28125 47.703125 \nL 2.6875 47.703125 \nL 2.6875 54.6875 \nL 9.28125 54.6875 \nL 9.28125 70.21875 \nz\n\" id=\"DejaVuSans-116\"/>\n      <path d=\"M 30.609375 48.390625 \nQ 23.390625 48.390625 19.1875 42.75 \nQ 14.984375 37.109375 14.984375 27.296875 \nQ 14.984375 17.484375 19.15625 11.84375 \nQ 23.34375 6.203125 30.609375 6.203125 \nQ 37.796875 6.203125 41.984375 11.859375 \nQ 46.1875 17.53125 46.1875 27.296875 \nQ 46.1875 37.015625 41.984375 42.703125 \nQ 37.796875 48.390625 30.609375 48.390625 \nz\nM 30.609375 56 \nQ 42.328125 56 49.015625 48.375 \nQ 55.71875 40.765625 55.71875 27.296875 \nQ 55.71875 13.875 49.015625 6.21875 \nQ 42.328125 -1.421875 30.609375 -1.421875 \nQ 18.84375 -1.421875 12.171875 6.21875 \nQ 5.515625 13.875 5.515625 27.296875 \nQ 5.515625 40.765625 12.171875 48.375 \nQ 18.84375 56 30.609375 56 \nz\n\" id=\"DejaVuSans-111\"/>\n      <path d=\"M 9.078125 75.984375 \nL 18.109375 75.984375 \nL 18.109375 31.109375 \nL 44.921875 54.6875 \nL 56.390625 54.6875 \nL 27.390625 29.109375 \nL 57.625 0 \nL 45.90625 0 \nL 18.109375 26.703125 \nL 18.109375 0 \nL 9.078125 0 \nz\n\" id=\"DejaVuSans-107\"/>\n      <path d=\"M 56.203125 29.59375 \nL 56.203125 25.203125 \nL 14.890625 25.203125 \nQ 15.484375 15.921875 20.484375 11.0625 \nQ 25.484375 6.203125 34.421875 6.203125 \nQ 39.59375 6.203125 44.453125 7.46875 \nQ 49.3125 8.734375 54.109375 11.28125 \nL 54.109375 2.78125 \nQ 49.265625 0.734375 44.1875 -0.34375 \nQ 39.109375 -1.421875 33.890625 -1.421875 \nQ 20.796875 -1.421875 13.15625 6.1875 \nQ 5.515625 13.8125 5.515625 26.8125 \nQ 5.515625 40.234375 12.765625 48.109375 \nQ 20.015625 56 32.328125 56 \nQ 43.359375 56 49.78125 48.890625 \nQ 56.203125 41.796875 56.203125 29.59375 \nz\nM 47.21875 32.234375 \nQ 47.125 39.59375 43.09375 43.984375 \nQ 39.0625 48.390625 32.421875 48.390625 \nQ 24.90625 48.390625 20.390625 44.140625 \nQ 15.875 39.890625 15.1875 32.171875 \nz\n\" id=\"DejaVuSans-101\"/>\n      <path d=\"M 54.890625 33.015625 \nL 54.890625 0 \nL 45.90625 0 \nL 45.90625 32.71875 \nQ 45.90625 40.484375 42.875 44.328125 \nQ 39.84375 48.1875 33.796875 48.1875 \nQ 26.515625 48.1875 22.3125 43.546875 \nQ 18.109375 38.921875 18.109375 30.90625 \nL 18.109375 0 \nL 9.078125 0 \nL 9.078125 54.6875 \nL 18.109375 54.6875 \nL 18.109375 46.1875 \nQ 21.34375 51.125 25.703125 53.5625 \nQ 30.078125 56 35.796875 56 \nQ 45.21875 56 50.046875 50.171875 \nQ 54.890625 44.34375 54.890625 33.015625 \nz\n\" id=\"DejaVuSans-110\"/>\n      <path d=\"M 11.71875 12.40625 \nL 22.015625 12.40625 \nL 22.015625 0 \nL 11.71875 0 \nz\nM 11.71875 51.703125 \nL 22.015625 51.703125 \nL 22.015625 39.3125 \nL 11.71875 39.3125 \nz\n\" id=\"DejaVuSans-58\"/>\n      <path id=\"DejaVuSans-32\"/>\n      <path d=\"M 54.890625 54.6875 \nL 35.109375 28.078125 \nL 55.90625 0 \nL 45.3125 0 \nL 29.390625 21.484375 \nL 13.484375 0 \nL 2.875 0 \nL 24.125 28.609375 \nL 4.6875 54.6875 \nL 15.28125 54.6875 \nL 29.78125 35.203125 \nL 44.28125 54.6875 \nz\n\" id=\"DejaVuSans-120\"/>\n     </defs>\n     <g transform=\"translate(122.916406 171.376563)scale(0.1 -0.1)\">\n      <use xlink:href=\"#DejaVuSans-116\"/>\n      <use x=\"39.208984\" xlink:href=\"#DejaVuSans-111\"/>\n      <use x=\"100.390625\" xlink:href=\"#DejaVuSans-107\"/>\n      <use x=\"154.675781\" xlink:href=\"#DejaVuSans-101\"/>\n      <use x=\"216.199219\" xlink:href=\"#DejaVuSans-110\"/>\n      <use x=\"279.578125\" xlink:href=\"#DejaVuSans-58\"/>\n      <use x=\"313.269531\" xlink:href=\"#DejaVuSans-32\"/>\n      <use x=\"345.056641\" xlink:href=\"#DejaVuSans-120\"/>\n     </g>\n    </g>\n   </g>\n   <g id=\"matplotlib.axis_2\">\n    <g id=\"ytick_1\">\n     <g id=\"line2d_42\">\n      <path clip-path=\"url(#p069e68e1f9)\" d=\"M 45.478125 136.922727 \nL 240.778125 136.922727 \n\" style=\"fill:none;stroke:#b0b0b0;stroke-linecap:square;stroke-width:0.8;\"/>\n     </g>\n     <g id=\"line2d_43\">\n      <defs>\n       <path d=\"M 0 0 \nL -3.5 0 \n\" id=\"m69ff29ef67\" style=\"stroke:#000000;stroke-width:0.8;\"/>\n      </defs>\n      <g>\n       <use style=\"stroke:#000000;stroke-width:0.8;\" x=\"45.478125\" xlink:href=\"#m69ff29ef67\" y=\"136.922727\"/>\n      </g>\n     </g>\n     <g id=\"text_6\">\n      <!-- $\\mathdefault{10^{0}}$ -->\n      <g transform=\"translate(20.878125 140.721946)scale(0.1 -0.1)\">\n       <use transform=\"translate(0 0.765625)\" xlink:href=\"#DejaVuSans-49\"/>\n       <use transform=\"translate(63.623047 0.765625)\" xlink:href=\"#DejaVuSans-48\"/>\n       <use transform=\"translate(128.203125 39.046875)scale(0.7)\" xlink:href=\"#DejaVuSans-48\"/>\n      </g>\n     </g>\n    </g>\n    <g id=\"ytick_2\">\n     <g id=\"line2d_44\">\n      <path clip-path=\"url(#p069e68e1f9)\" d=\"M 45.478125 100.1139 \nL 240.778125 100.1139 \n\" style=\"fill:none;stroke:#b0b0b0;stroke-linecap:square;stroke-width:0.8;\"/>\n     </g>\n     <g id=\"line2d_45\">\n      <g>\n       <use style=\"stroke:#000000;stroke-width:0.8;\" x=\"45.478125\" xlink:href=\"#m69ff29ef67\" y=\"100.1139\"/>\n      </g>\n     </g>\n     <g id=\"text_7\">\n      <!-- $\\mathdefault{10^{1}}$ -->\n      <g transform=\"translate(20.878125 103.913119)scale(0.1 -0.1)\">\n       <use transform=\"translate(0 0.684375)\" xlink:href=\"#DejaVuSans-49\"/>\n       <use transform=\"translate(63.623047 0.684375)\" xlink:href=\"#DejaVuSans-48\"/>\n       <use transform=\"translate(128.203125 38.965625)scale(0.7)\" xlink:href=\"#DejaVuSans-49\"/>\n      </g>\n     </g>\n    </g>\n    <g id=\"ytick_3\">\n     <g id=\"line2d_46\">\n      <path clip-path=\"url(#p069e68e1f9)\" d=\"M 45.478125 63.305073 \nL 240.778125 63.305073 \n\" style=\"fill:none;stroke:#b0b0b0;stroke-linecap:square;stroke-width:0.8;\"/>\n     </g>\n     <g id=\"line2d_47\">\n      <g>\n       <use style=\"stroke:#000000;stroke-width:0.8;\" x=\"45.478125\" xlink:href=\"#m69ff29ef67\" y=\"63.305073\"/>\n      </g>\n     </g>\n     <g id=\"text_8\">\n      <!-- $\\mathdefault{10^{2}}$ -->\n      <g transform=\"translate(20.878125 67.104291)scale(0.1 -0.1)\">\n       <use transform=\"translate(0 0.765625)\" xlink:href=\"#DejaVuSans-49\"/>\n       <use transform=\"translate(63.623047 0.765625)\" xlink:href=\"#DejaVuSans-48\"/>\n       <use transform=\"translate(128.203125 39.046875)scale(0.7)\" xlink:href=\"#DejaVuSans-50\"/>\n      </g>\n     </g>\n    </g>\n    <g id=\"ytick_4\">\n     <g id=\"line2d_48\">\n      <path clip-path=\"url(#p069e68e1f9)\" d=\"M 45.478125 26.496245 \nL 240.778125 26.496245 \n\" style=\"fill:none;stroke:#b0b0b0;stroke-linecap:square;stroke-width:0.8;\"/>\n     </g>\n     <g id=\"line2d_49\">\n      <g>\n       <use style=\"stroke:#000000;stroke-width:0.8;\" x=\"45.478125\" xlink:href=\"#m69ff29ef67\" y=\"26.496245\"/>\n      </g>\n     </g>\n     <g id=\"text_9\">\n      <!-- $\\mathdefault{10^{3}}$ -->\n      <g transform=\"translate(20.878125 30.295464)scale(0.1 -0.1)\">\n       <use transform=\"translate(0 0.765625)\" xlink:href=\"#DejaVuSans-49\"/>\n       <use transform=\"translate(63.623047 0.765625)\" xlink:href=\"#DejaVuSans-48\"/>\n       <use transform=\"translate(128.203125 39.046875)scale(0.7)\" xlink:href=\"#DejaVuSans-51\"/>\n      </g>\n     </g>\n    </g>\n    <g id=\"ytick_5\">\n     <g id=\"line2d_50\">\n      <defs>\n       <path d=\"M 0 0 \nL -2 0 \n\" id=\"m2304fc029d\" style=\"stroke:#000000;stroke-width:0.6;\"/>\n      </defs>\n      <g>\n       <use style=\"stroke:#000000;stroke-width:0.6;\" x=\"45.478125\" xlink:href=\"#m2304fc029d\" y=\"142.624487\"/>\n      </g>\n     </g>\n    </g>\n    <g id=\"ytick_6\">\n     <g id=\"line2d_51\">\n      <g>\n       <use style=\"stroke:#000000;stroke-width:0.6;\" x=\"45.478125\" xlink:href=\"#m2304fc029d\" y=\"140.489871\"/>\n      </g>\n     </g>\n    </g>\n    <g id=\"ytick_7\">\n     <g id=\"line2d_52\">\n      <g>\n       <use style=\"stroke:#000000;stroke-width:0.6;\" x=\"45.478125\" xlink:href=\"#m2304fc029d\" y=\"138.607007\"/>\n      </g>\n     </g>\n    </g>\n    <g id=\"ytick_8\">\n     <g id=\"line2d_53\">\n      <g>\n       <use style=\"stroke:#000000;stroke-width:0.6;\" x=\"45.478125\" xlink:href=\"#m2304fc029d\" y=\"125.842166\"/>\n      </g>\n     </g>\n    </g>\n    <g id=\"ytick_9\">\n     <g id=\"line2d_54\">\n      <g>\n       <use style=\"stroke:#000000;stroke-width:0.6;\" x=\"45.478125\" xlink:href=\"#m2304fc029d\" y=\"119.360453\"/>\n      </g>\n     </g>\n    </g>\n    <g id=\"ytick_10\">\n     <g id=\"line2d_55\">\n      <g>\n       <use style=\"stroke:#000000;stroke-width:0.6;\" x=\"45.478125\" xlink:href=\"#m2304fc029d\" y=\"114.761605\"/>\n      </g>\n     </g>\n    </g>\n    <g id=\"ytick_11\">\n     <g id=\"line2d_56\">\n      <g>\n       <use style=\"stroke:#000000;stroke-width:0.6;\" x=\"45.478125\" xlink:href=\"#m2304fc029d\" y=\"111.194461\"/>\n      </g>\n     </g>\n    </g>\n    <g id=\"ytick_12\">\n     <g id=\"line2d_57\">\n      <g>\n       <use style=\"stroke:#000000;stroke-width:0.6;\" x=\"45.478125\" xlink:href=\"#m2304fc029d\" y=\"108.279892\"/>\n      </g>\n     </g>\n    </g>\n    <g id=\"ytick_13\">\n     <g id=\"line2d_58\">\n      <g>\n       <use style=\"stroke:#000000;stroke-width:0.6;\" x=\"45.478125\" xlink:href=\"#m2304fc029d\" y=\"105.815659\"/>\n      </g>\n     </g>\n    </g>\n    <g id=\"ytick_14\">\n     <g id=\"line2d_59\">\n      <g>\n       <use style=\"stroke:#000000;stroke-width:0.6;\" x=\"45.478125\" xlink:href=\"#m2304fc029d\" y=\"103.681044\"/>\n      </g>\n     </g>\n    </g>\n    <g id=\"ytick_15\">\n     <g id=\"line2d_60\">\n      <g>\n       <use style=\"stroke:#000000;stroke-width:0.6;\" x=\"45.478125\" xlink:href=\"#m2304fc029d\" y=\"101.79818\"/>\n      </g>\n     </g>\n    </g>\n    <g id=\"ytick_16\">\n     <g id=\"line2d_61\">\n      <g>\n       <use style=\"stroke:#000000;stroke-width:0.6;\" x=\"45.478125\" xlink:href=\"#m2304fc029d\" y=\"89.033339\"/>\n      </g>\n     </g>\n    </g>\n    <g id=\"ytick_17\">\n     <g id=\"line2d_62\">\n      <g>\n       <use style=\"stroke:#000000;stroke-width:0.6;\" x=\"45.478125\" xlink:href=\"#m2304fc029d\" y=\"82.551626\"/>\n      </g>\n     </g>\n    </g>\n    <g id=\"ytick_18\">\n     <g id=\"line2d_63\">\n      <g>\n       <use style=\"stroke:#000000;stroke-width:0.6;\" x=\"45.478125\" xlink:href=\"#m2304fc029d\" y=\"77.952778\"/>\n      </g>\n     </g>\n    </g>\n    <g id=\"ytick_19\">\n     <g id=\"line2d_64\">\n      <g>\n       <use style=\"stroke:#000000;stroke-width:0.6;\" x=\"45.478125\" xlink:href=\"#m2304fc029d\" y=\"74.385634\"/>\n      </g>\n     </g>\n    </g>\n    <g id=\"ytick_20\">\n     <g id=\"line2d_65\">\n      <g>\n       <use style=\"stroke:#000000;stroke-width:0.6;\" x=\"45.478125\" xlink:href=\"#m2304fc029d\" y=\"71.471065\"/>\n      </g>\n     </g>\n    </g>\n    <g id=\"ytick_21\">\n     <g id=\"line2d_66\">\n      <g>\n       <use style=\"stroke:#000000;stroke-width:0.6;\" x=\"45.478125\" xlink:href=\"#m2304fc029d\" y=\"69.006832\"/>\n      </g>\n     </g>\n    </g>\n    <g id=\"ytick_22\">\n     <g id=\"line2d_67\">\n      <g>\n       <use style=\"stroke:#000000;stroke-width:0.6;\" x=\"45.478125\" xlink:href=\"#m2304fc029d\" y=\"66.872217\"/>\n      </g>\n     </g>\n    </g>\n    <g id=\"ytick_23\">\n     <g id=\"line2d_68\">\n      <g>\n       <use style=\"stroke:#000000;stroke-width:0.6;\" x=\"45.478125\" xlink:href=\"#m2304fc029d\" y=\"64.989352\"/>\n      </g>\n     </g>\n    </g>\n    <g id=\"ytick_24\">\n     <g id=\"line2d_69\">\n      <g>\n       <use style=\"stroke:#000000;stroke-width:0.6;\" x=\"45.478125\" xlink:href=\"#m2304fc029d\" y=\"52.224511\"/>\n      </g>\n     </g>\n    </g>\n    <g id=\"ytick_25\">\n     <g id=\"line2d_70\">\n      <g>\n       <use style=\"stroke:#000000;stroke-width:0.6;\" x=\"45.478125\" xlink:href=\"#m2304fc029d\" y=\"45.742799\"/>\n      </g>\n     </g>\n    </g>\n    <g id=\"ytick_26\">\n     <g id=\"line2d_71\">\n      <g>\n       <use style=\"stroke:#000000;stroke-width:0.6;\" x=\"45.478125\" xlink:href=\"#m2304fc029d\" y=\"41.14395\"/>\n      </g>\n     </g>\n    </g>\n    <g id=\"ytick_27\">\n     <g id=\"line2d_72\">\n      <g>\n       <use style=\"stroke:#000000;stroke-width:0.6;\" x=\"45.478125\" xlink:href=\"#m2304fc029d\" y=\"37.576806\"/>\n      </g>\n     </g>\n    </g>\n    <g id=\"ytick_28\">\n     <g id=\"line2d_73\">\n      <g>\n       <use style=\"stroke:#000000;stroke-width:0.6;\" x=\"45.478125\" xlink:href=\"#m2304fc029d\" y=\"34.662238\"/>\n      </g>\n     </g>\n    </g>\n    <g id=\"ytick_29\">\n     <g id=\"line2d_74\">\n      <g>\n       <use style=\"stroke:#000000;stroke-width:0.6;\" x=\"45.478125\" xlink:href=\"#m2304fc029d\" y=\"32.198005\"/>\n      </g>\n     </g>\n    </g>\n    <g id=\"ytick_30\">\n     <g id=\"line2d_75\">\n      <g>\n       <use style=\"stroke:#000000;stroke-width:0.6;\" x=\"45.478125\" xlink:href=\"#m2304fc029d\" y=\"30.063389\"/>\n      </g>\n     </g>\n    </g>\n    <g id=\"ytick_31\">\n     <g id=\"line2d_76\">\n      <g>\n       <use style=\"stroke:#000000;stroke-width:0.6;\" x=\"45.478125\" xlink:href=\"#m2304fc029d\" y=\"28.180525\"/>\n      </g>\n     </g>\n    </g>\n    <g id=\"ytick_32\">\n     <g id=\"line2d_77\">\n      <g>\n       <use style=\"stroke:#000000;stroke-width:0.6;\" x=\"45.478125\" xlink:href=\"#m2304fc029d\" y=\"15.415684\"/>\n      </g>\n     </g>\n    </g>\n    <g id=\"ytick_33\">\n     <g id=\"line2d_78\">\n      <g>\n       <use style=\"stroke:#000000;stroke-width:0.6;\" x=\"45.478125\" xlink:href=\"#m2304fc029d\" y=\"8.933971\"/>\n      </g>\n     </g>\n    </g>\n    <g id=\"text_10\">\n     <!-- frequency: n(x) -->\n     <defs>\n      <path d=\"M 37.109375 75.984375 \nL 37.109375 68.5 \nL 28.515625 68.5 \nQ 23.6875 68.5 21.796875 66.546875 \nQ 19.921875 64.59375 19.921875 59.515625 \nL 19.921875 54.6875 \nL 34.71875 54.6875 \nL 34.71875 47.703125 \nL 19.921875 47.703125 \nL 19.921875 0 \nL 10.890625 0 \nL 10.890625 47.703125 \nL 2.296875 47.703125 \nL 2.296875 54.6875 \nL 10.890625 54.6875 \nL 10.890625 58.5 \nQ 10.890625 67.625 15.140625 71.796875 \nQ 19.390625 75.984375 28.609375 75.984375 \nz\n\" id=\"DejaVuSans-102\"/>\n      <path d=\"M 41.109375 46.296875 \nQ 39.59375 47.171875 37.8125 47.578125 \nQ 36.03125 48 33.890625 48 \nQ 26.265625 48 22.1875 43.046875 \nQ 18.109375 38.09375 18.109375 28.8125 \nL 18.109375 0 \nL 9.078125 0 \nL 9.078125 54.6875 \nL 18.109375 54.6875 \nL 18.109375 46.1875 \nQ 20.953125 51.171875 25.484375 53.578125 \nQ 30.03125 56 36.53125 56 \nQ 37.453125 56 38.578125 55.875 \nQ 39.703125 55.765625 41.0625 55.515625 \nz\n\" id=\"DejaVuSans-114\"/>\n      <path d=\"M 14.796875 27.296875 \nQ 14.796875 17.390625 18.875 11.75 \nQ 22.953125 6.109375 30.078125 6.109375 \nQ 37.203125 6.109375 41.296875 11.75 \nQ 45.40625 17.390625 45.40625 27.296875 \nQ 45.40625 37.203125 41.296875 42.84375 \nQ 37.203125 48.484375 30.078125 48.484375 \nQ 22.953125 48.484375 18.875 42.84375 \nQ 14.796875 37.203125 14.796875 27.296875 \nz\nM 45.40625 8.203125 \nQ 42.578125 3.328125 38.25 0.953125 \nQ 33.9375 -1.421875 27.875 -1.421875 \nQ 17.96875 -1.421875 11.734375 6.484375 \nQ 5.515625 14.40625 5.515625 27.296875 \nQ 5.515625 40.1875 11.734375 48.09375 \nQ 17.96875 56 27.875 56 \nQ 33.9375 56 38.25 53.625 \nQ 42.578125 51.265625 45.40625 46.390625 \nL 45.40625 54.6875 \nL 54.390625 54.6875 \nL 54.390625 -20.796875 \nL 45.40625 -20.796875 \nz\n\" id=\"DejaVuSans-113\"/>\n      <path d=\"M 8.5 21.578125 \nL 8.5 54.6875 \nL 17.484375 54.6875 \nL 17.484375 21.921875 \nQ 17.484375 14.15625 20.5 10.265625 \nQ 23.53125 6.390625 29.59375 6.390625 \nQ 36.859375 6.390625 41.078125 11.03125 \nQ 45.3125 15.671875 45.3125 23.6875 \nL 45.3125 54.6875 \nL 54.296875 54.6875 \nL 54.296875 0 \nL 45.3125 0 \nL 45.3125 8.40625 \nQ 42.046875 3.421875 37.71875 1 \nQ 33.40625 -1.421875 27.6875 -1.421875 \nQ 18.265625 -1.421875 13.375 4.4375 \nQ 8.5 10.296875 8.5 21.578125 \nz\nM 31.109375 56 \nz\n\" id=\"DejaVuSans-117\"/>\n      <path d=\"M 48.78125 52.59375 \nL 48.78125 44.1875 \nQ 44.96875 46.296875 41.140625 47.34375 \nQ 37.3125 48.390625 33.40625 48.390625 \nQ 24.65625 48.390625 19.8125 42.84375 \nQ 14.984375 37.3125 14.984375 27.296875 \nQ 14.984375 17.28125 19.8125 11.734375 \nQ 24.65625 6.203125 33.40625 6.203125 \nQ 37.3125 6.203125 41.140625 7.25 \nQ 44.96875 8.296875 48.78125 10.40625 \nL 48.78125 2.09375 \nQ 45.015625 0.34375 40.984375 -0.53125 \nQ 36.96875 -1.421875 32.421875 -1.421875 \nQ 20.0625 -1.421875 12.78125 6.34375 \nQ 5.515625 14.109375 5.515625 27.296875 \nQ 5.515625 40.671875 12.859375 48.328125 \nQ 20.21875 56 33.015625 56 \nQ 37.15625 56 41.109375 55.140625 \nQ 45.0625 54.296875 48.78125 52.59375 \nz\n\" id=\"DejaVuSans-99\"/>\n      <path d=\"M 32.171875 -5.078125 \nQ 28.375 -14.84375 24.75 -17.8125 \nQ 21.140625 -20.796875 15.09375 -20.796875 \nL 7.90625 -20.796875 \nL 7.90625 -13.28125 \nL 13.1875 -13.28125 \nQ 16.890625 -13.28125 18.9375 -11.515625 \nQ 21 -9.765625 23.484375 -3.21875 \nL 25.09375 0.875 \nL 2.984375 54.6875 \nL 12.5 54.6875 \nL 29.59375 11.921875 \nL 46.6875 54.6875 \nL 56.203125 54.6875 \nz\n\" id=\"DejaVuSans-121\"/>\n      <path d=\"M 31 75.875 \nQ 24.46875 64.65625 21.28125 53.65625 \nQ 18.109375 42.671875 18.109375 31.390625 \nQ 18.109375 20.125 21.3125 9.0625 \nQ 24.515625 -2 31 -13.1875 \nL 23.1875 -13.1875 \nQ 15.875 -1.703125 12.234375 9.375 \nQ 8.59375 20.453125 8.59375 31.390625 \nQ 8.59375 42.28125 12.203125 53.3125 \nQ 15.828125 64.359375 23.1875 75.875 \nz\n\" id=\"DejaVuSans-40\"/>\n      <path d=\"M 8.015625 75.875 \nL 15.828125 75.875 \nQ 23.140625 64.359375 26.78125 53.3125 \nQ 30.421875 42.28125 30.421875 31.390625 \nQ 30.421875 20.453125 26.78125 9.375 \nQ 23.140625 -1.703125 15.828125 -13.1875 \nL 8.015625 -13.1875 \nQ 14.5 -2 17.703125 9.0625 \nQ 20.90625 20.125 20.90625 31.390625 \nQ 20.90625 42.671875 17.703125 53.65625 \nQ 14.5 64.65625 8.015625 75.875 \nz\n\" id=\"DejaVuSans-41\"/>\n     </defs>\n     <g transform=\"translate(14.798438 113.167187)rotate(-90)scale(0.1 -0.1)\">\n      <use xlink:href=\"#DejaVuSans-102\"/>\n      <use x=\"35.205078\" xlink:href=\"#DejaVuSans-114\"/>\n      <use x=\"74.068359\" xlink:href=\"#DejaVuSans-101\"/>\n      <use x=\"135.591797\" xlink:href=\"#DejaVuSans-113\"/>\n      <use x=\"199.068359\" xlink:href=\"#DejaVuSans-117\"/>\n      <use x=\"262.447266\" xlink:href=\"#DejaVuSans-101\"/>\n      <use x=\"323.970703\" xlink:href=\"#DejaVuSans-110\"/>\n      <use x=\"387.349609\" xlink:href=\"#DejaVuSans-99\"/>\n      <use x=\"442.330078\" xlink:href=\"#DejaVuSans-121\"/>\n      <use x=\"494.259766\" xlink:href=\"#DejaVuSans-58\"/>\n      <use x=\"527.951172\" xlink:href=\"#DejaVuSans-32\"/>\n      <use x=\"559.738281\" xlink:href=\"#DejaVuSans-110\"/>\n      <use x=\"623.117188\" xlink:href=\"#DejaVuSans-40\"/>\n      <use x=\"662.130859\" xlink:href=\"#DejaVuSans-120\"/>\n      <use x=\"721.310547\" xlink:href=\"#DejaVuSans-41\"/>\n     </g>\n    </g>\n   </g>\n   <g id=\"line2d_79\">\n    <path clip-path=\"url(#p069e68e1f9)\" d=\"M -1 22.715107 \nL 54.355398 22.725781 \nL 68.949532 22.993173 \nL 77.486553 24.123622 \nL 83.543666 29.707694 \nL 88.241928 32.567637 \nL 92.080688 35.995165 \nL 95.326313 36.257953 \nL 98.137801 39.511709 \nL 102.836063 39.729702 \nL 104.842808 43.096906 \nL 106.674822 46.788719 \nL 108.360112 47.427078 \nL 111.373084 50.628397 \nL 112.731935 50.920384 \nL 114.00838 51.829779 \nL 115.211844 51.986504 \nL 116.350223 55.992738 \nL 117.430197 56.611623 \nL 118.457468 58.272549 \nL 119.436942 58.272549 \nL 120.372869 58.626494 \nL 121.268957 59.234395 \nL 122.954247 59.995771 \nL 123.748865 60.126269 \nL 125.253425 60.126269 \nL 125.967218 60.65918 \nL 126.657604 60.65918 \nL 127.32607 61.210472 \nL 128.602514 61.210472 \nL 129.212843 61.351317 \nL 129.805978 61.351317 \nL 130.38286 62.373593 \nL 130.944357 62.373593 \nL 132.024331 64.294205 \nL 133.051603 64.638 \nL 133.547035 64.638 \nL 134.031076 64.812711 \nL 134.50424 65.167967 \nL 135.863091 65.716108 \nL 136.722593 65.716108 \nL 137.139535 65.903079 \nL 137.548381 65.903079 \nL 137.949439 66.092263 \nL 138.342999 66.477484 \nL 139.108716 67.483216 \nL 139.481378 67.903921 \nL 139.84756 67.903921 \nL 140.207481 68.1185 \nL 140.561353 68.1185 \nL 141.588624 68.780078 \nL 142.246643 68.780078 \nL 142.568098 69.236849 \nL 142.884718 69.236849 \nL 143.504024 70.691112 \nL 143.806978 70.946891 \nL 144.105634 71.471065 \nL 144.400112 71.471065 \nL 144.690529 71.739741 \nL 144.976995 72.291033 \nL 145.538491 72.291033 \nL 145.813723 72.573976 \nL 146.085402 73.155345 \nL 146.880021 74.069072 \nL 147.138366 74.069072 \nL 147.645737 74.708592 \nL 148.625211 74.708592 \nL 148.863122 75.038209 \nL 149.098374 75.038209 \nL 149.331027 75.374766 \nL 149.78876 75.374766 \nL 150.013948 75.718561 \nL 150.457225 75.718561 \nL 150.675413 76.069913 \nL 150.891362 76.069913 \nL 151.316728 76.796669 \nL 151.73367 76.796669 \nL 152.343999 77.952778 \nL 152.741273 77.952778 \nL 152.937134 78.772746 \nL 153.514016 78.772746 \nL 153.70285 79.199061 \nL 154.801615 79.199061 \nL 154.979295 79.637057 \nL 155.50351 79.637057 \nL 155.675387 80.087393 \nL 156.349201 80.087393 \nL 156.514338 80.550784 \nL 157.321138 80.550784 \nL 157.478853 81.02801 \nL 157.945032 81.02801 \nL 158.098159 81.519922 \nL 158.847522 81.519922 \nL 158.994247 82.027452 \nL 159.284663 82.027452 \nL 159.428383 82.551626 \nL 159.712913 82.551626 \nL 159.853749 83.093572 \nL 159.993649 83.093572 \nL 160.132626 83.654537 \nL 161.080594 83.654537 \nL 161.2126 84.235906 \nL 161.603724 84.235906 \nL 161.7325 84.839218 \nL 162.239872 84.839218 \nL 162.364827 85.466195 \nL 162.857361 85.466195 \nL 162.978715 86.11877 \nL 163.338637 86.11877 \nL 163.457256 86.799122 \nL 164.155272 86.799122 \nL 164.269391 87.509723 \nL 165.269547 87.509723 \nL 165.485496 88.253386 \nL 166.120365 88.253386 \nL 166.327804 89.033339 \nL 167.531268 89.033339 \nL 167.725324 89.853307 \nL 168.48414 89.853307 \nL 168.669647 90.717618 \nL 169.035828 90.717618 \nL 169.216558 91.631345 \nL 169.924352 91.631345 \nL 170.097644 92.600483 \nL 171.434912 92.600483 \nL 171.596252 93.632187 \nL 172.462183 93.632187 \nL 172.615869 94.735098 \nL 173.441656 94.735098 \nL 173.588381 95.919779 \nL 175.273671 95.919779 \nL 175.408207 97.199331 \nL 176.390729 97.199331 \nL 176.518335 98.590284 \nL 178.286643 98.590284 \nL 178.403291 100.1139 \nL 180.34649 100.1139 \nL 180.504996 101.79818 \nL 182.367694 101.79818 \nL 182.511741 103.681044 \nL 185.245326 103.681044 \nL 185.371027 105.815659 \nL 188.508954 105.815659 \nL 188.652429 108.279892 \nL 191.677313 108.279892 \nL 191.800803 111.194461 \nL 195.874245 111.194461 \nL 196.000701 114.761605 \nL 200.744302 114.761605 \nL 200.86473 119.360453 \nL 207.298719 119.360453 \nL 207.416344 125.842166 \nL 216.340771 125.842166 \nL 216.455616 136.922727 \nL 231.900852 136.922727 \nL 231.900852 136.922727 \n\" style=\"fill:none;stroke:#1f77b4;stroke-linecap:square;stroke-width:1.5;\"/>\n   </g>\n   <g id=\"patch_3\">\n    <path d=\"M 45.478125 143.1 \nL 45.478125 7.2 \n\" style=\"fill:none;stroke:#000000;stroke-linecap:square;stroke-linejoin:miter;stroke-width:0.8;\"/>\n   </g>\n   <g id=\"patch_4\">\n    <path d=\"M 240.778125 143.1 \nL 240.778125 7.2 \n\" style=\"fill:none;stroke:#000000;stroke-linecap:square;stroke-linejoin:miter;stroke-width:0.8;\"/>\n   </g>\n   <g id=\"patch_5\">\n    <path d=\"M 45.478125 143.1 \nL 240.778125 143.1 \n\" style=\"fill:none;stroke:#000000;stroke-linecap:square;stroke-linejoin:miter;stroke-width:0.8;\"/>\n   </g>\n   <g id=\"patch_6\">\n    <path d=\"M 45.478125 7.2 \nL 240.778125 7.2 \n\" style=\"fill:none;stroke:#000000;stroke-linecap:square;stroke-linejoin:miter;stroke-width:0.8;\"/>\n   </g>\n  </g>\n </g>\n <defs>\n  <clipPath id=\"p069e68e1f9\">\n   <rect height=\"135.9\" width=\"195.3\" x=\"45.478125\" y=\"7.2\"/>\n  </clipPath>\n </defs>\n</svg>\n"
          },
          "metadata": {
            "tags": [],
            "needs_background": "light"
          }
        }
      ]
    },
    {
      "cell_type": "code",
      "metadata": {
        "id": "zoAt5OOWDl04",
        "outputId": "25037290-b594-4bf7-c971-bd3c50000e29",
        "colab": {
          "base_uri": "https://localhost:8080/"
        }
      },
      "source": [
        "bigram_tokens = [pair for pair in zip(corpus[:-1], corpus[1:])]\n",
        "bigram_vocab = Vocab(bigram_tokens)\n",
        "bigram_vocab.token_freqs[:200]\n",
        "### there are, but not very many idiomatic phrases"
      ],
      "execution_count": 166,
      "outputs": [
        {
          "output_type": "execute_result",
          "data": {
            "text/plain": [
              "[(('of', 'the'), 308),\n",
              " (('in', 'the'), 171),\n",
              " (('i', 'had'), 130),\n",
              " (('i', 'was'), 112),\n",
              " (('and', 'the'), 109),\n",
              " (('the', 'time'), 103),\n",
              " (('it', 'was'), 99),\n",
              " (('to', 'the'), 85),\n",
              " (('as', 'i'), 78),\n",
              " (('of', 'a'), 73),\n",
              " (('i', 'saw'), 68),\n",
              " (('i', 'could'), 67),\n",
              " (('and', 'i'), 62),\n",
              " (('time', 'traveller'), 62),\n",
              " (('in', 'a'), 61),\n",
              " (('that', 'i'), 61),\n",
              " (('for', 'the'), 51),\n",
              " (('to', 'me'), 51),\n",
              " (('at', 'the'), 50),\n",
              " (('into', 'the'), 49),\n",
              " (('from', 'the'), 47),\n",
              " (('of', 'my'), 47),\n",
              " (('upon', 'the'), 46),\n",
              " (('for', 'a'), 45),\n",
              " (('i', 'felt'), 45),\n",
              " (('on', 'the'), 45),\n",
              " (('that', 'the'), 44),\n",
              " (('was', 'a'), 44),\n",
              " (('with', 'a'), 41),\n",
              " (('in', 'my'), 40),\n",
              " (('said', 'the'), 40),\n",
              " (('the', 'morlocks'), 40),\n",
              " (('then', 'i'), 39),\n",
              " (('was', 'the'), 39),\n",
              " (('time', 'machine'), 38),\n",
              " (('seemed', 'to'), 37),\n",
              " (('had', 'been'), 36),\n",
              " (('the', 'same'), 36),\n",
              " (('to', 'be'), 36),\n",
              " (('and', 'then'), 34),\n",
              " (('out', 'of'), 34),\n",
              " (('there', 'was'), 34),\n",
              " (('a', 'little'), 32),\n",
              " (('by', 'the'), 32),\n",
              " (('but', 'i'), 31),\n",
              " (('i', 'found'), 30),\n",
              " (('the', 'little'), 30),\n",
              " (('they', 'were'), 30),\n",
              " (('with', 'the'), 30),\n",
              " (('i', 'have'), 29),\n",
              " (('the', 'machine'), 29),\n",
              " (('all', 'the'), 28),\n",
              " (('at', 'last'), 28),\n",
              " (('me', 'i'), 28),\n",
              " (('i', 'did'), 27),\n",
              " (('i', 'thought'), 27),\n",
              " (('the', 'sun'), 27),\n",
              " (('it', 'seemed'), 26),\n",
              " (('me', 'and'), 26),\n",
              " (('through', 'the'), 26),\n",
              " (('my', 'mind'), 25),\n",
              " (('the', 'psychologist'), 25),\n",
              " (('when', 'i'), 25),\n",
              " (('as', 'the'), 24),\n",
              " (('have', 'been'), 24),\n",
              " (('medical', 'man'), 24),\n",
              " (('the', 'medical'), 24),\n",
              " (('as', 'it'), 23),\n",
              " (('down', 'the'), 23),\n",
              " (('of', 'it'), 23),\n",
              " (('to', 'a'), 23),\n",
              " (('and', 'a'), 22),\n",
              " (('and', 'in'), 22),\n",
              " (('at', 'first'), 22),\n",
              " (('began', 'to'), 22),\n",
              " (('like', 'a'), 22),\n",
              " (('must', 'have'), 22),\n",
              " (('one', 'of'), 22),\n",
              " (('the', 'thing'), 22),\n",
              " (('thought', 'of'), 22),\n",
              " (('a', 'moment'), 21),\n",
              " (('and', 'there'), 21),\n",
              " (('but', 'the'), 21),\n",
              " (('it', 'is'), 21),\n",
              " (('over', 'the'), 21),\n",
              " (('towards', 'the'), 21),\n",
              " (('he', 'said'), 20),\n",
              " (('the', 'editor'), 20),\n",
              " (('the', 'white'), 20),\n",
              " (('under', 'the'), 20),\n",
              " (('with', 'my'), 20),\n",
              " (('and', 'it'), 19),\n",
              " (('did', 'not'), 19),\n",
              " (('had', 'a'), 19),\n",
              " (('of', 'our'), 19),\n",
              " (('of', 'that'), 19),\n",
              " (('the', 'sky'), 19),\n",
              " (('the', 'world'), 19),\n",
              " (('among', 'the'), 18),\n",
              " (('my', 'own'), 18),\n",
              " (('of', 'them'), 18),\n",
              " (('there', 'were'), 18),\n",
              " (('up', 'the'), 18),\n",
              " (('which', 'i'), 18),\n",
              " (('at', 'my'), 17),\n",
              " (('i', 'began'), 17),\n",
              " (('i', 'went'), 17),\n",
              " (('of', 'his'), 17),\n",
              " (('the', 'darkness'), 17),\n",
              " (('there', 'is'), 17),\n",
              " (('and', 'that'), 16),\n",
              " (('don', 't'), 16),\n",
              " (('here', 'and'), 16),\n",
              " (('i', 'looked'), 16),\n",
              " (('it', 'had'), 16),\n",
              " (('it', 's'), 16),\n",
              " (('little', 'people'), 16),\n",
              " (('of', 'these'), 16),\n",
              " (('saw', 'the'), 16),\n",
              " (('that', 'was'), 16),\n",
              " (('the', 'earth'), 16),\n",
              " (('the', 'first'), 16),\n",
              " (('to', 'my'), 16),\n",
              " (('was', 'in'), 16),\n",
              " (('a', 'minute'), 15),\n",
              " (('and', 'so'), 15),\n",
              " (('as', 'a'), 15),\n",
              " (('came', 'to'), 15),\n",
              " (('could', 'not'), 15),\n",
              " (('i', 'must'), 15),\n",
              " (('i', 'stood'), 15),\n",
              " (('in', 'this'), 15),\n",
              " (('kind', 'of'), 15),\n",
              " (('me', 'in'), 15),\n",
              " (('my', 'eyes'), 15),\n",
              " (('my', 'hand'), 15),\n",
              " (('so', 'i'), 15),\n",
              " (('that', 'it'), 15),\n",
              " (('the', 'door'), 15),\n",
              " (('the', 'end'), 15),\n",
              " (('the', 'laboratory'), 15),\n",
              " (('to', 'see'), 15),\n",
              " (('up', 'and'), 15),\n",
              " (('upon', 'me'), 15),\n",
              " (('a', 'certain'), 14),\n",
              " (('about', 'the'), 14),\n",
              " (('across', 'the'), 14),\n",
              " (('along', 'the'), 14),\n",
              " (('and', 'as'), 14),\n",
              " (('could', 'see'), 14),\n",
              " (('i', 'heard'), 14),\n",
              " (('i', 'tried'), 14),\n",
              " (('into', 'my'), 14),\n",
              " (('is', 'a'), 14),\n",
              " (('me', 'to'), 14),\n",
              " (('of', 'an'), 14),\n",
              " (('the', 'dark'), 14),\n",
              " (('the', 'great'), 14),\n",
              " (('the', 'hill'), 14),\n",
              " (('the', 'whole'), 14),\n",
              " (('tried', 'to'), 14),\n",
              " (('was', 'not'), 14),\n",
              " (('at', 'that'), 13),\n",
              " (('had', 'seen'), 13),\n",
              " (('i', 'came'), 13),\n",
              " (('i', 'think'), 13),\n",
              " (('in', 'his'), 13),\n",
              " (('like', 'the'), 13),\n",
              " (('now', 'i'), 13),\n",
              " (('of', 'its'), 13),\n",
              " (('of', 'their'), 13),\n",
              " (('our', 'own'), 13),\n",
              " (('saw', 'a'), 13),\n",
              " (('the', 'future'), 13),\n",
              " (('the', 'palace'), 13),\n",
              " (('they', 'had'), 13),\n",
              " (('time', 'i'), 13),\n",
              " (('was', 'so'), 13),\n",
              " (('about', 'me'), 12),\n",
              " (('against', 'the'), 12),\n",
              " (('and', 'went'), 12),\n",
              " (('but', 'it'), 12),\n",
              " (('he', 'was'), 12),\n",
              " (('i', 'am'), 12),\n",
              " (('i', 'should'), 12),\n",
              " (('in', 'their'), 12),\n",
              " (('me', 'that'), 12),\n",
              " (('me', 'the'), 12),\n",
              " (('my', 'head'), 12),\n",
              " (('of', 'some'), 12),\n",
              " (('of', 'this'), 12),\n",
              " (('said', 'i'), 12),\n",
              " (('that', 'is'), 12),\n",
              " (('the', 'fire'), 12),\n",
              " (('the', 'light'), 12),\n",
              " (('the', 'old'), 12),\n",
              " (('the', 'other'), 12),\n",
              " (('then', 'the'), 12),\n",
              " (('a', 'kind'), 11),\n",
              " (('and', 'now'), 11)]"
            ]
          },
          "metadata": {
            "tags": []
          },
          "execution_count": 166
        }
      ]
    },
    {
      "cell_type": "code",
      "metadata": {
        "id": "1GtsScnmD8qv",
        "outputId": "0242e2d0-7f91-4cb6-b7b9-6086ce67e38c",
        "colab": {
          "base_uri": "https://localhost:8080/"
        }
      },
      "source": [
        "trigram_tokens = [triple for triple in zip(\n",
        "    corpus[:-2], corpus[1:-1], corpus[2:])]\n",
        "trigram_vocab = Vocab(trigram_tokens)\n",
        "trigram_vocab.token_freqs[:200]"
      ],
      "execution_count": 167,
      "outputs": [
        {
          "output_type": "execute_result",
          "data": {
            "text/plain": [
              "[(('the', 'time', 'traveller'), 61),\n",
              " (('the', 'time', 'machine'), 29),\n",
              " (('the', 'medical', 'man'), 24),\n",
              " (('it', 'seemed', 'to'), 16),\n",
              " (('here', 'and', 'there'), 15),\n",
              " (('it', 'was', 'a'), 15),\n",
              " (('i', 'did', 'not'), 14),\n",
              " (('seemed', 'to', 'me'), 14),\n",
              " (('i', 'saw', 'the'), 13),\n",
              " (('for', 'a', 'moment'), 12),\n",
              " (('i', 'began', 'to'), 12),\n",
              " (('i', 'could', 'see'), 12),\n",
              " (('out', 'of', 'the'), 12),\n",
              " (('said', 'the', 'time'), 12),\n",
              " (('a', 'kind', 'of'), 11),\n",
              " (('and', 'i', 'was'), 11),\n",
              " (('i', 'could', 'not'), 11),\n",
              " (('i', 'saw', 'a'), 11),\n",
              " (('one', 'of', 'the'), 11),\n",
              " (('said', 'the', 'medical'), 11),\n",
              " (('the', 'little', 'people'), 11),\n",
              " (('the', 'white', 'sphinx'), 11),\n",
              " (('i', 'don', 't'), 10),\n",
              " (('i', 'had', 'a'), 10),\n",
              " (('that', 'i', 'was'), 10),\n",
              " (('to', 'me', 'that'), 10),\n",
              " (('i', 'did', 'so'), 9),\n",
              " (('i', 'had', 'seen'), 9),\n",
              " (('i', 'thought', 'of'), 9),\n",
              " (('in', 'the', 'end'), 9),\n",
              " (('must', 'have', 'been'), 9),\n",
              " (('of', 'green', 'porcelain'), 9),\n",
              " (('of', 'the', 'morlocks'), 9),\n",
              " (('palace', 'of', 'green'), 9),\n",
              " (('that', 'i', 'had'), 9),\n",
              " (('a', 'moment', 'i'), 8),\n",
              " (('and', 'then', 'i'), 8),\n",
              " (('as', 'i', 'did'), 8),\n",
              " (('as', 'it', 'seemed'), 8),\n",
              " (('at', 'the', 'time'), 8),\n",
              " (('i', 'determined', 'to'), 8),\n",
              " (('i', 'tried', 'to'), 8),\n",
              " (('it', 'must', 'have'), 8),\n",
              " (('it', 'was', 'the'), 8),\n",
              " (('of', 'the', 'little'), 8),\n",
              " (('of', 'the', 'time'), 8),\n",
              " (('that', 'it', 'was'), 8),\n",
              " (('the', 'palace', 'of'), 8),\n",
              " (('there', 'was', 'a'), 8),\n",
              " (('time', 'machine', 'and'), 8),\n",
              " (('and', 'in', 'the'), 7),\n",
              " (('came', 'into', 'my'), 7),\n",
              " (('i', 'found', 'the'), 7),\n",
              " (('i', 'was', 'in'), 7),\n",
              " (('in', 'a', 'moment'), 7),\n",
              " (('in', 'my', 'mind'), 7),\n",
              " (('in', 'the', 'dark'), 7),\n",
              " (('into', 'my', 'head'), 7),\n",
              " (('of', 'the', 'sun'), 7),\n",
              " (('our', 'own', 'time'), 7),\n",
              " (('that', 'i', 'could'), 7),\n",
              " (('there', 'was', 'the'), 7),\n",
              " (('there', 'were', 'no'), 7),\n",
              " (('thought', 'of', 'the'), 7),\n",
              " (('time', 'machine', 'i'), 7),\n",
              " (('time', 'traveller', 's'), 7),\n",
              " (('and', 'i', 'had'), 6),\n",
              " (('and', 'it', 'was'), 6),\n",
              " (('and', 'sat', 'down'), 6),\n",
              " (('and', 'when', 'i'), 6),\n",
              " (('as', 'i', 'stood'), 6),\n",
              " (('at', 'that', 'i'), 6),\n",
              " (('but', 'it', 'was'), 6),\n",
              " (('for', 'the', 'first'), 6),\n",
              " (('i', 'came', 'to'), 6),\n",
              " (('i', 'do', 'not'), 6),\n",
              " (('i', 'found', 'a'), 6),\n",
              " (('i', 'had', 'the'), 6),\n",
              " (('i', 'had', 'to'), 6),\n",
              " (('i', 'looked', 'at'), 6),\n",
              " (('i', 'should', 'have'), 6),\n",
              " (('in', 'my', 'pocket'), 6),\n",
              " (('into', 'the', 'future'), 6),\n",
              " (('it', 'may', 'be'), 6),\n",
              " (('me', 'and', 'i'), 6),\n",
              " (('moment', 'i', 'was'), 6),\n",
              " (('my', 'time', 'machine'), 6),\n",
              " (('of', 'our', 'own'), 6),\n",
              " (('of', 'the', 'white'), 6),\n",
              " (('said', 'the', 'psychologist'), 6),\n",
              " (('seemed', 'to', 'be'), 6),\n",
              " (('the', 'first', 'time'), 6),\n",
              " (('the', 'time', 'i'), 6),\n",
              " (('was', 'in', 'the'), 6),\n",
              " (('and', 'as', 'i'), 5),\n",
              " (('and', 'now', 'i'), 5),\n",
              " (('and', 'the', 'morlocks'), 5),\n",
              " (('and', 'there', 'was'), 5),\n",
              " (('and', 'went', 'on'), 5),\n",
              " (('appeared', 'to', 'be'), 5),\n",
              " (('as', 'i', 'could'), 5),\n",
              " (('as', 'i', 'have'), 5),\n",
              " (('as', 'well', 'as'), 5),\n",
              " (('at', 'first', 'i'), 5),\n",
              " (('but', 'i', 'was'), 5),\n",
              " (('don', 't', 'know'), 5),\n",
              " (('for', 'a', 'minute'), 5),\n",
              " (('for', 'my', 'own'), 5),\n",
              " (('had', 'long', 'since'), 5),\n",
              " (('hither', 'and', 'thither'), 5),\n",
              " (('i', 'fancied', 'i'), 5),\n",
              " (('i', 'felt', 'a'), 5),\n",
              " (('i', 'had', 'come'), 5),\n",
              " (('i', 'made', 'a'), 5),\n",
              " (('i', 'think', 'i'), 5),\n",
              " (('i', 'was', 'to'), 5),\n",
              " (('in', 'another', 'moment'), 5),\n",
              " (('in', 'spite', 'of'), 5),\n",
              " (('in', 'the', 'darkness'), 5),\n",
              " (('in', 'the', 'same'), 5),\n",
              " (('it', 'was', 'not'), 5),\n",
              " (('light', 'of', 'the'), 5),\n",
              " (('look', 'at', 'the'), 5),\n",
              " (('me', 'in', 'the'), 5),\n",
              " (('my', 'own', 'part'), 5),\n",
              " (('now', 'and', 'then'), 5),\n",
              " (('of', 'it', 'i'), 5),\n",
              " (('of', 'the', 'earth'), 5),\n",
              " (('of', 'the', 'fire'), 5),\n",
              " (('of', 'the', 'human'), 5),\n",
              " (('of', 'the', 'laboratory'), 5),\n",
              " (('of', 'the', 'machine'), 5),\n",
              " (('of', 'the', 'palace'), 5),\n",
              " (('of', 'the', 'world'), 5),\n",
              " (('one', 'hand', 'and'), 5),\n",
              " (('said', 'the', 'editor'), 5),\n",
              " (('the', 'morlocks', 'and'), 5),\n",
              " (('the', 'silent', 'man'), 5),\n",
              " (('the', 'sun', 'had'), 5),\n",
              " (('the', 'thought', 'of'), 5),\n",
              " (('there', 'in', 'the'), 5),\n",
              " (('there', 'is', 'no'), 5),\n",
              " (('there', 'was', 'no'), 5),\n",
              " (('time', 'machine', 'was'), 5),\n",
              " (('to', 'me', 'and'), 5),\n",
              " (('to', 'my', 'mind'), 5),\n",
              " (('upon', 'me', 'i'), 5),\n",
              " (('very', 'young', 'man'), 5),\n",
              " (('was', 'the', 'same'), 5),\n",
              " (('a', 'minute', 'or'), 4),\n",
              " (('a', 'number', 'of'), 4),\n",
              " (('after', 'a', 'time'), 4),\n",
              " (('and', 'as', 'it'), 4),\n",
              " (('and', 'i', 'could'), 4),\n",
              " (('and', 'i', 'saw'), 4),\n",
              " (('and', 'the', 'little'), 4),\n",
              " (('and', 'two', 'thousand'), 4),\n",
              " (('as', 'i', 'was'), 4),\n",
              " (('as', 'soon', 'as'), 4),\n",
              " (('at', 'last', 'i'), 4),\n",
              " (('away', 'from', 'me'), 4),\n",
              " (('back', 'to', 'the'), 4),\n",
              " (('came', 'to', 'a'), 4),\n",
              " (('down', 'into', 'the'), 4),\n",
              " (('eight', 'hundred', 'and'), 4),\n",
              " (('for', 'a', 'little'), 4),\n",
              " (('for', 'me', 'to'), 4),\n",
              " (('full', 'of', 'the'), 4),\n",
              " (('got', 'up', 'and'), 4),\n",
              " (('hundred', 'and', 'two'), 4),\n",
              " (('i', 'got', 'up'), 4),\n",
              " (('i', 'had', 'not'), 4),\n",
              " (('i', 'have', 'said'), 4),\n",
              " (('i', 'heard', 'a'), 4),\n",
              " (('i', 'left', 'her'), 4),\n",
              " (('i', 'might', 'have'), 4),\n",
              " (('i', 'must', 'have'), 4),\n",
              " (('i', 'sat', 'down'), 4),\n",
              " (('i', 'saw', 'that'), 4),\n",
              " (('i', 'seemed', 'to'), 4),\n",
              " (('i', 'thought', 'i'), 4),\n",
              " (('i', 'was', 'still'), 4),\n",
              " (('in', 'front', 'of'), 4),\n",
              " (('in', 'one', 'hand'), 4),\n",
              " (('in', 'the', 'air'), 4),\n",
              " (('in', 'the', 'other'), 4),\n",
              " (('it', 'as', 'a'), 4),\n",
              " (('it', 'was', 'as'), 4),\n",
              " (('it', 'was', 'at'), 4),\n",
              " (('me', 'i', 'felt'), 4),\n",
              " (('move', 'about', 'in'), 4),\n",
              " (('my', 'eyes', 'the'), 4),\n",
              " (('my', 'feet', 'and'), 4),\n",
              " (('my', 'hand', 'and'), 4),\n",
              " (('my', 'matches', 'and'), 4),\n",
              " (('my', 'mind', 'i'), 4),\n",
              " (('occurred', 'to', 'me'), 4),\n",
              " (('of', 'the', 'great'), 4),\n",
              " (('of', 'the', 'well'), 4),\n",
              " (('once', 'have', 'been'), 4)]"
            ]
          },
          "metadata": {
            "tags": []
          },
          "execution_count": 167
        }
      ]
    },
    {
      "cell_type": "code",
      "metadata": {
        "id": "bsJ0_v0VEyA-",
        "outputId": "d984406c-6d58-4659-a4eb-9c47f5746148",
        "colab": {
          "base_uri": "https://localhost:8080/",
          "height": 262
        }
      },
      "source": [
        "### d2l.ai\n",
        "bigram_freqs = [freq for token, freq in bigram_vocab.token_freqs]\n",
        "trigram_freqs = [freq for token, freq in trigram_vocab.token_freqs]\n",
        "d2l.plot([freqs, bigram_freqs, trigram_freqs], xlabel='token: x',\n",
        "         ylabel='frequency: n(x)', xscale='log', yscale='log',\n",
        "         legend=['unigram', 'bigram', 'trigram'])"
      ],
      "execution_count": 168,
      "outputs": [
        {
          "output_type": "display_data",
          "data": {
            "text/plain": [
              "<Figure size 252x180 with 1 Axes>"
            ],
            "image/svg+xml": "<?xml version=\"1.0\" encoding=\"utf-8\" standalone=\"no\"?>\n<!DOCTYPE svg PUBLIC \"-//W3C//DTD SVG 1.1//EN\"\n  \"http://www.w3.org/Graphics/SVG/1.1/DTD/svg11.dtd\">\n<!-- Created with matplotlib (https://matplotlib.org/) -->\n<svg height=\"180.65625pt\" version=\"1.1\" viewBox=\"0 0 247.978125 180.65625\" width=\"247.978125pt\" xmlns=\"http://www.w3.org/2000/svg\" xmlns:xlink=\"http://www.w3.org/1999/xlink\">\n <defs>\n  <style type=\"text/css\">\n*{stroke-linecap:butt;stroke-linejoin:round;}\n  </style>\n </defs>\n <g id=\"figure_1\">\n  <g id=\"patch_1\">\n   <path d=\"M 0 180.65625 \nL 247.978125 180.65625 \nL 247.978125 0 \nL 0 0 \nz\n\" style=\"fill:none;\"/>\n  </g>\n  <g id=\"axes_1\">\n   <g id=\"patch_2\">\n    <path d=\"M 45.478125 143.1 \nL 240.778125 143.1 \nL 240.778125 7.2 \nL 45.478125 7.2 \nz\n\" style=\"fill:#ffffff;\"/>\n   </g>\n   <g id=\"matplotlib.axis_1\">\n    <g id=\"xtick_1\">\n     <g id=\"line2d_1\">\n      <path clip-path=\"url(#p8915937181)\" d=\"M 54.355398 143.1 \nL 54.355398 7.2 \n\" style=\"fill:none;stroke:#b0b0b0;stroke-linecap:square;stroke-width:0.8;\"/>\n     </g>\n     <g id=\"line2d_2\">\n      <defs>\n       <path d=\"M 0 0 \nL 0 3.5 \n\" id=\"m852589ecfb\" style=\"stroke:#000000;stroke-width:0.8;\"/>\n      </defs>\n      <g>\n       <use style=\"stroke:#000000;stroke-width:0.8;\" x=\"54.355398\" xlink:href=\"#m852589ecfb\" y=\"143.1\"/>\n      </g>\n     </g>\n     <g id=\"text_1\">\n      <!-- $\\mathdefault{10^{0}}$ -->\n      <defs>\n       <path d=\"M 12.40625 8.296875 \nL 28.515625 8.296875 \nL 28.515625 63.921875 \nL 10.984375 60.40625 \nL 10.984375 69.390625 \nL 28.421875 72.90625 \nL 38.28125 72.90625 \nL 38.28125 8.296875 \nL 54.390625 8.296875 \nL 54.390625 0 \nL 12.40625 0 \nz\n\" id=\"DejaVuSans-49\"/>\n       <path d=\"M 31.78125 66.40625 \nQ 24.171875 66.40625 20.328125 58.90625 \nQ 16.5 51.421875 16.5 36.375 \nQ 16.5 21.390625 20.328125 13.890625 \nQ 24.171875 6.390625 31.78125 6.390625 \nQ 39.453125 6.390625 43.28125 13.890625 \nQ 47.125 21.390625 47.125 36.375 \nQ 47.125 51.421875 43.28125 58.90625 \nQ 39.453125 66.40625 31.78125 66.40625 \nz\nM 31.78125 74.21875 \nQ 44.046875 74.21875 50.515625 64.515625 \nQ 56.984375 54.828125 56.984375 36.375 \nQ 56.984375 17.96875 50.515625 8.265625 \nQ 44.046875 -1.421875 31.78125 -1.421875 \nQ 19.53125 -1.421875 13.0625 8.265625 \nQ 6.59375 17.96875 6.59375 36.375 \nQ 6.59375 54.828125 13.0625 64.515625 \nQ 19.53125 74.21875 31.78125 74.21875 \nz\n\" id=\"DejaVuSans-48\"/>\n      </defs>\n      <g transform=\"translate(45.555398 157.698438)scale(0.1 -0.1)\">\n       <use transform=\"translate(0 0.765625)\" xlink:href=\"#DejaVuSans-49\"/>\n       <use transform=\"translate(63.623047 0.765625)\" xlink:href=\"#DejaVuSans-48\"/>\n       <use transform=\"translate(128.203125 39.046875)scale(0.7)\" xlink:href=\"#DejaVuSans-48\"/>\n      </g>\n     </g>\n    </g>\n    <g id=\"xtick_2\">\n     <g id=\"line2d_3\">\n      <path clip-path=\"url(#p8915937181)\" d=\"M 94.020421 143.1 \nL 94.020421 7.2 \n\" style=\"fill:none;stroke:#b0b0b0;stroke-linecap:square;stroke-width:0.8;\"/>\n     </g>\n     <g id=\"line2d_4\">\n      <g>\n       <use style=\"stroke:#000000;stroke-width:0.8;\" x=\"94.020421\" xlink:href=\"#m852589ecfb\" y=\"143.1\"/>\n      </g>\n     </g>\n     <g id=\"text_2\">\n      <!-- $\\mathdefault{10^{1}}$ -->\n      <g transform=\"translate(85.220421 157.698438)scale(0.1 -0.1)\">\n       <use transform=\"translate(0 0.684375)\" xlink:href=\"#DejaVuSans-49\"/>\n       <use transform=\"translate(63.623047 0.684375)\" xlink:href=\"#DejaVuSans-48\"/>\n       <use transform=\"translate(128.203125 38.965625)scale(0.7)\" xlink:href=\"#DejaVuSans-49\"/>\n      </g>\n     </g>\n    </g>\n    <g id=\"xtick_3\">\n     <g id=\"line2d_5\">\n      <path clip-path=\"url(#p8915937181)\" d=\"M 133.685445 143.1 \nL 133.685445 7.2 \n\" style=\"fill:none;stroke:#b0b0b0;stroke-linecap:square;stroke-width:0.8;\"/>\n     </g>\n     <g id=\"line2d_6\">\n      <g>\n       <use style=\"stroke:#000000;stroke-width:0.8;\" x=\"133.685445\" xlink:href=\"#m852589ecfb\" y=\"143.1\"/>\n      </g>\n     </g>\n     <g id=\"text_3\">\n      <!-- $\\mathdefault{10^{2}}$ -->\n      <defs>\n       <path d=\"M 19.1875 8.296875 \nL 53.609375 8.296875 \nL 53.609375 0 \nL 7.328125 0 \nL 7.328125 8.296875 \nQ 12.9375 14.109375 22.625 23.890625 \nQ 32.328125 33.6875 34.8125 36.53125 \nQ 39.546875 41.84375 41.421875 45.53125 \nQ 43.3125 49.21875 43.3125 52.78125 \nQ 43.3125 58.59375 39.234375 62.25 \nQ 35.15625 65.921875 28.609375 65.921875 \nQ 23.96875 65.921875 18.8125 64.3125 \nQ 13.671875 62.703125 7.8125 59.421875 \nL 7.8125 69.390625 \nQ 13.765625 71.78125 18.9375 73 \nQ 24.125 74.21875 28.421875 74.21875 \nQ 39.75 74.21875 46.484375 68.546875 \nQ 53.21875 62.890625 53.21875 53.421875 \nQ 53.21875 48.921875 51.53125 44.890625 \nQ 49.859375 40.875 45.40625 35.40625 \nQ 44.1875 33.984375 37.640625 27.21875 \nQ 31.109375 20.453125 19.1875 8.296875 \nz\n\" id=\"DejaVuSans-50\"/>\n      </defs>\n      <g transform=\"translate(124.885445 157.698438)scale(0.1 -0.1)\">\n       <use transform=\"translate(0 0.765625)\" xlink:href=\"#DejaVuSans-49\"/>\n       <use transform=\"translate(63.623047 0.765625)\" xlink:href=\"#DejaVuSans-48\"/>\n       <use transform=\"translate(128.203125 39.046875)scale(0.7)\" xlink:href=\"#DejaVuSans-50\"/>\n      </g>\n     </g>\n    </g>\n    <g id=\"xtick_4\">\n     <g id=\"line2d_7\">\n      <path clip-path=\"url(#p8915937181)\" d=\"M 173.350469 143.1 \nL 173.350469 7.2 \n\" style=\"fill:none;stroke:#b0b0b0;stroke-linecap:square;stroke-width:0.8;\"/>\n     </g>\n     <g id=\"line2d_8\">\n      <g>\n       <use style=\"stroke:#000000;stroke-width:0.8;\" x=\"173.350469\" xlink:href=\"#m852589ecfb\" y=\"143.1\"/>\n      </g>\n     </g>\n     <g id=\"text_4\">\n      <!-- $\\mathdefault{10^{3}}$ -->\n      <defs>\n       <path d=\"M 40.578125 39.3125 \nQ 47.65625 37.796875 51.625 33 \nQ 55.609375 28.21875 55.609375 21.1875 \nQ 55.609375 10.40625 48.1875 4.484375 \nQ 40.765625 -1.421875 27.09375 -1.421875 \nQ 22.515625 -1.421875 17.65625 -0.515625 \nQ 12.796875 0.390625 7.625 2.203125 \nL 7.625 11.71875 \nQ 11.71875 9.328125 16.59375 8.109375 \nQ 21.484375 6.890625 26.8125 6.890625 \nQ 36.078125 6.890625 40.9375 10.546875 \nQ 45.796875 14.203125 45.796875 21.1875 \nQ 45.796875 27.640625 41.28125 31.265625 \nQ 36.765625 34.90625 28.71875 34.90625 \nL 20.21875 34.90625 \nL 20.21875 43.015625 \nL 29.109375 43.015625 \nQ 36.375 43.015625 40.234375 45.921875 \nQ 44.09375 48.828125 44.09375 54.296875 \nQ 44.09375 59.90625 40.109375 62.90625 \nQ 36.140625 65.921875 28.71875 65.921875 \nQ 24.65625 65.921875 20.015625 65.03125 \nQ 15.375 64.15625 9.8125 62.3125 \nL 9.8125 71.09375 \nQ 15.4375 72.65625 20.34375 73.4375 \nQ 25.25 74.21875 29.59375 74.21875 \nQ 40.828125 74.21875 47.359375 69.109375 \nQ 53.90625 64.015625 53.90625 55.328125 \nQ 53.90625 49.265625 50.4375 45.09375 \nQ 46.96875 40.921875 40.578125 39.3125 \nz\n\" id=\"DejaVuSans-51\"/>\n      </defs>\n      <g transform=\"translate(164.550469 157.698438)scale(0.1 -0.1)\">\n       <use transform=\"translate(0 0.765625)\" xlink:href=\"#DejaVuSans-49\"/>\n       <use transform=\"translate(63.623047 0.765625)\" xlink:href=\"#DejaVuSans-48\"/>\n       <use transform=\"translate(128.203125 39.046875)scale(0.7)\" xlink:href=\"#DejaVuSans-51\"/>\n      </g>\n     </g>\n    </g>\n    <g id=\"xtick_5\">\n     <g id=\"line2d_9\">\n      <path clip-path=\"url(#p8915937181)\" d=\"M 213.015493 143.1 \nL 213.015493 7.2 \n\" style=\"fill:none;stroke:#b0b0b0;stroke-linecap:square;stroke-width:0.8;\"/>\n     </g>\n     <g id=\"line2d_10\">\n      <g>\n       <use style=\"stroke:#000000;stroke-width:0.8;\" x=\"213.015493\" xlink:href=\"#m852589ecfb\" y=\"143.1\"/>\n      </g>\n     </g>\n     <g id=\"text_5\">\n      <!-- $\\mathdefault{10^{4}}$ -->\n      <defs>\n       <path d=\"M 37.796875 64.3125 \nL 12.890625 25.390625 \nL 37.796875 25.390625 \nz\nM 35.203125 72.90625 \nL 47.609375 72.90625 \nL 47.609375 25.390625 \nL 58.015625 25.390625 \nL 58.015625 17.1875 \nL 47.609375 17.1875 \nL 47.609375 0 \nL 37.796875 0 \nL 37.796875 17.1875 \nL 4.890625 17.1875 \nL 4.890625 26.703125 \nz\n\" id=\"DejaVuSans-52\"/>\n      </defs>\n      <g transform=\"translate(204.215493 157.698438)scale(0.1 -0.1)\">\n       <use transform=\"translate(0 0.684375)\" xlink:href=\"#DejaVuSans-49\"/>\n       <use transform=\"translate(63.623047 0.684375)\" xlink:href=\"#DejaVuSans-48\"/>\n       <use transform=\"translate(128.203125 38.965625)scale(0.7)\" xlink:href=\"#DejaVuSans-52\"/>\n      </g>\n     </g>\n    </g>\n    <g id=\"xtick_6\">\n     <g id=\"line2d_11\">\n      <defs>\n       <path d=\"M 0 0 \nL 0 2 \n\" id=\"ma01fbd8f10\" style=\"stroke:#000000;stroke-width:0.6;\"/>\n      </defs>\n      <g>\n       <use style=\"stroke:#000000;stroke-width:0.6;\" x=\"45.555762\" xlink:href=\"#ma01fbd8f10\" y=\"143.1\"/>\n      </g>\n     </g>\n    </g>\n    <g id=\"xtick_7\">\n     <g id=\"line2d_12\">\n      <g>\n       <use style=\"stroke:#000000;stroke-width:0.6;\" x=\"48.211208\" xlink:href=\"#ma01fbd8f10\" y=\"143.1\"/>\n      </g>\n     </g>\n    </g>\n    <g id=\"xtick_8\">\n     <g id=\"line2d_13\">\n      <g>\n       <use style=\"stroke:#000000;stroke-width:0.6;\" x=\"50.51146\" xlink:href=\"#ma01fbd8f10\" y=\"143.1\"/>\n      </g>\n     </g>\n    </g>\n    <g id=\"xtick_9\">\n     <g id=\"line2d_14\">\n      <g>\n       <use style=\"stroke:#000000;stroke-width:0.6;\" x=\"52.540426\" xlink:href=\"#ma01fbd8f10\" y=\"143.1\"/>\n      </g>\n     </g>\n    </g>\n    <g id=\"xtick_10\">\n     <g id=\"line2d_15\">\n      <g>\n       <use style=\"stroke:#000000;stroke-width:0.6;\" x=\"66.29576\" xlink:href=\"#ma01fbd8f10\" y=\"143.1\"/>\n      </g>\n     </g>\n    </g>\n    <g id=\"xtick_11\">\n     <g id=\"line2d_16\">\n      <g>\n       <use style=\"stroke:#000000;stroke-width:0.6;\" x=\"73.280424\" xlink:href=\"#ma01fbd8f10\" y=\"143.1\"/>\n      </g>\n     </g>\n    </g>\n    <g id=\"xtick_12\">\n     <g id=\"line2d_17\">\n      <g>\n       <use style=\"stroke:#000000;stroke-width:0.6;\" x=\"78.236122\" xlink:href=\"#ma01fbd8f10\" y=\"143.1\"/>\n      </g>\n     </g>\n    </g>\n    <g id=\"xtick_13\">\n     <g id=\"line2d_18\">\n      <g>\n       <use style=\"stroke:#000000;stroke-width:0.6;\" x=\"82.08006\" xlink:href=\"#ma01fbd8f10\" y=\"143.1\"/>\n      </g>\n     </g>\n    </g>\n    <g id=\"xtick_14\">\n     <g id=\"line2d_19\">\n      <g>\n       <use style=\"stroke:#000000;stroke-width:0.6;\" x=\"85.220786\" xlink:href=\"#ma01fbd8f10\" y=\"143.1\"/>\n      </g>\n     </g>\n    </g>\n    <g id=\"xtick_15\">\n     <g id=\"line2d_20\">\n      <g>\n       <use style=\"stroke:#000000;stroke-width:0.6;\" x=\"87.876232\" xlink:href=\"#ma01fbd8f10\" y=\"143.1\"/>\n      </g>\n     </g>\n    </g>\n    <g id=\"xtick_16\">\n     <g id=\"line2d_21\">\n      <g>\n       <use style=\"stroke:#000000;stroke-width:0.6;\" x=\"90.176483\" xlink:href=\"#ma01fbd8f10\" y=\"143.1\"/>\n      </g>\n     </g>\n    </g>\n    <g id=\"xtick_17\">\n     <g id=\"line2d_22\">\n      <g>\n       <use style=\"stroke:#000000;stroke-width:0.6;\" x=\"92.205449\" xlink:href=\"#ma01fbd8f10\" y=\"143.1\"/>\n      </g>\n     </g>\n    </g>\n    <g id=\"xtick_18\">\n     <g id=\"line2d_23\">\n      <g>\n       <use style=\"stroke:#000000;stroke-width:0.6;\" x=\"105.960783\" xlink:href=\"#ma01fbd8f10\" y=\"143.1\"/>\n      </g>\n     </g>\n    </g>\n    <g id=\"xtick_19\">\n     <g id=\"line2d_24\">\n      <g>\n       <use style=\"stroke:#000000;stroke-width:0.6;\" x=\"112.945447\" xlink:href=\"#ma01fbd8f10\" y=\"143.1\"/>\n      </g>\n     </g>\n    </g>\n    <g id=\"xtick_20\">\n     <g id=\"line2d_25\">\n      <g>\n       <use style=\"stroke:#000000;stroke-width:0.6;\" x=\"117.901145\" xlink:href=\"#ma01fbd8f10\" y=\"143.1\"/>\n      </g>\n     </g>\n    </g>\n    <g id=\"xtick_21\">\n     <g id=\"line2d_26\">\n      <g>\n       <use style=\"stroke:#000000;stroke-width:0.6;\" x=\"121.745083\" xlink:href=\"#ma01fbd8f10\" y=\"143.1\"/>\n      </g>\n     </g>\n    </g>\n    <g id=\"xtick_22\">\n     <g id=\"line2d_27\">\n      <g>\n       <use style=\"stroke:#000000;stroke-width:0.6;\" x=\"124.885809\" xlink:href=\"#ma01fbd8f10\" y=\"143.1\"/>\n      </g>\n     </g>\n    </g>\n    <g id=\"xtick_23\">\n     <g id=\"line2d_28\">\n      <g>\n       <use style=\"stroke:#000000;stroke-width:0.6;\" x=\"127.541255\" xlink:href=\"#ma01fbd8f10\" y=\"143.1\"/>\n      </g>\n     </g>\n    </g>\n    <g id=\"xtick_24\">\n     <g id=\"line2d_29\">\n      <g>\n       <use style=\"stroke:#000000;stroke-width:0.6;\" x=\"129.841507\" xlink:href=\"#ma01fbd8f10\" y=\"143.1\"/>\n      </g>\n     </g>\n    </g>\n    <g id=\"xtick_25\">\n     <g id=\"line2d_30\">\n      <g>\n       <use style=\"stroke:#000000;stroke-width:0.6;\" x=\"131.870473\" xlink:href=\"#ma01fbd8f10\" y=\"143.1\"/>\n      </g>\n     </g>\n    </g>\n    <g id=\"xtick_26\">\n     <g id=\"line2d_31\">\n      <g>\n       <use style=\"stroke:#000000;stroke-width:0.6;\" x=\"145.625807\" xlink:href=\"#ma01fbd8f10\" y=\"143.1\"/>\n      </g>\n     </g>\n    </g>\n    <g id=\"xtick_27\">\n     <g id=\"line2d_32\">\n      <g>\n       <use style=\"stroke:#000000;stroke-width:0.6;\" x=\"152.610471\" xlink:href=\"#ma01fbd8f10\" y=\"143.1\"/>\n      </g>\n     </g>\n    </g>\n    <g id=\"xtick_28\">\n     <g id=\"line2d_33\">\n      <g>\n       <use style=\"stroke:#000000;stroke-width:0.6;\" x=\"157.566169\" xlink:href=\"#ma01fbd8f10\" y=\"143.1\"/>\n      </g>\n     </g>\n    </g>\n    <g id=\"xtick_29\">\n     <g id=\"line2d_34\">\n      <g>\n       <use style=\"stroke:#000000;stroke-width:0.6;\" x=\"161.410107\" xlink:href=\"#ma01fbd8f10\" y=\"143.1\"/>\n      </g>\n     </g>\n    </g>\n    <g id=\"xtick_30\">\n     <g id=\"line2d_35\">\n      <g>\n       <use style=\"stroke:#000000;stroke-width:0.6;\" x=\"164.550833\" xlink:href=\"#ma01fbd8f10\" y=\"143.1\"/>\n      </g>\n     </g>\n    </g>\n    <g id=\"xtick_31\">\n     <g id=\"line2d_36\">\n      <g>\n       <use style=\"stroke:#000000;stroke-width:0.6;\" x=\"167.206279\" xlink:href=\"#ma01fbd8f10\" y=\"143.1\"/>\n      </g>\n     </g>\n    </g>\n    <g id=\"xtick_32\">\n     <g id=\"line2d_37\">\n      <g>\n       <use style=\"stroke:#000000;stroke-width:0.6;\" x=\"169.506531\" xlink:href=\"#ma01fbd8f10\" y=\"143.1\"/>\n      </g>\n     </g>\n    </g>\n    <g id=\"xtick_33\">\n     <g id=\"line2d_38\">\n      <g>\n       <use style=\"stroke:#000000;stroke-width:0.6;\" x=\"171.535497\" xlink:href=\"#ma01fbd8f10\" y=\"143.1\"/>\n      </g>\n     </g>\n    </g>\n    <g id=\"xtick_34\">\n     <g id=\"line2d_39\">\n      <g>\n       <use style=\"stroke:#000000;stroke-width:0.6;\" x=\"185.290831\" xlink:href=\"#ma01fbd8f10\" y=\"143.1\"/>\n      </g>\n     </g>\n    </g>\n    <g id=\"xtick_35\">\n     <g id=\"line2d_40\">\n      <g>\n       <use style=\"stroke:#000000;stroke-width:0.6;\" x=\"192.275495\" xlink:href=\"#ma01fbd8f10\" y=\"143.1\"/>\n      </g>\n     </g>\n    </g>\n    <g id=\"xtick_36\">\n     <g id=\"line2d_41\">\n      <g>\n       <use style=\"stroke:#000000;stroke-width:0.6;\" x=\"197.231193\" xlink:href=\"#ma01fbd8f10\" y=\"143.1\"/>\n      </g>\n     </g>\n    </g>\n    <g id=\"xtick_37\">\n     <g id=\"line2d_42\">\n      <g>\n       <use style=\"stroke:#000000;stroke-width:0.6;\" x=\"201.075131\" xlink:href=\"#ma01fbd8f10\" y=\"143.1\"/>\n      </g>\n     </g>\n    </g>\n    <g id=\"xtick_38\">\n     <g id=\"line2d_43\">\n      <g>\n       <use style=\"stroke:#000000;stroke-width:0.6;\" x=\"204.215857\" xlink:href=\"#ma01fbd8f10\" y=\"143.1\"/>\n      </g>\n     </g>\n    </g>\n    <g id=\"xtick_39\">\n     <g id=\"line2d_44\">\n      <g>\n       <use style=\"stroke:#000000;stroke-width:0.6;\" x=\"206.871303\" xlink:href=\"#ma01fbd8f10\" y=\"143.1\"/>\n      </g>\n     </g>\n    </g>\n    <g id=\"xtick_40\">\n     <g id=\"line2d_45\">\n      <g>\n       <use style=\"stroke:#000000;stroke-width:0.6;\" x=\"209.171555\" xlink:href=\"#ma01fbd8f10\" y=\"143.1\"/>\n      </g>\n     </g>\n    </g>\n    <g id=\"xtick_41\">\n     <g id=\"line2d_46\">\n      <g>\n       <use style=\"stroke:#000000;stroke-width:0.6;\" x=\"211.200521\" xlink:href=\"#ma01fbd8f10\" y=\"143.1\"/>\n      </g>\n     </g>\n    </g>\n    <g id=\"xtick_42\">\n     <g id=\"line2d_47\">\n      <g>\n       <use style=\"stroke:#000000;stroke-width:0.6;\" x=\"224.955854\" xlink:href=\"#ma01fbd8f10\" y=\"143.1\"/>\n      </g>\n     </g>\n    </g>\n    <g id=\"xtick_43\">\n     <g id=\"line2d_48\">\n      <g>\n       <use style=\"stroke:#000000;stroke-width:0.6;\" x=\"231.940518\" xlink:href=\"#ma01fbd8f10\" y=\"143.1\"/>\n      </g>\n     </g>\n    </g>\n    <g id=\"xtick_44\">\n     <g id=\"line2d_49\">\n      <g>\n       <use style=\"stroke:#000000;stroke-width:0.6;\" x=\"236.896216\" xlink:href=\"#ma01fbd8f10\" y=\"143.1\"/>\n      </g>\n     </g>\n    </g>\n    <g id=\"xtick_45\">\n     <g id=\"line2d_50\">\n      <g>\n       <use style=\"stroke:#000000;stroke-width:0.6;\" x=\"240.740154\" xlink:href=\"#ma01fbd8f10\" y=\"143.1\"/>\n      </g>\n     </g>\n    </g>\n    <g id=\"text_6\">\n     <!-- token: x -->\n     <defs>\n      <path d=\"M 18.3125 70.21875 \nL 18.3125 54.6875 \nL 36.8125 54.6875 \nL 36.8125 47.703125 \nL 18.3125 47.703125 \nL 18.3125 18.015625 \nQ 18.3125 11.328125 20.140625 9.421875 \nQ 21.96875 7.515625 27.59375 7.515625 \nL 36.8125 7.515625 \nL 36.8125 0 \nL 27.59375 0 \nQ 17.1875 0 13.234375 3.875 \nQ 9.28125 7.765625 9.28125 18.015625 \nL 9.28125 47.703125 \nL 2.6875 47.703125 \nL 2.6875 54.6875 \nL 9.28125 54.6875 \nL 9.28125 70.21875 \nz\n\" id=\"DejaVuSans-116\"/>\n      <path d=\"M 30.609375 48.390625 \nQ 23.390625 48.390625 19.1875 42.75 \nQ 14.984375 37.109375 14.984375 27.296875 \nQ 14.984375 17.484375 19.15625 11.84375 \nQ 23.34375 6.203125 30.609375 6.203125 \nQ 37.796875 6.203125 41.984375 11.859375 \nQ 46.1875 17.53125 46.1875 27.296875 \nQ 46.1875 37.015625 41.984375 42.703125 \nQ 37.796875 48.390625 30.609375 48.390625 \nz\nM 30.609375 56 \nQ 42.328125 56 49.015625 48.375 \nQ 55.71875 40.765625 55.71875 27.296875 \nQ 55.71875 13.875 49.015625 6.21875 \nQ 42.328125 -1.421875 30.609375 -1.421875 \nQ 18.84375 -1.421875 12.171875 6.21875 \nQ 5.515625 13.875 5.515625 27.296875 \nQ 5.515625 40.765625 12.171875 48.375 \nQ 18.84375 56 30.609375 56 \nz\n\" id=\"DejaVuSans-111\"/>\n      <path d=\"M 9.078125 75.984375 \nL 18.109375 75.984375 \nL 18.109375 31.109375 \nL 44.921875 54.6875 \nL 56.390625 54.6875 \nL 27.390625 29.109375 \nL 57.625 0 \nL 45.90625 0 \nL 18.109375 26.703125 \nL 18.109375 0 \nL 9.078125 0 \nz\n\" id=\"DejaVuSans-107\"/>\n      <path d=\"M 56.203125 29.59375 \nL 56.203125 25.203125 \nL 14.890625 25.203125 \nQ 15.484375 15.921875 20.484375 11.0625 \nQ 25.484375 6.203125 34.421875 6.203125 \nQ 39.59375 6.203125 44.453125 7.46875 \nQ 49.3125 8.734375 54.109375 11.28125 \nL 54.109375 2.78125 \nQ 49.265625 0.734375 44.1875 -0.34375 \nQ 39.109375 -1.421875 33.890625 -1.421875 \nQ 20.796875 -1.421875 13.15625 6.1875 \nQ 5.515625 13.8125 5.515625 26.8125 \nQ 5.515625 40.234375 12.765625 48.109375 \nQ 20.015625 56 32.328125 56 \nQ 43.359375 56 49.78125 48.890625 \nQ 56.203125 41.796875 56.203125 29.59375 \nz\nM 47.21875 32.234375 \nQ 47.125 39.59375 43.09375 43.984375 \nQ 39.0625 48.390625 32.421875 48.390625 \nQ 24.90625 48.390625 20.390625 44.140625 \nQ 15.875 39.890625 15.1875 32.171875 \nz\n\" id=\"DejaVuSans-101\"/>\n      <path d=\"M 54.890625 33.015625 \nL 54.890625 0 \nL 45.90625 0 \nL 45.90625 32.71875 \nQ 45.90625 40.484375 42.875 44.328125 \nQ 39.84375 48.1875 33.796875 48.1875 \nQ 26.515625 48.1875 22.3125 43.546875 \nQ 18.109375 38.921875 18.109375 30.90625 \nL 18.109375 0 \nL 9.078125 0 \nL 9.078125 54.6875 \nL 18.109375 54.6875 \nL 18.109375 46.1875 \nQ 21.34375 51.125 25.703125 53.5625 \nQ 30.078125 56 35.796875 56 \nQ 45.21875 56 50.046875 50.171875 \nQ 54.890625 44.34375 54.890625 33.015625 \nz\n\" id=\"DejaVuSans-110\"/>\n      <path d=\"M 11.71875 12.40625 \nL 22.015625 12.40625 \nL 22.015625 0 \nL 11.71875 0 \nz\nM 11.71875 51.703125 \nL 22.015625 51.703125 \nL 22.015625 39.3125 \nL 11.71875 39.3125 \nz\n\" id=\"DejaVuSans-58\"/>\n      <path id=\"DejaVuSans-32\"/>\n      <path d=\"M 54.890625 54.6875 \nL 35.109375 28.078125 \nL 55.90625 0 \nL 45.3125 0 \nL 29.390625 21.484375 \nL 13.484375 0 \nL 2.875 0 \nL 24.125 28.609375 \nL 4.6875 54.6875 \nL 15.28125 54.6875 \nL 29.78125 35.203125 \nL 44.28125 54.6875 \nz\n\" id=\"DejaVuSans-120\"/>\n     </defs>\n     <g transform=\"translate(122.916406 171.376563)scale(0.1 -0.1)\">\n      <use xlink:href=\"#DejaVuSans-116\"/>\n      <use x=\"39.208984\" xlink:href=\"#DejaVuSans-111\"/>\n      <use x=\"100.390625\" xlink:href=\"#DejaVuSans-107\"/>\n      <use x=\"154.675781\" xlink:href=\"#DejaVuSans-101\"/>\n      <use x=\"216.199219\" xlink:href=\"#DejaVuSans-110\"/>\n      <use x=\"279.578125\" xlink:href=\"#DejaVuSans-58\"/>\n      <use x=\"313.269531\" xlink:href=\"#DejaVuSans-32\"/>\n      <use x=\"345.056641\" xlink:href=\"#DejaVuSans-120\"/>\n     </g>\n    </g>\n   </g>\n   <g id=\"matplotlib.axis_2\">\n    <g id=\"ytick_1\">\n     <g id=\"line2d_51\">\n      <path clip-path=\"url(#p8915937181)\" d=\"M 45.478125 136.922727 \nL 240.778125 136.922727 \n\" style=\"fill:none;stroke:#b0b0b0;stroke-linecap:square;stroke-width:0.8;\"/>\n     </g>\n     <g id=\"line2d_52\">\n      <defs>\n       <path d=\"M 0 0 \nL -3.5 0 \n\" id=\"mb8235d197b\" style=\"stroke:#000000;stroke-width:0.8;\"/>\n      </defs>\n      <g>\n       <use style=\"stroke:#000000;stroke-width:0.8;\" x=\"45.478125\" xlink:href=\"#mb8235d197b\" y=\"136.922727\"/>\n      </g>\n     </g>\n     <g id=\"text_7\">\n      <!-- $\\mathdefault{10^{0}}$ -->\n      <g transform=\"translate(20.878125 140.721946)scale(0.1 -0.1)\">\n       <use transform=\"translate(0 0.765625)\" xlink:href=\"#DejaVuSans-49\"/>\n       <use transform=\"translate(63.623047 0.765625)\" xlink:href=\"#DejaVuSans-48\"/>\n       <use transform=\"translate(128.203125 39.046875)scale(0.7)\" xlink:href=\"#DejaVuSans-48\"/>\n      </g>\n     </g>\n    </g>\n    <g id=\"ytick_2\">\n     <g id=\"line2d_53\">\n      <path clip-path=\"url(#p8915937181)\" d=\"M 45.478125 100.1139 \nL 240.778125 100.1139 \n\" style=\"fill:none;stroke:#b0b0b0;stroke-linecap:square;stroke-width:0.8;\"/>\n     </g>\n     <g id=\"line2d_54\">\n      <g>\n       <use style=\"stroke:#000000;stroke-width:0.8;\" x=\"45.478125\" xlink:href=\"#mb8235d197b\" y=\"100.1139\"/>\n      </g>\n     </g>\n     <g id=\"text_8\">\n      <!-- $\\mathdefault{10^{1}}$ -->\n      <g transform=\"translate(20.878125 103.913119)scale(0.1 -0.1)\">\n       <use transform=\"translate(0 0.684375)\" xlink:href=\"#DejaVuSans-49\"/>\n       <use transform=\"translate(63.623047 0.684375)\" xlink:href=\"#DejaVuSans-48\"/>\n       <use transform=\"translate(128.203125 38.965625)scale(0.7)\" xlink:href=\"#DejaVuSans-49\"/>\n      </g>\n     </g>\n    </g>\n    <g id=\"ytick_3\">\n     <g id=\"line2d_55\">\n      <path clip-path=\"url(#p8915937181)\" d=\"M 45.478125 63.305073 \nL 240.778125 63.305073 \n\" style=\"fill:none;stroke:#b0b0b0;stroke-linecap:square;stroke-width:0.8;\"/>\n     </g>\n     <g id=\"line2d_56\">\n      <g>\n       <use style=\"stroke:#000000;stroke-width:0.8;\" x=\"45.478125\" xlink:href=\"#mb8235d197b\" y=\"63.305073\"/>\n      </g>\n     </g>\n     <g id=\"text_9\">\n      <!-- $\\mathdefault{10^{2}}$ -->\n      <g transform=\"translate(20.878125 67.104291)scale(0.1 -0.1)\">\n       <use transform=\"translate(0 0.765625)\" xlink:href=\"#DejaVuSans-49\"/>\n       <use transform=\"translate(63.623047 0.765625)\" xlink:href=\"#DejaVuSans-48\"/>\n       <use transform=\"translate(128.203125 39.046875)scale(0.7)\" xlink:href=\"#DejaVuSans-50\"/>\n      </g>\n     </g>\n    </g>\n    <g id=\"ytick_4\">\n     <g id=\"line2d_57\">\n      <path clip-path=\"url(#p8915937181)\" d=\"M 45.478125 26.496245 \nL 240.778125 26.496245 \n\" style=\"fill:none;stroke:#b0b0b0;stroke-linecap:square;stroke-width:0.8;\"/>\n     </g>\n     <g id=\"line2d_58\">\n      <g>\n       <use style=\"stroke:#000000;stroke-width:0.8;\" x=\"45.478125\" xlink:href=\"#mb8235d197b\" y=\"26.496245\"/>\n      </g>\n     </g>\n     <g id=\"text_10\">\n      <!-- $\\mathdefault{10^{3}}$ -->\n      <g transform=\"translate(20.878125 30.295464)scale(0.1 -0.1)\">\n       <use transform=\"translate(0 0.765625)\" xlink:href=\"#DejaVuSans-49\"/>\n       <use transform=\"translate(63.623047 0.765625)\" xlink:href=\"#DejaVuSans-48\"/>\n       <use transform=\"translate(128.203125 39.046875)scale(0.7)\" xlink:href=\"#DejaVuSans-51\"/>\n      </g>\n     </g>\n    </g>\n    <g id=\"ytick_5\">\n     <g id=\"line2d_59\">\n      <defs>\n       <path d=\"M 0 0 \nL -2 0 \n\" id=\"m151a10570b\" style=\"stroke:#000000;stroke-width:0.6;\"/>\n      </defs>\n      <g>\n       <use style=\"stroke:#000000;stroke-width:0.6;\" x=\"45.478125\" xlink:href=\"#m151a10570b\" y=\"142.624487\"/>\n      </g>\n     </g>\n    </g>\n    <g id=\"ytick_6\">\n     <g id=\"line2d_60\">\n      <g>\n       <use style=\"stroke:#000000;stroke-width:0.6;\" x=\"45.478125\" xlink:href=\"#m151a10570b\" y=\"140.489871\"/>\n      </g>\n     </g>\n    </g>\n    <g id=\"ytick_7\">\n     <g id=\"line2d_61\">\n      <g>\n       <use style=\"stroke:#000000;stroke-width:0.6;\" x=\"45.478125\" xlink:href=\"#m151a10570b\" y=\"138.607007\"/>\n      </g>\n     </g>\n    </g>\n    <g id=\"ytick_8\">\n     <g id=\"line2d_62\">\n      <g>\n       <use style=\"stroke:#000000;stroke-width:0.6;\" x=\"45.478125\" xlink:href=\"#m151a10570b\" y=\"125.842166\"/>\n      </g>\n     </g>\n    </g>\n    <g id=\"ytick_9\">\n     <g id=\"line2d_63\">\n      <g>\n       <use style=\"stroke:#000000;stroke-width:0.6;\" x=\"45.478125\" xlink:href=\"#m151a10570b\" y=\"119.360453\"/>\n      </g>\n     </g>\n    </g>\n    <g id=\"ytick_10\">\n     <g id=\"line2d_64\">\n      <g>\n       <use style=\"stroke:#000000;stroke-width:0.6;\" x=\"45.478125\" xlink:href=\"#m151a10570b\" y=\"114.761605\"/>\n      </g>\n     </g>\n    </g>\n    <g id=\"ytick_11\">\n     <g id=\"line2d_65\">\n      <g>\n       <use style=\"stroke:#000000;stroke-width:0.6;\" x=\"45.478125\" xlink:href=\"#m151a10570b\" y=\"111.194461\"/>\n      </g>\n     </g>\n    </g>\n    <g id=\"ytick_12\">\n     <g id=\"line2d_66\">\n      <g>\n       <use style=\"stroke:#000000;stroke-width:0.6;\" x=\"45.478125\" xlink:href=\"#m151a10570b\" y=\"108.279892\"/>\n      </g>\n     </g>\n    </g>\n    <g id=\"ytick_13\">\n     <g id=\"line2d_67\">\n      <g>\n       <use style=\"stroke:#000000;stroke-width:0.6;\" x=\"45.478125\" xlink:href=\"#m151a10570b\" y=\"105.815659\"/>\n      </g>\n     </g>\n    </g>\n    <g id=\"ytick_14\">\n     <g id=\"line2d_68\">\n      <g>\n       <use style=\"stroke:#000000;stroke-width:0.6;\" x=\"45.478125\" xlink:href=\"#m151a10570b\" y=\"103.681044\"/>\n      </g>\n     </g>\n    </g>\n    <g id=\"ytick_15\">\n     <g id=\"line2d_69\">\n      <g>\n       <use style=\"stroke:#000000;stroke-width:0.6;\" x=\"45.478125\" xlink:href=\"#m151a10570b\" y=\"101.79818\"/>\n      </g>\n     </g>\n    </g>\n    <g id=\"ytick_16\">\n     <g id=\"line2d_70\">\n      <g>\n       <use style=\"stroke:#000000;stroke-width:0.6;\" x=\"45.478125\" xlink:href=\"#m151a10570b\" y=\"89.033339\"/>\n      </g>\n     </g>\n    </g>\n    <g id=\"ytick_17\">\n     <g id=\"line2d_71\">\n      <g>\n       <use style=\"stroke:#000000;stroke-width:0.6;\" x=\"45.478125\" xlink:href=\"#m151a10570b\" y=\"82.551626\"/>\n      </g>\n     </g>\n    </g>\n    <g id=\"ytick_18\">\n     <g id=\"line2d_72\">\n      <g>\n       <use style=\"stroke:#000000;stroke-width:0.6;\" x=\"45.478125\" xlink:href=\"#m151a10570b\" y=\"77.952778\"/>\n      </g>\n     </g>\n    </g>\n    <g id=\"ytick_19\">\n     <g id=\"line2d_73\">\n      <g>\n       <use style=\"stroke:#000000;stroke-width:0.6;\" x=\"45.478125\" xlink:href=\"#m151a10570b\" y=\"74.385634\"/>\n      </g>\n     </g>\n    </g>\n    <g id=\"ytick_20\">\n     <g id=\"line2d_74\">\n      <g>\n       <use style=\"stroke:#000000;stroke-width:0.6;\" x=\"45.478125\" xlink:href=\"#m151a10570b\" y=\"71.471065\"/>\n      </g>\n     </g>\n    </g>\n    <g id=\"ytick_21\">\n     <g id=\"line2d_75\">\n      <g>\n       <use style=\"stroke:#000000;stroke-width:0.6;\" x=\"45.478125\" xlink:href=\"#m151a10570b\" y=\"69.006832\"/>\n      </g>\n     </g>\n    </g>\n    <g id=\"ytick_22\">\n     <g id=\"line2d_76\">\n      <g>\n       <use style=\"stroke:#000000;stroke-width:0.6;\" x=\"45.478125\" xlink:href=\"#m151a10570b\" y=\"66.872217\"/>\n      </g>\n     </g>\n    </g>\n    <g id=\"ytick_23\">\n     <g id=\"line2d_77\">\n      <g>\n       <use style=\"stroke:#000000;stroke-width:0.6;\" x=\"45.478125\" xlink:href=\"#m151a10570b\" y=\"64.989352\"/>\n      </g>\n     </g>\n    </g>\n    <g id=\"ytick_24\">\n     <g id=\"line2d_78\">\n      <g>\n       <use style=\"stroke:#000000;stroke-width:0.6;\" x=\"45.478125\" xlink:href=\"#m151a10570b\" y=\"52.224511\"/>\n      </g>\n     </g>\n    </g>\n    <g id=\"ytick_25\">\n     <g id=\"line2d_79\">\n      <g>\n       <use style=\"stroke:#000000;stroke-width:0.6;\" x=\"45.478125\" xlink:href=\"#m151a10570b\" y=\"45.742799\"/>\n      </g>\n     </g>\n    </g>\n    <g id=\"ytick_26\">\n     <g id=\"line2d_80\">\n      <g>\n       <use style=\"stroke:#000000;stroke-width:0.6;\" x=\"45.478125\" xlink:href=\"#m151a10570b\" y=\"41.14395\"/>\n      </g>\n     </g>\n    </g>\n    <g id=\"ytick_27\">\n     <g id=\"line2d_81\">\n      <g>\n       <use style=\"stroke:#000000;stroke-width:0.6;\" x=\"45.478125\" xlink:href=\"#m151a10570b\" y=\"37.576806\"/>\n      </g>\n     </g>\n    </g>\n    <g id=\"ytick_28\">\n     <g id=\"line2d_82\">\n      <g>\n       <use style=\"stroke:#000000;stroke-width:0.6;\" x=\"45.478125\" xlink:href=\"#m151a10570b\" y=\"34.662238\"/>\n      </g>\n     </g>\n    </g>\n    <g id=\"ytick_29\">\n     <g id=\"line2d_83\">\n      <g>\n       <use style=\"stroke:#000000;stroke-width:0.6;\" x=\"45.478125\" xlink:href=\"#m151a10570b\" y=\"32.198005\"/>\n      </g>\n     </g>\n    </g>\n    <g id=\"ytick_30\">\n     <g id=\"line2d_84\">\n      <g>\n       <use style=\"stroke:#000000;stroke-width:0.6;\" x=\"45.478125\" xlink:href=\"#m151a10570b\" y=\"30.063389\"/>\n      </g>\n     </g>\n    </g>\n    <g id=\"ytick_31\">\n     <g id=\"line2d_85\">\n      <g>\n       <use style=\"stroke:#000000;stroke-width:0.6;\" x=\"45.478125\" xlink:href=\"#m151a10570b\" y=\"28.180525\"/>\n      </g>\n     </g>\n    </g>\n    <g id=\"ytick_32\">\n     <g id=\"line2d_86\">\n      <g>\n       <use style=\"stroke:#000000;stroke-width:0.6;\" x=\"45.478125\" xlink:href=\"#m151a10570b\" y=\"15.415684\"/>\n      </g>\n     </g>\n    </g>\n    <g id=\"ytick_33\">\n     <g id=\"line2d_87\">\n      <g>\n       <use style=\"stroke:#000000;stroke-width:0.6;\" x=\"45.478125\" xlink:href=\"#m151a10570b\" y=\"8.933971\"/>\n      </g>\n     </g>\n    </g>\n    <g id=\"text_11\">\n     <!-- frequency: n(x) -->\n     <defs>\n      <path d=\"M 37.109375 75.984375 \nL 37.109375 68.5 \nL 28.515625 68.5 \nQ 23.6875 68.5 21.796875 66.546875 \nQ 19.921875 64.59375 19.921875 59.515625 \nL 19.921875 54.6875 \nL 34.71875 54.6875 \nL 34.71875 47.703125 \nL 19.921875 47.703125 \nL 19.921875 0 \nL 10.890625 0 \nL 10.890625 47.703125 \nL 2.296875 47.703125 \nL 2.296875 54.6875 \nL 10.890625 54.6875 \nL 10.890625 58.5 \nQ 10.890625 67.625 15.140625 71.796875 \nQ 19.390625 75.984375 28.609375 75.984375 \nz\n\" id=\"DejaVuSans-102\"/>\n      <path d=\"M 41.109375 46.296875 \nQ 39.59375 47.171875 37.8125 47.578125 \nQ 36.03125 48 33.890625 48 \nQ 26.265625 48 22.1875 43.046875 \nQ 18.109375 38.09375 18.109375 28.8125 \nL 18.109375 0 \nL 9.078125 0 \nL 9.078125 54.6875 \nL 18.109375 54.6875 \nL 18.109375 46.1875 \nQ 20.953125 51.171875 25.484375 53.578125 \nQ 30.03125 56 36.53125 56 \nQ 37.453125 56 38.578125 55.875 \nQ 39.703125 55.765625 41.0625 55.515625 \nz\n\" id=\"DejaVuSans-114\"/>\n      <path d=\"M 14.796875 27.296875 \nQ 14.796875 17.390625 18.875 11.75 \nQ 22.953125 6.109375 30.078125 6.109375 \nQ 37.203125 6.109375 41.296875 11.75 \nQ 45.40625 17.390625 45.40625 27.296875 \nQ 45.40625 37.203125 41.296875 42.84375 \nQ 37.203125 48.484375 30.078125 48.484375 \nQ 22.953125 48.484375 18.875 42.84375 \nQ 14.796875 37.203125 14.796875 27.296875 \nz\nM 45.40625 8.203125 \nQ 42.578125 3.328125 38.25 0.953125 \nQ 33.9375 -1.421875 27.875 -1.421875 \nQ 17.96875 -1.421875 11.734375 6.484375 \nQ 5.515625 14.40625 5.515625 27.296875 \nQ 5.515625 40.1875 11.734375 48.09375 \nQ 17.96875 56 27.875 56 \nQ 33.9375 56 38.25 53.625 \nQ 42.578125 51.265625 45.40625 46.390625 \nL 45.40625 54.6875 \nL 54.390625 54.6875 \nL 54.390625 -20.796875 \nL 45.40625 -20.796875 \nz\n\" id=\"DejaVuSans-113\"/>\n      <path d=\"M 8.5 21.578125 \nL 8.5 54.6875 \nL 17.484375 54.6875 \nL 17.484375 21.921875 \nQ 17.484375 14.15625 20.5 10.265625 \nQ 23.53125 6.390625 29.59375 6.390625 \nQ 36.859375 6.390625 41.078125 11.03125 \nQ 45.3125 15.671875 45.3125 23.6875 \nL 45.3125 54.6875 \nL 54.296875 54.6875 \nL 54.296875 0 \nL 45.3125 0 \nL 45.3125 8.40625 \nQ 42.046875 3.421875 37.71875 1 \nQ 33.40625 -1.421875 27.6875 -1.421875 \nQ 18.265625 -1.421875 13.375 4.4375 \nQ 8.5 10.296875 8.5 21.578125 \nz\nM 31.109375 56 \nz\n\" id=\"DejaVuSans-117\"/>\n      <path d=\"M 48.78125 52.59375 \nL 48.78125 44.1875 \nQ 44.96875 46.296875 41.140625 47.34375 \nQ 37.3125 48.390625 33.40625 48.390625 \nQ 24.65625 48.390625 19.8125 42.84375 \nQ 14.984375 37.3125 14.984375 27.296875 \nQ 14.984375 17.28125 19.8125 11.734375 \nQ 24.65625 6.203125 33.40625 6.203125 \nQ 37.3125 6.203125 41.140625 7.25 \nQ 44.96875 8.296875 48.78125 10.40625 \nL 48.78125 2.09375 \nQ 45.015625 0.34375 40.984375 -0.53125 \nQ 36.96875 -1.421875 32.421875 -1.421875 \nQ 20.0625 -1.421875 12.78125 6.34375 \nQ 5.515625 14.109375 5.515625 27.296875 \nQ 5.515625 40.671875 12.859375 48.328125 \nQ 20.21875 56 33.015625 56 \nQ 37.15625 56 41.109375 55.140625 \nQ 45.0625 54.296875 48.78125 52.59375 \nz\n\" id=\"DejaVuSans-99\"/>\n      <path d=\"M 32.171875 -5.078125 \nQ 28.375 -14.84375 24.75 -17.8125 \nQ 21.140625 -20.796875 15.09375 -20.796875 \nL 7.90625 -20.796875 \nL 7.90625 -13.28125 \nL 13.1875 -13.28125 \nQ 16.890625 -13.28125 18.9375 -11.515625 \nQ 21 -9.765625 23.484375 -3.21875 \nL 25.09375 0.875 \nL 2.984375 54.6875 \nL 12.5 54.6875 \nL 29.59375 11.921875 \nL 46.6875 54.6875 \nL 56.203125 54.6875 \nz\n\" id=\"DejaVuSans-121\"/>\n      <path d=\"M 31 75.875 \nQ 24.46875 64.65625 21.28125 53.65625 \nQ 18.109375 42.671875 18.109375 31.390625 \nQ 18.109375 20.125 21.3125 9.0625 \nQ 24.515625 -2 31 -13.1875 \nL 23.1875 -13.1875 \nQ 15.875 -1.703125 12.234375 9.375 \nQ 8.59375 20.453125 8.59375 31.390625 \nQ 8.59375 42.28125 12.203125 53.3125 \nQ 15.828125 64.359375 23.1875 75.875 \nz\n\" id=\"DejaVuSans-40\"/>\n      <path d=\"M 8.015625 75.875 \nL 15.828125 75.875 \nQ 23.140625 64.359375 26.78125 53.3125 \nQ 30.421875 42.28125 30.421875 31.390625 \nQ 30.421875 20.453125 26.78125 9.375 \nQ 23.140625 -1.703125 15.828125 -13.1875 \nL 8.015625 -13.1875 \nQ 14.5 -2 17.703125 9.0625 \nQ 20.90625 20.125 20.90625 31.390625 \nQ 20.90625 42.671875 17.703125 53.65625 \nQ 14.5 64.65625 8.015625 75.875 \nz\n\" id=\"DejaVuSans-41\"/>\n     </defs>\n     <g transform=\"translate(14.798438 113.167187)rotate(-90)scale(0.1 -0.1)\">\n      <use xlink:href=\"#DejaVuSans-102\"/>\n      <use x=\"35.205078\" xlink:href=\"#DejaVuSans-114\"/>\n      <use x=\"74.068359\" xlink:href=\"#DejaVuSans-101\"/>\n      <use x=\"135.591797\" xlink:href=\"#DejaVuSans-113\"/>\n      <use x=\"199.068359\" xlink:href=\"#DejaVuSans-117\"/>\n      <use x=\"262.447266\" xlink:href=\"#DejaVuSans-101\"/>\n      <use x=\"323.970703\" xlink:href=\"#DejaVuSans-110\"/>\n      <use x=\"387.349609\" xlink:href=\"#DejaVuSans-99\"/>\n      <use x=\"442.330078\" xlink:href=\"#DejaVuSans-121\"/>\n      <use x=\"494.259766\" xlink:href=\"#DejaVuSans-58\"/>\n      <use x=\"527.951172\" xlink:href=\"#DejaVuSans-32\"/>\n      <use x=\"559.738281\" xlink:href=\"#DejaVuSans-110\"/>\n      <use x=\"623.117188\" xlink:href=\"#DejaVuSans-40\"/>\n      <use x=\"662.130859\" xlink:href=\"#DejaVuSans-120\"/>\n      <use x=\"721.310547\" xlink:href=\"#DejaVuSans-41\"/>\n     </g>\n    </g>\n   </g>\n   <g id=\"line2d_88\">\n    <path clip-path=\"url(#p8915937181)\" d=\"M -1 22.712734 \nL 54.355398 22.725781 \nL 66.29576 22.993173 \nL 73.280424 24.123622 \nL 78.236122 29.707694 \nL 82.08006 32.567637 \nL 85.220786 35.995165 \nL 87.876232 36.257953 \nL 90.176483 39.511709 \nL 94.020421 39.729702 \nL 95.662263 43.096906 \nL 97.161147 46.788719 \nL 98.539987 47.427078 \nL 101.005085 50.628397 \nL 102.116845 50.920384 \nL 103.161183 51.829779 \nL 104.145811 51.986504 \nL 105.07719 55.992738 \nL 105.960783 56.611623 \nL 106.801257 58.272549 \nL 107.602625 58.272549 \nL 108.368365 58.626494 \nL 109.101509 59.234395 \nL 110.480349 59.995771 \nL 111.130475 60.126269 \nL 112.361449 60.126269 \nL 112.945447 60.65918 \nL 113.510295 60.65918 \nL 114.057207 61.210472 \nL 115.101545 61.210472 \nL 115.600893 61.351317 \nL 116.086173 61.351317 \nL 116.558156 62.373593 \nL 117.017552 62.373593 \nL 117.901145 64.294205 \nL 118.741619 64.638 \nL 119.146963 64.638 \nL 119.542987 64.812711 \nL 119.930111 65.167967 \nL 121.041871 65.716108 \nL 121.745083 65.716108 \nL 122.086209 65.903079 \nL 122.420711 65.903079 \nL 122.748841 66.092263 \nL 123.070837 66.477484 \nL 123.697317 67.483216 \nL 124.002215 67.903921 \nL 124.301811 67.903921 \nL 124.596285 68.1185 \nL 124.885809 68.1185 \nL 125.726283 68.780078 \nL 126.264649 68.780078 \nL 126.527651 69.236849 \nL 126.786698 69.236849 \nL 127.29339 70.691112 \nL 127.541255 70.946891 \nL 127.785604 71.471065 \nL 128.026535 71.471065 \nL 128.264143 71.739741 \nL 128.498518 72.291033 \nL 128.957913 72.291033 \nL 129.183097 72.573976 \nL 129.624821 73.454155 \nL 130.055501 74.069072 \nL 130.26687 74.069072 \nL 130.681981 74.708592 \nL 131.483349 74.708592 \nL 131.677999 75.038209 \nL 131.870473 75.038209 \nL 132.060821 75.374766 \nL 132.435321 75.374766 \nL 132.619561 75.718561 \nL 132.982233 75.718561 \nL 133.160746 76.069913 \nL 133.337427 76.069913 \nL 133.685445 76.796669 \nL 134.026571 76.796669 \nL 134.525919 77.952778 \nL 134.850953 77.952778 \nL 135.011199 78.772746 \nL 135.483182 78.772746 \nL 135.637679 79.199061 \nL 136.536647 79.199061 \nL 136.682017 79.637057 \nL 137.11091 79.637057 \nL 137.251534 80.087393 \nL 137.802822 80.087393 \nL 137.937931 80.550784 \nL 138.598023 80.550784 \nL 138.72706 81.02801 \nL 139.10847 81.02801 \nL 139.233752 81.519922 \nL 139.846853 81.519922 \nL 139.966897 82.027452 \nL 140.204505 82.027452 \nL 140.322091 82.551626 \nL 140.554883 82.551626 \nL 140.670109 83.093572 \nL 140.78457 83.093572 \nL 141.011235 83.654537 \nL 141.673867 83.654537 \nL 141.889198 84.235906 \nL 142.101871 84.235906 \nL 142.311951 84.839218 \nL 142.622343 84.839218 \nL 142.826207 85.466195 \nL 143.127549 85.466195 \nL 143.325555 86.11877 \nL 143.521311 86.11877 \nL 143.714867 86.799122 \nL 144.18945 86.799122 \nL 144.375682 87.509723 \nL 145.101108 87.509723 \nL 145.277789 88.253386 \nL 145.797214 88.253386 \nL 145.966933 89.033339 \nL 146.951561 89.033339 \nL 147.11033 89.853307 \nL 147.731165 89.853307 \nL 147.882939 90.717618 \nL 148.182535 90.717618 \nL 148.330401 91.631345 \nL 148.909491 91.631345 \nL 149.051272 92.600483 \nL 150.145373 92.600483 \nL 150.277376 93.632187 \nL 150.985847 93.632187 \nL 151.111587 94.735098 \nL 151.787215 94.735098 \nL 151.907259 95.919779 \nL 153.286099 95.919779 \nL 153.450945 97.199331 \nL 154.200033 97.199331 \nL 154.3564 98.590284 \nL 155.751197 98.590284 \nL 155.894155 100.1139 \nL 157.436485 100.1139 \nL 157.566169 101.79818 \nL 159.090157 101.79818 \nL 159.208011 103.681044 \nL 161.444525 103.681044 \nL 161.581514 105.815659 \nL 164.114701 105.815659 \nL 164.232087 108.279892 \nL 166.706931 108.279892 \nL 166.833131 111.194461 \nL 170.140699 111.194461 \nL 170.264779 114.761605 \nL 174.125194 114.761605 \nL 174.240091 119.360453 \nL 179.487767 119.360453 \nL 179.607979 125.842166 \nL 186.885628 125.842166 \nL 187.003 136.922727 \nL 199.61629 136.922727 \nL 199.61629 136.922727 \n\" style=\"fill:none;stroke:#1f77b4;stroke-linecap:square;stroke-width:1.5;\"/>\n   </g>\n   <g id=\"line2d_89\">\n    <path clip-path=\"url(#p8915937181)\" d=\"M -1 54.715631 \nL 54.355398 54.728759 \nL 66.29576 59.110951 \nL 73.280424 61.493415 \nL 78.236122 61.927447 \nL 85.220786 63.465736 \nL 87.876232 65.903079 \nL 90.176483 67.276944 \nL 92.205449 68.335998 \nL 94.020421 69.470223 \nL 95.662263 69.707055 \nL 97.161147 70.946891 \nL 98.539987 70.946891 \nL 99.816593 71.20683 \nL 101.005085 71.20683 \nL 102.116845 74.069072 \nL 103.161183 74.069072 \nL 105.07719 74.708592 \nL 105.960783 75.374766 \nL 106.801257 75.374766 \nL 108.368365 76.069913 \nL 109.804721 76.069913 \nL 110.480349 76.429161 \nL 111.130475 76.429161 \nL 111.756955 77.558045 \nL 112.361449 77.952778 \nL 113.510295 77.952778 \nL 114.057207 78.357505 \nL 114.587289 78.357505 \nL 116.086173 79.637057 \nL 117.017552 79.637057 \nL 117.465013 80.550784 \nL 118.326508 80.550784 \nL 118.741619 81.519922 \nL 119.146963 81.519922 \nL 119.930111 82.551626 \nL 121.041871 82.551626 \nL 121.397065 83.093572 \nL 121.745083 83.093572 \nL 122.086209 83.654537 \nL 122.748841 83.654537 \nL 123.070837 84.235906 \nL 123.697317 84.235906 \nL 124.002215 84.839218 \nL 124.596285 84.839218 \nL 124.885809 85.466195 \nL 125.450657 85.466195 \nL 125.726283 86.11877 \nL 126.527651 86.11877 \nL 126.786698 86.799122 \nL 127.541255 86.799122 \nL 127.785604 87.509723 \nL 129.624821 87.509723 \nL 129.841507 88.253386 \nL 130.885845 88.253386 \nL 131.087325 89.033339 \nL 131.870473 89.033339 \nL 132.060821 89.853307 \nL 133.160746 89.853307 \nL 133.337427 90.717618 \nL 134.194634 90.717618 \nL 134.361073 91.631345 \nL 135.169968 91.631345 \nL 135.327287 92.600483 \nL 137.251534 92.600483 \nL 137.391018 93.632187 \nL 139.846853 93.632187 \nL 139.966897 94.735098 \nL 141.889198 94.735098 \nL 142.101871 95.919779 \nL 143.521311 95.919779 \nL 143.714867 97.199331 \nL 145.365455 97.199331 \nL 145.539459 98.590284 \nL 147.500966 98.590284 \nL 147.654773 100.1139 \nL 150.603024 100.1139 \nL 150.731579 101.79818 \nL 152.89521 101.79818 \nL 153.0078 103.681044 \nL 155.988805 103.681044 \nL 156.129812 105.815659 \nL 159.363906 105.815659 \nL 159.479908 108.279892 \nL 163.083241 108.279892 \nL 163.207844 111.194461 \nL 167.691559 111.194461 \nL 167.810773 114.761605 \nL 174.075716 114.761605 \nL 174.190943 119.360453 \nL 182.16388 119.360453 \nL 182.27711 125.842166 \nL 195.454459 125.842166 \nL 195.568667 136.922727 \nL 225.196199 136.922727 \nL 225.196199 136.922727 \n\" style=\"fill:none;stroke:#bf00bf;stroke-dasharray:5.55,2.4;stroke-dashoffset:0;stroke-width:1.5;\"/>\n   </g>\n   <g id=\"line2d_90\">\n    <path clip-path=\"url(#p8915937181)\" d=\"M -1 83.076983 \nL 54.355398 83.093572 \nL 66.29576 86.11877 \nL 73.280424 92.600483 \nL 78.236122 93.632187 \nL 82.08006 93.632187 \nL 85.220786 94.735098 \nL 87.876232 94.735098 \nL 90.176483 95.919779 \nL 92.205449 97.199331 \nL 98.539987 97.199331 \nL 99.816593 98.590284 \nL 106.801257 98.590284 \nL 107.602625 100.1139 \nL 109.804721 100.1139 \nL 110.480349 101.79818 \nL 115.101545 101.79818 \nL 115.600893 103.681044 \nL 121.397065 103.681044 \nL 121.745083 105.815659 \nL 126.264649 105.815659 \nL 126.527651 108.279892 \nL 132.435321 108.279892 \nL 132.619561 111.194461 \nL 140.43888 111.194461 \nL 140.554883 114.761605 \nL 147.958328 114.761605 \nL 148.108123 119.360453 \nL 160.598893 119.360453 \nL 160.742746 125.842166 \nL 181.703368 125.842166 \nL 181.819656 136.922727 \nL 231.900852 136.922727 \nL 231.900852 136.922727 \n\" style=\"fill:none;stroke:#008000;stroke-dasharray:9.6,2.4,1.5,2.4;stroke-dashoffset:0;stroke-width:1.5;\"/>\n   </g>\n   <g id=\"patch_3\">\n    <path d=\"M 45.478125 143.1 \nL 45.478125 7.2 \n\" style=\"fill:none;stroke:#000000;stroke-linecap:square;stroke-linejoin:miter;stroke-width:0.8;\"/>\n   </g>\n   <g id=\"patch_4\">\n    <path d=\"M 240.778125 143.1 \nL 240.778125 7.2 \n\" style=\"fill:none;stroke:#000000;stroke-linecap:square;stroke-linejoin:miter;stroke-width:0.8;\"/>\n   </g>\n   <g id=\"patch_5\">\n    <path d=\"M 45.478125 143.1 \nL 240.778125 143.1 \n\" style=\"fill:none;stroke:#000000;stroke-linecap:square;stroke-linejoin:miter;stroke-width:0.8;\"/>\n   </g>\n   <g id=\"patch_6\">\n    <path d=\"M 45.478125 7.2 \nL 240.778125 7.2 \n\" style=\"fill:none;stroke:#000000;stroke-linecap:square;stroke-linejoin:miter;stroke-width:0.8;\"/>\n   </g>\n   <g id=\"legend_1\">\n    <g id=\"patch_7\">\n     <path d=\"M 159.996875 59.234375 \nL 233.778125 59.234375 \nQ 235.778125 59.234375 235.778125 57.234375 \nL 235.778125 14.2 \nQ 235.778125 12.2 233.778125 12.2 \nL 159.996875 12.2 \nQ 157.996875 12.2 157.996875 14.2 \nL 157.996875 57.234375 \nQ 157.996875 59.234375 159.996875 59.234375 \nz\n\" style=\"fill:#ffffff;opacity:0.8;stroke:#cccccc;stroke-linejoin:miter;\"/>\n    </g>\n    <g id=\"line2d_91\">\n     <path d=\"M 161.996875 20.298438 \nL 181.996875 20.298438 \n\" style=\"fill:none;stroke:#1f77b4;stroke-linecap:square;stroke-width:1.5;\"/>\n    </g>\n    <g id=\"line2d_92\"/>\n    <g id=\"text_12\">\n     <!-- unigram -->\n     <defs>\n      <path d=\"M 9.421875 54.6875 \nL 18.40625 54.6875 \nL 18.40625 0 \nL 9.421875 0 \nz\nM 9.421875 75.984375 \nL 18.40625 75.984375 \nL 18.40625 64.59375 \nL 9.421875 64.59375 \nz\n\" id=\"DejaVuSans-105\"/>\n      <path d=\"M 45.40625 27.984375 \nQ 45.40625 37.75 41.375 43.109375 \nQ 37.359375 48.484375 30.078125 48.484375 \nQ 22.859375 48.484375 18.828125 43.109375 \nQ 14.796875 37.75 14.796875 27.984375 \nQ 14.796875 18.265625 18.828125 12.890625 \nQ 22.859375 7.515625 30.078125 7.515625 \nQ 37.359375 7.515625 41.375 12.890625 \nQ 45.40625 18.265625 45.40625 27.984375 \nz\nM 54.390625 6.78125 \nQ 54.390625 -7.171875 48.1875 -13.984375 \nQ 42 -20.796875 29.203125 -20.796875 \nQ 24.46875 -20.796875 20.265625 -20.09375 \nQ 16.0625 -19.390625 12.109375 -17.921875 \nL 12.109375 -9.1875 \nQ 16.0625 -11.328125 19.921875 -12.34375 \nQ 23.78125 -13.375 27.78125 -13.375 \nQ 36.625 -13.375 41.015625 -8.765625 \nQ 45.40625 -4.15625 45.40625 5.171875 \nL 45.40625 9.625 \nQ 42.625 4.78125 38.28125 2.390625 \nQ 33.9375 0 27.875 0 \nQ 17.828125 0 11.671875 7.65625 \nQ 5.515625 15.328125 5.515625 27.984375 \nQ 5.515625 40.671875 11.671875 48.328125 \nQ 17.828125 56 27.875 56 \nQ 33.9375 56 38.28125 53.609375 \nQ 42.625 51.21875 45.40625 46.390625 \nL 45.40625 54.6875 \nL 54.390625 54.6875 \nz\n\" id=\"DejaVuSans-103\"/>\n      <path d=\"M 34.28125 27.484375 \nQ 23.390625 27.484375 19.1875 25 \nQ 14.984375 22.515625 14.984375 16.5 \nQ 14.984375 11.71875 18.140625 8.90625 \nQ 21.296875 6.109375 26.703125 6.109375 \nQ 34.1875 6.109375 38.703125 11.40625 \nQ 43.21875 16.703125 43.21875 25.484375 \nL 43.21875 27.484375 \nz\nM 52.203125 31.203125 \nL 52.203125 0 \nL 43.21875 0 \nL 43.21875 8.296875 \nQ 40.140625 3.328125 35.546875 0.953125 \nQ 30.953125 -1.421875 24.3125 -1.421875 \nQ 15.921875 -1.421875 10.953125 3.296875 \nQ 6 8.015625 6 15.921875 \nQ 6 25.140625 12.171875 29.828125 \nQ 18.359375 34.515625 30.609375 34.515625 \nL 43.21875 34.515625 \nL 43.21875 35.40625 \nQ 43.21875 41.609375 39.140625 45 \nQ 35.0625 48.390625 27.6875 48.390625 \nQ 23 48.390625 18.546875 47.265625 \nQ 14.109375 46.140625 10.015625 43.890625 \nL 10.015625 52.203125 \nQ 14.9375 54.109375 19.578125 55.046875 \nQ 24.21875 56 28.609375 56 \nQ 40.484375 56 46.34375 49.84375 \nQ 52.203125 43.703125 52.203125 31.203125 \nz\n\" id=\"DejaVuSans-97\"/>\n      <path d=\"M 52 44.1875 \nQ 55.375 50.25 60.0625 53.125 \nQ 64.75 56 71.09375 56 \nQ 79.640625 56 84.28125 50.015625 \nQ 88.921875 44.046875 88.921875 33.015625 \nL 88.921875 0 \nL 79.890625 0 \nL 79.890625 32.71875 \nQ 79.890625 40.578125 77.09375 44.375 \nQ 74.3125 48.1875 68.609375 48.1875 \nQ 61.625 48.1875 57.5625 43.546875 \nQ 53.515625 38.921875 53.515625 30.90625 \nL 53.515625 0 \nL 44.484375 0 \nL 44.484375 32.71875 \nQ 44.484375 40.625 41.703125 44.40625 \nQ 38.921875 48.1875 33.109375 48.1875 \nQ 26.21875 48.1875 22.15625 43.53125 \nQ 18.109375 38.875 18.109375 30.90625 \nL 18.109375 0 \nL 9.078125 0 \nL 9.078125 54.6875 \nL 18.109375 54.6875 \nL 18.109375 46.1875 \nQ 21.1875 51.21875 25.484375 53.609375 \nQ 29.78125 56 35.6875 56 \nQ 41.65625 56 45.828125 52.96875 \nQ 50 49.953125 52 44.1875 \nz\n\" id=\"DejaVuSans-109\"/>\n     </defs>\n     <g transform=\"translate(189.996875 23.798438)scale(0.1 -0.1)\">\n      <use xlink:href=\"#DejaVuSans-117\"/>\n      <use x=\"63.378906\" xlink:href=\"#DejaVuSans-110\"/>\n      <use x=\"126.757812\" xlink:href=\"#DejaVuSans-105\"/>\n      <use x=\"154.541016\" xlink:href=\"#DejaVuSans-103\"/>\n      <use x=\"218.017578\" xlink:href=\"#DejaVuSans-114\"/>\n      <use x=\"259.130859\" xlink:href=\"#DejaVuSans-97\"/>\n      <use x=\"320.410156\" xlink:href=\"#DejaVuSans-109\"/>\n     </g>\n    </g>\n    <g id=\"line2d_93\">\n     <path d=\"M 161.996875 34.976562 \nL 181.996875 34.976562 \n\" style=\"fill:none;stroke:#bf00bf;stroke-dasharray:5.55,2.4;stroke-dashoffset:0;stroke-width:1.5;\"/>\n    </g>\n    <g id=\"line2d_94\"/>\n    <g id=\"text_13\">\n     <!-- bigram -->\n     <defs>\n      <path d=\"M 48.6875 27.296875 \nQ 48.6875 37.203125 44.609375 42.84375 \nQ 40.53125 48.484375 33.40625 48.484375 \nQ 26.265625 48.484375 22.1875 42.84375 \nQ 18.109375 37.203125 18.109375 27.296875 \nQ 18.109375 17.390625 22.1875 11.75 \nQ 26.265625 6.109375 33.40625 6.109375 \nQ 40.53125 6.109375 44.609375 11.75 \nQ 48.6875 17.390625 48.6875 27.296875 \nz\nM 18.109375 46.390625 \nQ 20.953125 51.265625 25.265625 53.625 \nQ 29.59375 56 35.59375 56 \nQ 45.5625 56 51.78125 48.09375 \nQ 58.015625 40.1875 58.015625 27.296875 \nQ 58.015625 14.40625 51.78125 6.484375 \nQ 45.5625 -1.421875 35.59375 -1.421875 \nQ 29.59375 -1.421875 25.265625 0.953125 \nQ 20.953125 3.328125 18.109375 8.203125 \nL 18.109375 0 \nL 9.078125 0 \nL 9.078125 75.984375 \nL 18.109375 75.984375 \nz\n\" id=\"DejaVuSans-98\"/>\n     </defs>\n     <g transform=\"translate(189.996875 38.476562)scale(0.1 -0.1)\">\n      <use xlink:href=\"#DejaVuSans-98\"/>\n      <use x=\"63.476562\" xlink:href=\"#DejaVuSans-105\"/>\n      <use x=\"91.259766\" xlink:href=\"#DejaVuSans-103\"/>\n      <use x=\"154.736328\" xlink:href=\"#DejaVuSans-114\"/>\n      <use x=\"195.849609\" xlink:href=\"#DejaVuSans-97\"/>\n      <use x=\"257.128906\" xlink:href=\"#DejaVuSans-109\"/>\n     </g>\n    </g>\n    <g id=\"line2d_95\">\n     <path d=\"M 161.996875 49.654688 \nL 181.996875 49.654688 \n\" style=\"fill:none;stroke:#008000;stroke-dasharray:9.6,2.4,1.5,2.4;stroke-dashoffset:0;stroke-width:1.5;\"/>\n    </g>\n    <g id=\"line2d_96\"/>\n    <g id=\"text_14\">\n     <!-- trigram -->\n     <g transform=\"translate(189.996875 53.154688)scale(0.1 -0.1)\">\n      <use xlink:href=\"#DejaVuSans-116\"/>\n      <use x=\"39.208984\" xlink:href=\"#DejaVuSans-114\"/>\n      <use x=\"80.322266\" xlink:href=\"#DejaVuSans-105\"/>\n      <use x=\"108.105469\" xlink:href=\"#DejaVuSans-103\"/>\n      <use x=\"171.582031\" xlink:href=\"#DejaVuSans-114\"/>\n      <use x=\"212.695312\" xlink:href=\"#DejaVuSans-97\"/>\n      <use x=\"273.974609\" xlink:href=\"#DejaVuSans-109\"/>\n     </g>\n    </g>\n   </g>\n  </g>\n </g>\n <defs>\n  <clipPath id=\"p8915937181\">\n   <rect height=\"135.9\" width=\"195.3\" x=\"45.478125\" y=\"7.2\"/>\n  </clipPath>\n </defs>\n</svg>\n"
          },
          "metadata": {
            "tags": [],
            "needs_background": "light"
          }
        }
      ]
    },
    {
      "cell_type": "markdown",
      "metadata": {
        "id": "aD7PYU7cQ0R6"
      },
      "source": [
        "### Load Data for Translation\n",
        "\n",
        "The data are from: http://www.manythings.org/bilingual/"
      ]
    },
    {
      "cell_type": "code",
      "metadata": {
        "id": "FcrA0ve1Rsu-"
      },
      "source": [
        "import sys\n",
        "import zipfile\n",
        "from d2l import tensorflow as d2l\n",
        "import tensorflow as tf\n",
        "import os\n"
      ],
      "execution_count": 203,
      "outputs": []
    },
    {
      "cell_type": "code",
      "metadata": {
        "id": "0PoVndpwWaaw",
        "outputId": "3a2f9aef-1847-4ffb-9a1c-6d4962f60bde",
        "colab": {
          "base_uri": "https://localhost:8080/"
        }
      },
      "source": [
        "!wget -cP drive/My\\ Drive/Data/TextData 'http://www.manythings.org/anki/fra-eng.zip'"
      ],
      "execution_count": 204,
      "outputs": [
        {
          "output_type": "stream",
          "text": [
            "--2020-11-11 10:42:17--  http://www.manythings.org/anki/fra-eng.zip\n",
            "Resolving www.manythings.org (www.manythings.org)... 172.67.173.198, 104.24.108.196, 104.24.109.196, ...\n",
            "Connecting to www.manythings.org (www.manythings.org)|172.67.173.198|:80... connected.\n",
            "HTTP request sent, awaiting response... 416 Requested Range Not Satisfiable\n",
            "\n",
            "    The file is already fully retrieved; nothing to do.\n",
            "\n"
          ],
          "name": "stdout"
        }
      ]
    },
    {
      "cell_type": "code",
      "metadata": {
        "id": "MfC63q04X79f"
      },
      "source": [
        "with zipfile.ZipFile('drive/My Drive/Data/TextData/fra-eng.zip', 'r') as f:\n",
        "  raw_text_fra = f.read('fra.txt').decode(\"utf-8\")"
      ],
      "execution_count": 205,
      "outputs": []
    },
    {
      "cell_type": "code",
      "metadata": {
        "id": "1sYgvEKdYERQ",
        "outputId": "fcc8f871-5ab8-49d3-87aa-7105c28c65e5",
        "colab": {
          "base_uri": "https://localhost:8080/"
        }
      },
      "source": [
        "print(raw_text_fra[0:200])"
      ],
      "execution_count": 206,
      "outputs": [
        {
          "output_type": "stream",
          "text": [
            "Go.\tVa !\tCC-BY 2.0 (France) Attribution: tatoeba.org #2877272 (CM) & #1158250 (Wittydev)\n",
            "Hi.\tSalut !\tCC-BY 2.0 (France) Attribution: tatoeba.org #538123 (CM) & #509819 (Aiji)\n",
            "Hi.\tSalut.\tCC-BY 2.0 (Fra\n"
          ],
          "name": "stdout"
        }
      ]
    },
    {
      "cell_type": "code",
      "metadata": {
        "id": "XADDLR45UOEr",
        "outputId": "fb26fd05-0c89-4437-c314-b193915823ab",
        "colab": {
          "base_uri": "https://localhost:8080/"
        }
      },
      "source": [
        "!wget -cP drive/My\\ Drive/Data/TextData 'http://www.manythings.org/anki/fin-eng.zip'"
      ],
      "execution_count": 207,
      "outputs": [
        {
          "output_type": "stream",
          "text": [
            "--2020-11-11 10:42:18--  http://www.manythings.org/anki/fin-eng.zip\n",
            "Resolving www.manythings.org (www.manythings.org)... 172.67.173.198, 104.24.108.196, 104.24.109.196, ...\n",
            "Connecting to www.manythings.org (www.manythings.org)|172.67.173.198|:80... connected.\n",
            "HTTP request sent, awaiting response... 416 Requested Range Not Satisfiable\n",
            "\n",
            "    The file is already fully retrieved; nothing to do.\n",
            "\n"
          ],
          "name": "stdout"
        }
      ]
    },
    {
      "cell_type": "code",
      "metadata": {
        "id": "ppPROJLTV80W"
      },
      "source": [
        "with zipfile.ZipFile('drive/My Drive/Data/TextData/fin-eng.zip', 'r') as f:\n",
        "  raw_text_fin = f.read('fin.txt').decode(\"utf-8\")"
      ],
      "execution_count": 208,
      "outputs": []
    },
    {
      "cell_type": "code",
      "metadata": {
        "id": "CEUpFN0WWJn9",
        "outputId": "53e8813f-a615-45d9-fe30-09a085d759d5",
        "colab": {
          "base_uri": "https://localhost:8080/"
        }
      },
      "source": [
        "print(raw_text_fin[0:200])"
      ],
      "execution_count": 209,
      "outputs": [
        {
          "output_type": "stream",
          "text": [
            "Go.\tMene.\tCC-BY 2.0 (France) Attribution: tatoeba.org #2877272 (CM) & #5729273 (awrynai)\n",
            "Hi.\tMoro!\tCC-BY 2.0 (France) Attribution: tatoeba.org #538123 (CM) & #3381350 (Silja)\n",
            "Hi.\tTerve.\tCC-BY 2.0 (Fra\n"
          ],
          "name": "stdout"
        }
      ]
    },
    {
      "cell_type": "code",
      "metadata": {
        "id": "KbC0a8vhnsxu"
      },
      "source": [
        "#!unzip 'drive/My Drive/Data/TextData/fin-eng.zip' -d 'drive/My Drive/Data/TextData' "
      ],
      "execution_count": 210,
      "outputs": []
    },
    {
      "cell_type": "code",
      "metadata": {
        "id": "AOeDAI8fv6mG"
      },
      "source": [
        "#!unzip 'drive/My Drive/Data/TextData/fra-eng.zip' -d 'drive/My Drive/Data/TextData' "
      ],
      "execution_count": 211,
      "outputs": []
    },
    {
      "cell_type": "code",
      "metadata": {
        "id": "23xuzwS_wWQ4"
      },
      "source": [
        "### eliminte attribution\n",
        "### !cut -d$'\\t' -f  1-2 'drive/My Drive/Data/TextData/fra.txt' | head -n 40"
      ],
      "execution_count": 212,
      "outputs": []
    },
    {
      "cell_type": "code",
      "metadata": {
        "id": "2wLi0Ivuq2rB"
      },
      "source": [
        "### eliminate attribution\n",
        "!cut -d$'\\t' -f  1-2  <'drive/My Drive/Data/TextData/fin.txt'  >fin.new; mv -f fin.new 'drive/My Drive/Data/TextData/fin.txt';\n",
        "!cut -d$'\\t' -f  1-2  <'drive/My Drive/Data/TextData/fra.txt'  >fin.new; mv -f fin.new 'drive/My Drive/Data/TextData/fra.txt';"
      ],
      "execution_count": 213,
      "outputs": []
    },
    {
      "cell_type": "code",
      "metadata": {
        "id": "SJG6jg-kX5yi",
        "outputId": "a1e658e3-80c2-4947-a0c8-040111cde056",
        "colab": {
          "base_uri": "https://localhost:8080/"
        }
      },
      "source": [
        "###  ^I is used to show tabulator \n",
        "!cat -T 'drive/My Drive/Data/TextData/fin.txt' | head -n 10"
      ],
      "execution_count": 214,
      "outputs": [
        {
          "output_type": "stream",
          "text": [
            "Go.^IMene.\n",
            "Hi.^IMoro!\n",
            "Hi.^ITerve.\n",
            "Run!^IJuokse!\n",
            "Run!^IJuoskaa!\n",
            "Run.^IJuokse.\n",
            "Who?^IKuka?\n",
            "Wow!^IMahtavaa!\n",
            "Wow!^ISiistiä!\n",
            "Wow!^IVau!\n"
          ],
          "name": "stdout"
        }
      ]
    },
    {
      "cell_type": "code",
      "metadata": {
        "id": "SLgaVi4COv4r"
      },
      "source": [
        "FRA_ENG_NAME = 'drive/My Drive/Data/TextData/fra.txt'\n",
        "FIN_ENG_NAME = 'drive/My Drive/Data/TextData/fin.txt'\n",
        "def read_data_nmt(file_name):\n",
        "    with open(file_name, 'r') as f:\n",
        "        return f.read()"
      ],
      "execution_count": 215,
      "outputs": []
    },
    {
      "cell_type": "code",
      "metadata": {
        "id": "pfr_s4CGThi5"
      },
      "source": [
        "raw_text_fin = read_data_nmt(FIN_ENG_NAME)\n",
        "raw_text_fra = read_data_nmt(FRA_ENG_NAME)"
      ],
      "execution_count": 216,
      "outputs": []
    },
    {
      "cell_type": "code",
      "metadata": {
        "id": "Icfo0W1DUQGO",
        "outputId": "b993acbf-f2c1-4cad-a7c1-c088d8216ed7",
        "colab": {
          "base_uri": "https://localhost:8080/"
        }
      },
      "source": [
        "print(raw_text_fin[:80])"
      ],
      "execution_count": 217,
      "outputs": [
        {
          "output_type": "stream",
          "text": [
            "Go.\tMene.\n",
            "Hi.\tMoro!\n",
            "Hi.\tTerve.\n",
            "Run!\tJuokse!\n",
            "Run!\tJuoskaa!\n",
            "Run.\tJuokse.\n",
            "Who?\tKuka\n"
          ],
          "name": "stdout"
        }
      ]
    },
    {
      "cell_type": "code",
      "metadata": {
        "id": "xb2geKH2UX9o",
        "outputId": "48303444-ebaf-4e83-ebb6-f5af9c3f6ce7",
        "colab": {
          "base_uri": "https://localhost:8080/"
        }
      },
      "source": [
        "print(raw_text_fin[:80])"
      ],
      "execution_count": 218,
      "outputs": [
        {
          "output_type": "stream",
          "text": [
            "Go.\tMene.\n",
            "Hi.\tMoro!\n",
            "Hi.\tTerve.\n",
            "Run!\tJuokse!\n",
            "Run!\tJuoskaa!\n",
            "Run.\tJuokse.\n",
            "Who?\tKuka\n"
          ],
          "name": "stdout"
        }
      ]
    },
    {
      "cell_type": "code",
      "metadata": {
        "id": "YLt2xx2pwRGn"
      },
      "source": [
        "### Preprocess the Data Set for translation\n",
        "### from d2l.ai\n",
        "def preprocess_nmt(text):\n",
        "    def no_space(char, prev_char):\n",
        "        return char in set(',.!?') and prev_char != ' '\n",
        "\n",
        "    # Replace non-breaking space with space, and convert uppercase letters to\n",
        "    # lowercase ones\n",
        "    text = text.replace('\\u202f', ' ').replace('\\xa0', ' ').lower()\n",
        "    # Insert space between words and punctuation marks\n",
        "    out = [' ' + char if i > 0 and no_space(char, text[i - 1]) else char\n",
        "           for i, char in enumerate(text)]\n",
        "    return ''.join(out)"
      ],
      "execution_count": 219,
      "outputs": []
    },
    {
      "cell_type": "code",
      "metadata": {
        "id": "YDK32Gt4Tjf2"
      },
      "source": [
        "text_fin = preprocess_nmt(raw_text_fin)\n",
        "text_fra = preprocess_nmt(raw_text_fra)"
      ],
      "execution_count": 220,
      "outputs": []
    },
    {
      "cell_type": "code",
      "metadata": {
        "id": "u4PXKrp2UC8l",
        "outputId": "ecdd5ef8-e012-4635-bf7d-4f5866f4ef6c",
        "colab": {
          "base_uri": "https://localhost:8080/"
        }
      },
      "source": [
        "print(text_fin[:80])"
      ],
      "execution_count": 221,
      "outputs": [
        {
          "output_type": "stream",
          "text": [
            "go .\tmene .\n",
            "hi .\tmoro !\n",
            "hi .\tterve .\n",
            "run !\tjuokse !\n",
            "run !\tjuoskaa !\n",
            "run .\tjuokse\n"
          ],
          "name": "stdout"
        }
      ]
    },
    {
      "cell_type": "code",
      "metadata": {
        "id": "KKJ03jjSUGcT",
        "outputId": "fd4404e0-0a7e-4acf-a4f6-ae1c586f3efc",
        "colab": {
          "base_uri": "https://localhost:8080/"
        }
      },
      "source": [
        "print(text_fra[:80])"
      ],
      "execution_count": 222,
      "outputs": [
        {
          "output_type": "stream",
          "text": [
            "go .\tva !\n",
            "hi .\tsalut !\n",
            "hi .\tsalut .\n",
            "run !\tcours !\n",
            "run !\tcourez !\n",
            "who ?\tqui ?\n",
            "wow\n"
          ],
          "name": "stdout"
        }
      ]
    },
    {
      "cell_type": "markdown",
      "metadata": {
        "id": "ZJt3BIT9U0F3"
      },
      "source": [
        "### Tokenize the pairs (eng-fin) ans (eng-fra) for translation"
      ]
    },
    {
      "cell_type": "code",
      "metadata": {
        "id": "b16-xWd1U39n"
      },
      "source": [
        "### d2l.ai code \n",
        "### tokenize the first num_examples from the translation dataset\n",
        "### here tokens are words or punctuatio marks\n",
        "### Return : two lists of token lists: source and target \n",
        "### source[i] is a list of tokens from the  ith  text sequence \n",
        "### in the source language \n",
        "\n",
        "def tokenize_nmt(text, num_examples=None):\n",
        "    \"\"\"Tokenize the dataset for translation (sentence pairs).\"\"\"\n",
        "    source, target = [], []\n",
        "    for i, line in enumerate(text.split('\\n')):\n",
        "        if num_examples and i > num_examples:\n",
        "            break\n",
        "        parts = line.split('\\t')\n",
        "        if len(parts) == 2:\n",
        "            source.append(parts[0].split(' '))\n",
        "            target.append(parts[1].split(' '))\n",
        "    return source, target"
      ],
      "execution_count": 223,
      "outputs": []
    },
    {
      "cell_type": "code",
      "metadata": {
        "id": "35htGZrHUu0a",
        "outputId": "dd152e24-4a6a-431f-cd1d-6788b23128c2",
        "colab": {
          "base_uri": "https://localhost:8080/"
        }
      },
      "source": [
        "source_fin, target_fin = tokenize_nmt(text_fin)\n",
        "source_fin[:6], target_fin[:6]"
      ],
      "execution_count": 224,
      "outputs": [
        {
          "output_type": "execute_result",
          "data": {
            "text/plain": [
              "([['go', '.'],\n",
              "  ['hi', '.'],\n",
              "  ['hi', '.'],\n",
              "  ['run', '!'],\n",
              "  ['run', '!'],\n",
              "  ['run', '.']],\n",
              " [['mene', '.'],\n",
              "  ['moro', '!'],\n",
              "  ['terve', '.'],\n",
              "  ['juokse', '!'],\n",
              "  ['juoskaa', '!'],\n",
              "  ['juokse', '.']])"
            ]
          },
          "metadata": {
            "tags": []
          },
          "execution_count": 224
        }
      ]
    },
    {
      "cell_type": "code",
      "metadata": {
        "id": "gDzjixH9VYga",
        "outputId": "05d1ca49-f048-4be4-cfee-0af5c4f36d6d",
        "colab": {
          "base_uri": "https://localhost:8080/"
        }
      },
      "source": [
        "source_fra, target_fra = tokenize_nmt(text_fra)\n",
        "source_fra[:6], target_fra[:6]"
      ],
      "execution_count": 225,
      "outputs": [
        {
          "output_type": "execute_result",
          "data": {
            "text/plain": [
              "([['go', '.'],\n",
              "  ['hi', '.'],\n",
              "  ['hi', '.'],\n",
              "  ['run', '!'],\n",
              "  ['run', '!'],\n",
              "  ['who', '?']],\n",
              " [['va', '!'],\n",
              "  ['salut', '!'],\n",
              "  ['salut', '.'],\n",
              "  ['cours', '!'],\n",
              "  ['courez', '!'],\n",
              "  ['qui', '?']])"
            ]
          },
          "metadata": {
            "tags": []
          },
          "execution_count": 225
        }
      ]
    },
    {
      "cell_type": "code",
      "metadata": {
        "id": "afg-P7dUXYNl",
        "outputId": "fc15b4ca-27a1-44b6-bb6b-252ddc657e91",
        "colab": {
          "base_uri": "https://localhost:8080/",
          "height": 243
        }
      },
      "source": [
        "### from d2l.ai\n",
        "### length of sentences diagrams for france text\n",
        "d2l.set_figsize()\n",
        "_, _, patches = d2l.plt.hist(\n",
        "    [[len(l) for l in source_fra], [len(l) for l in target_fra]],\n",
        "    label=['source', 'target'])\n",
        "for patch in patches[1].patches:\n",
        "    patch.set_hatch('/')\n",
        "d2l.plt.legend(loc='upper right');"
      ],
      "execution_count": 226,
      "outputs": [
        {
          "output_type": "display_data",
          "data": {
            "text/plain": [
              "<Figure size 252x180 with 1 Axes>"
            ],
            "image/svg+xml": "<?xml version=\"1.0\" encoding=\"utf-8\" standalone=\"no\"?>\n<!DOCTYPE svg PUBLIC \"-//W3C//DTD SVG 1.1//EN\"\n  \"http://www.w3.org/Graphics/SVG/1.1/DTD/svg11.dtd\">\n<!-- Created with matplotlib (https://matplotlib.org/) -->\n<svg height=\"166.978125pt\" version=\"1.1\" viewBox=\"0 0 257.350316 166.978125\" width=\"257.350316pt\" xmlns=\"http://www.w3.org/2000/svg\" xmlns:xlink=\"http://www.w3.org/1999/xlink\">\n <defs>\n  <style type=\"text/css\">\n*{stroke-linecap:butt;stroke-linejoin:round;}\n  </style>\n </defs>\n <g id=\"figure_1\">\n  <g id=\"patch_1\">\n   <path d=\"M 0 166.978125 \nL 257.350316 166.978125 \nL 257.350316 0 \nL 0 0 \nz\n\" style=\"fill:none;\"/>\n  </g>\n  <g id=\"axes_1\">\n   <g id=\"patch_2\">\n    <path d=\"M 52.375 143.1 \nL 247.675 143.1 \nL 247.675 7.2 \nL 52.375 7.2 \nz\n\" style=\"fill:#ffffff;\"/>\n   </g>\n   <g id=\"patch_3\">\n    <path clip-path=\"url(#p50ef967016)\" d=\"M 61.252273 143.1 \nL 68.499026 143.1 \nL 68.499026 13.671429 \nL 61.252273 13.671429 \nz\n\" style=\"fill:#1f77b4;\"/>\n   </g>\n   <g id=\"patch_4\">\n    <path clip-path=\"url(#p50ef967016)\" d=\"M 79.369156 143.1 \nL 86.615909 143.1 \nL 86.615909 69.341783 \nL 79.369156 69.341783 \nz\n\" style=\"fill:#1f77b4;\"/>\n   </g>\n   <g id=\"patch_5\">\n    <path clip-path=\"url(#p50ef967016)\" d=\"M 97.486039 143.1 \nL 104.732792 143.1 \nL 104.732792 138.429107 \nL 97.486039 138.429107 \nz\n\" style=\"fill:#1f77b4;\"/>\n   </g>\n   <g id=\"patch_6\">\n    <path clip-path=\"url(#p50ef967016)\" d=\"M 115.602922 143.1 \nL 122.849675 143.1 \nL 122.849675 142.713782 \nL 115.602922 142.713782 \nz\n\" style=\"fill:#1f77b4;\"/>\n   </g>\n   <g id=\"patch_7\">\n    <path clip-path=\"url(#p50ef967016)\" d=\"M 133.719805 143.1 \nL 140.966558 143.1 \nL 140.966558 143.03563 \nL 133.719805 143.03563 \nz\n\" style=\"fill:#1f77b4;\"/>\n   </g>\n   <g id=\"patch_8\">\n    <path clip-path=\"url(#p50ef967016)\" d=\"M 151.836688 143.1 \nL 159.083442 143.1 \nL 159.083442 143.080104 \nL 151.836688 143.080104 \nz\n\" style=\"fill:#1f77b4;\"/>\n   </g>\n   <g id=\"patch_9\">\n    <path clip-path=\"url(#p50ef967016)\" d=\"M 169.953571 143.1 \nL 177.200325 143.1 \nL 177.200325 143.096489 \nL 169.953571 143.096489 \nz\n\" style=\"fill:#1f77b4;\"/>\n   </g>\n   <g id=\"patch_10\">\n    <path clip-path=\"url(#p50ef967016)\" d=\"M 188.070455 143.1 \nL 195.317208 143.1 \nL 195.317208 143.09883 \nL 188.070455 143.09883 \nz\n\" style=\"fill:#1f77b4;\"/>\n   </g>\n   <g id=\"patch_11\">\n    <path clip-path=\"url(#p50ef967016)\" d=\"M 206.187338 143.1 \nL 213.434091 143.1 \nL 213.434091 143.09883 \nL 206.187338 143.09883 \nz\n\" style=\"fill:#1f77b4;\"/>\n   </g>\n   <g id=\"patch_12\">\n    <path clip-path=\"url(#p50ef967016)\" d=\"M 224.304221 143.1 \nL 231.550974 143.1 \nL 231.550974 143.1 \nL 224.304221 143.1 \nz\n\" style=\"fill:#1f77b4;\"/>\n   </g>\n   <g id=\"patch_13\">\n    <path clip-path=\"url(#p50ef967016)\" d=\"M 68.499026 143.1 \nL 75.745779 143.1 \nL 75.745779 26.655365 \nL 68.499026 26.655365 \nz\n\" style=\"fill:url(#hc1514acaba);\"/>\n   </g>\n   <g id=\"patch_14\">\n    <path clip-path=\"url(#p50ef967016)\" d=\"M 86.615909 143.1 \nL 93.862662 143.1 \nL 93.862662 59.408966 \nL 86.615909 59.408966 \nz\n\" style=\"fill:url(#hc1514acaba);\"/>\n   </g>\n   <g id=\"patch_15\">\n    <path clip-path=\"url(#p50ef967016)\" d=\"M 104.732792 143.1 \nL 111.979545 143.1 \nL 111.979545 135.725583 \nL 104.732792 135.725583 \nz\n\" style=\"fill:url(#hc1514acaba);\"/>\n   </g>\n   <g id=\"patch_16\">\n    <path clip-path=\"url(#p50ef967016)\" d=\"M 122.849675 143.1 \nL 130.096429 143.1 \nL 130.096429 142.459815 \nL 122.849675 142.459815 \nz\n\" style=\"fill:url(#hc1514acaba);\"/>\n   </g>\n   <g id=\"patch_17\">\n    <path clip-path=\"url(#p50ef967016)\" d=\"M 140.966558 143.1 \nL 148.213312 143.1 \nL 148.213312 142.956046 \nL 140.966558 142.956046 \nz\n\" style=\"fill:url(#hc1514acaba);\"/>\n   </g>\n   <g id=\"patch_18\">\n    <path clip-path=\"url(#p50ef967016)\" d=\"M 159.083442 143.1 \nL 166.330195 143.1 \nL 166.330195 143.0684 \nL 159.083442 143.0684 \nz\n\" style=\"fill:url(#hc1514acaba);\"/>\n   </g>\n   <g id=\"patch_19\">\n    <path clip-path=\"url(#p50ef967016)\" d=\"M 177.200325 143.1 \nL 184.447078 143.1 \nL 184.447078 143.09883 \nL 177.200325 143.09883 \nz\n\" style=\"fill:url(#hc1514acaba);\"/>\n   </g>\n   <g id=\"patch_20\">\n    <path clip-path=\"url(#p50ef967016)\" d=\"M 195.317208 143.1 \nL 202.563961 143.1 \nL 202.563961 143.097659 \nL 195.317208 143.097659 \nz\n\" style=\"fill:url(#hc1514acaba);\"/>\n   </g>\n   <g id=\"patch_21\">\n    <path clip-path=\"url(#p50ef967016)\" d=\"M 213.434091 143.1 \nL 220.680844 143.1 \nL 220.680844 143.096489 \nL 213.434091 143.096489 \nz\n\" style=\"fill:url(#hc1514acaba);\"/>\n   </g>\n   <g id=\"patch_22\">\n    <path clip-path=\"url(#p50ef967016)\" d=\"M 231.550974 143.1 \nL 238.797727 143.1 \nL 238.797727 143.09883 \nL 231.550974 143.09883 \nz\n\" style=\"fill:url(#hc1514acaba);\"/>\n   </g>\n   <g id=\"matplotlib.axis_1\">\n    <g id=\"xtick_1\">\n     <g id=\"line2d_1\">\n      <defs>\n       <path d=\"M 0 0 \nL 0 3.5 \n\" id=\"m9447574272\" style=\"stroke:#000000;stroke-width:0.8;\"/>\n      </defs>\n      <g>\n       <use style=\"stroke:#000000;stroke-width:0.8;\" x=\"53.083783\" xlink:href=\"#m9447574272\" y=\"143.1\"/>\n      </g>\n     </g>\n     <g id=\"text_1\">\n      <!-- 0 -->\n      <defs>\n       <path d=\"M 31.78125 66.40625 \nQ 24.171875 66.40625 20.328125 58.90625 \nQ 16.5 51.421875 16.5 36.375 \nQ 16.5 21.390625 20.328125 13.890625 \nQ 24.171875 6.390625 31.78125 6.390625 \nQ 39.453125 6.390625 43.28125 13.890625 \nQ 47.125 21.390625 47.125 36.375 \nQ 47.125 51.421875 43.28125 58.90625 \nQ 39.453125 66.40625 31.78125 66.40625 \nz\nM 31.78125 74.21875 \nQ 44.046875 74.21875 50.515625 64.515625 \nQ 56.984375 54.828125 56.984375 36.375 \nQ 56.984375 17.96875 50.515625 8.265625 \nQ 44.046875 -1.421875 31.78125 -1.421875 \nQ 19.53125 -1.421875 13.0625 8.265625 \nQ 6.59375 17.96875 6.59375 36.375 \nQ 6.59375 54.828125 13.0625 64.515625 \nQ 19.53125 74.21875 31.78125 74.21875 \nz\n\" id=\"DejaVuSans-48\"/>\n      </defs>\n      <g transform=\"translate(49.902533 157.698438)scale(0.1 -0.1)\">\n       <use xlink:href=\"#DejaVuSans-48\"/>\n      </g>\n     </g>\n    </g>\n    <g id=\"xtick_2\">\n     <g id=\"line2d_2\">\n      <g>\n       <use style=\"stroke:#000000;stroke-width:0.8;\" x=\"116.651794\" xlink:href=\"#m9447574272\" y=\"143.1\"/>\n      </g>\n     </g>\n     <g id=\"text_2\">\n      <!-- 20 -->\n      <defs>\n       <path d=\"M 19.1875 8.296875 \nL 53.609375 8.296875 \nL 53.609375 0 \nL 7.328125 0 \nL 7.328125 8.296875 \nQ 12.9375 14.109375 22.625 23.890625 \nQ 32.328125 33.6875 34.8125 36.53125 \nQ 39.546875 41.84375 41.421875 45.53125 \nQ 43.3125 49.21875 43.3125 52.78125 \nQ 43.3125 58.59375 39.234375 62.25 \nQ 35.15625 65.921875 28.609375 65.921875 \nQ 23.96875 65.921875 18.8125 64.3125 \nQ 13.671875 62.703125 7.8125 59.421875 \nL 7.8125 69.390625 \nQ 13.765625 71.78125 18.9375 73 \nQ 24.125 74.21875 28.421875 74.21875 \nQ 39.75 74.21875 46.484375 68.546875 \nQ 53.21875 62.890625 53.21875 53.421875 \nQ 53.21875 48.921875 51.53125 44.890625 \nQ 49.859375 40.875 45.40625 35.40625 \nQ 44.1875 33.984375 37.640625 27.21875 \nQ 31.109375 20.453125 19.1875 8.296875 \nz\n\" id=\"DejaVuSans-50\"/>\n      </defs>\n      <g transform=\"translate(110.289294 157.698438)scale(0.1 -0.1)\">\n       <use xlink:href=\"#DejaVuSans-50\"/>\n       <use x=\"63.623047\" xlink:href=\"#DejaVuSans-48\"/>\n      </g>\n     </g>\n    </g>\n    <g id=\"xtick_3\">\n     <g id=\"line2d_3\">\n      <g>\n       <use style=\"stroke:#000000;stroke-width:0.8;\" x=\"180.219805\" xlink:href=\"#m9447574272\" y=\"143.1\"/>\n      </g>\n     </g>\n     <g id=\"text_3\">\n      <!-- 40 -->\n      <defs>\n       <path d=\"M 37.796875 64.3125 \nL 12.890625 25.390625 \nL 37.796875 25.390625 \nz\nM 35.203125 72.90625 \nL 47.609375 72.90625 \nL 47.609375 25.390625 \nL 58.015625 25.390625 \nL 58.015625 17.1875 \nL 47.609375 17.1875 \nL 47.609375 0 \nL 37.796875 0 \nL 37.796875 17.1875 \nL 4.890625 17.1875 \nL 4.890625 26.703125 \nz\n\" id=\"DejaVuSans-52\"/>\n      </defs>\n      <g transform=\"translate(173.857305 157.698438)scale(0.1 -0.1)\">\n       <use xlink:href=\"#DejaVuSans-52\"/>\n       <use x=\"63.623047\" xlink:href=\"#DejaVuSans-48\"/>\n      </g>\n     </g>\n    </g>\n    <g id=\"xtick_4\">\n     <g id=\"line2d_4\">\n      <g>\n       <use style=\"stroke:#000000;stroke-width:0.8;\" x=\"243.787816\" xlink:href=\"#m9447574272\" y=\"143.1\"/>\n      </g>\n     </g>\n     <g id=\"text_4\">\n      <!-- 60 -->\n      <defs>\n       <path d=\"M 33.015625 40.375 \nQ 26.375 40.375 22.484375 35.828125 \nQ 18.609375 31.296875 18.609375 23.390625 \nQ 18.609375 15.53125 22.484375 10.953125 \nQ 26.375 6.390625 33.015625 6.390625 \nQ 39.65625 6.390625 43.53125 10.953125 \nQ 47.40625 15.53125 47.40625 23.390625 \nQ 47.40625 31.296875 43.53125 35.828125 \nQ 39.65625 40.375 33.015625 40.375 \nz\nM 52.59375 71.296875 \nL 52.59375 62.3125 \nQ 48.875 64.0625 45.09375 64.984375 \nQ 41.3125 65.921875 37.59375 65.921875 \nQ 27.828125 65.921875 22.671875 59.328125 \nQ 17.53125 52.734375 16.796875 39.40625 \nQ 19.671875 43.65625 24.015625 45.921875 \nQ 28.375 48.1875 33.59375 48.1875 \nQ 44.578125 48.1875 50.953125 41.515625 \nQ 57.328125 34.859375 57.328125 23.390625 \nQ 57.328125 12.15625 50.6875 5.359375 \nQ 44.046875 -1.421875 33.015625 -1.421875 \nQ 20.359375 -1.421875 13.671875 8.265625 \nQ 6.984375 17.96875 6.984375 36.375 \nQ 6.984375 53.65625 15.1875 63.9375 \nQ 23.390625 74.21875 37.203125 74.21875 \nQ 40.921875 74.21875 44.703125 73.484375 \nQ 48.484375 72.75 52.59375 71.296875 \nz\n\" id=\"DejaVuSans-54\"/>\n      </defs>\n      <g transform=\"translate(237.425316 157.698438)scale(0.1 -0.1)\">\n       <use xlink:href=\"#DejaVuSans-54\"/>\n       <use x=\"63.623047\" xlink:href=\"#DejaVuSans-48\"/>\n      </g>\n     </g>\n    </g>\n   </g>\n   <g id=\"matplotlib.axis_2\">\n    <g id=\"ytick_1\">\n     <g id=\"line2d_5\">\n      <defs>\n       <path d=\"M 0 0 \nL -3.5 0 \n\" id=\"m21707a88fe\" style=\"stroke:#000000;stroke-width:0.8;\"/>\n      </defs>\n      <g>\n       <use style=\"stroke:#000000;stroke-width:0.8;\" x=\"52.375\" xlink:href=\"#m21707a88fe\" y=\"143.1\"/>\n      </g>\n     </g>\n     <g id=\"text_5\">\n      <!-- 0 -->\n      <g transform=\"translate(39.0125 146.899219)scale(0.1 -0.1)\">\n       <use xlink:href=\"#DejaVuSans-48\"/>\n      </g>\n     </g>\n    </g>\n    <g id=\"ytick_2\">\n     <g id=\"line2d_6\">\n      <g>\n       <use style=\"stroke:#000000;stroke-width:0.8;\" x=\"52.375\" xlink:href=\"#m21707a88fe\" y=\"119.692867\"/>\n      </g>\n     </g>\n     <g id=\"text_6\">\n      <!-- 20000 -->\n      <g transform=\"translate(13.5625 123.492086)scale(0.1 -0.1)\">\n       <use xlink:href=\"#DejaVuSans-50\"/>\n       <use x=\"63.623047\" xlink:href=\"#DejaVuSans-48\"/>\n       <use x=\"127.246094\" xlink:href=\"#DejaVuSans-48\"/>\n       <use x=\"190.869141\" xlink:href=\"#DejaVuSans-48\"/>\n       <use x=\"254.492188\" xlink:href=\"#DejaVuSans-48\"/>\n      </g>\n     </g>\n    </g>\n    <g id=\"ytick_3\">\n     <g id=\"line2d_7\">\n      <g>\n       <use style=\"stroke:#000000;stroke-width:0.8;\" x=\"52.375\" xlink:href=\"#m21707a88fe\" y=\"96.285734\"/>\n      </g>\n     </g>\n     <g id=\"text_7\">\n      <!-- 40000 -->\n      <g transform=\"translate(13.5625 100.084953)scale(0.1 -0.1)\">\n       <use xlink:href=\"#DejaVuSans-52\"/>\n       <use x=\"63.623047\" xlink:href=\"#DejaVuSans-48\"/>\n       <use x=\"127.246094\" xlink:href=\"#DejaVuSans-48\"/>\n       <use x=\"190.869141\" xlink:href=\"#DejaVuSans-48\"/>\n       <use x=\"254.492188\" xlink:href=\"#DejaVuSans-48\"/>\n      </g>\n     </g>\n    </g>\n    <g id=\"ytick_4\">\n     <g id=\"line2d_8\">\n      <g>\n       <use style=\"stroke:#000000;stroke-width:0.8;\" x=\"52.375\" xlink:href=\"#m21707a88fe\" y=\"72.878601\"/>\n      </g>\n     </g>\n     <g id=\"text_8\">\n      <!-- 60000 -->\n      <g transform=\"translate(13.5625 76.67782)scale(0.1 -0.1)\">\n       <use xlink:href=\"#DejaVuSans-54\"/>\n       <use x=\"63.623047\" xlink:href=\"#DejaVuSans-48\"/>\n       <use x=\"127.246094\" xlink:href=\"#DejaVuSans-48\"/>\n       <use x=\"190.869141\" xlink:href=\"#DejaVuSans-48\"/>\n       <use x=\"254.492188\" xlink:href=\"#DejaVuSans-48\"/>\n      </g>\n     </g>\n    </g>\n    <g id=\"ytick_5\">\n     <g id=\"line2d_9\">\n      <g>\n       <use style=\"stroke:#000000;stroke-width:0.8;\" x=\"52.375\" xlink:href=\"#m21707a88fe\" y=\"49.471468\"/>\n      </g>\n     </g>\n     <g id=\"text_9\">\n      <!-- 80000 -->\n      <defs>\n       <path d=\"M 31.78125 34.625 \nQ 24.75 34.625 20.71875 30.859375 \nQ 16.703125 27.09375 16.703125 20.515625 \nQ 16.703125 13.921875 20.71875 10.15625 \nQ 24.75 6.390625 31.78125 6.390625 \nQ 38.8125 6.390625 42.859375 10.171875 \nQ 46.921875 13.96875 46.921875 20.515625 \nQ 46.921875 27.09375 42.890625 30.859375 \nQ 38.875 34.625 31.78125 34.625 \nz\nM 21.921875 38.8125 \nQ 15.578125 40.375 12.03125 44.71875 \nQ 8.5 49.078125 8.5 55.328125 \nQ 8.5 64.0625 14.71875 69.140625 \nQ 20.953125 74.21875 31.78125 74.21875 \nQ 42.671875 74.21875 48.875 69.140625 \nQ 55.078125 64.0625 55.078125 55.328125 \nQ 55.078125 49.078125 51.53125 44.71875 \nQ 48 40.375 41.703125 38.8125 \nQ 48.828125 37.15625 52.796875 32.3125 \nQ 56.78125 27.484375 56.78125 20.515625 \nQ 56.78125 9.90625 50.3125 4.234375 \nQ 43.84375 -1.421875 31.78125 -1.421875 \nQ 19.734375 -1.421875 13.25 4.234375 \nQ 6.78125 9.90625 6.78125 20.515625 \nQ 6.78125 27.484375 10.78125 32.3125 \nQ 14.796875 37.15625 21.921875 38.8125 \nz\nM 18.3125 54.390625 \nQ 18.3125 48.734375 21.84375 45.5625 \nQ 25.390625 42.390625 31.78125 42.390625 \nQ 38.140625 42.390625 41.71875 45.5625 \nQ 45.3125 48.734375 45.3125 54.390625 \nQ 45.3125 60.0625 41.71875 63.234375 \nQ 38.140625 66.40625 31.78125 66.40625 \nQ 25.390625 66.40625 21.84375 63.234375 \nQ 18.3125 60.0625 18.3125 54.390625 \nz\n\" id=\"DejaVuSans-56\"/>\n      </defs>\n      <g transform=\"translate(13.5625 53.270687)scale(0.1 -0.1)\">\n       <use xlink:href=\"#DejaVuSans-56\"/>\n       <use x=\"63.623047\" xlink:href=\"#DejaVuSans-48\"/>\n       <use x=\"127.246094\" xlink:href=\"#DejaVuSans-48\"/>\n       <use x=\"190.869141\" xlink:href=\"#DejaVuSans-48\"/>\n       <use x=\"254.492188\" xlink:href=\"#DejaVuSans-48\"/>\n      </g>\n     </g>\n    </g>\n    <g id=\"ytick_6\">\n     <g id=\"line2d_10\">\n      <g>\n       <use style=\"stroke:#000000;stroke-width:0.8;\" x=\"52.375\" xlink:href=\"#m21707a88fe\" y=\"26.064335\"/>\n      </g>\n     </g>\n     <g id=\"text_10\">\n      <!-- 100000 -->\n      <defs>\n       <path d=\"M 12.40625 8.296875 \nL 28.515625 8.296875 \nL 28.515625 63.921875 \nL 10.984375 60.40625 \nL 10.984375 69.390625 \nL 28.421875 72.90625 \nL 38.28125 72.90625 \nL 38.28125 8.296875 \nL 54.390625 8.296875 \nL 54.390625 0 \nL 12.40625 0 \nz\n\" id=\"DejaVuSans-49\"/>\n      </defs>\n      <g transform=\"translate(7.2 29.863554)scale(0.1 -0.1)\">\n       <use xlink:href=\"#DejaVuSans-49\"/>\n       <use x=\"63.623047\" xlink:href=\"#DejaVuSans-48\"/>\n       <use x=\"127.246094\" xlink:href=\"#DejaVuSans-48\"/>\n       <use x=\"190.869141\" xlink:href=\"#DejaVuSans-48\"/>\n       <use x=\"254.492188\" xlink:href=\"#DejaVuSans-48\"/>\n       <use x=\"318.115234\" xlink:href=\"#DejaVuSans-48\"/>\n      </g>\n     </g>\n    </g>\n   </g>\n   <g id=\"patch_23\">\n    <path d=\"M 52.375 143.1 \nL 52.375 7.2 \n\" style=\"fill:none;stroke:#000000;stroke-linecap:square;stroke-linejoin:miter;stroke-width:0.8;\"/>\n   </g>\n   <g id=\"patch_24\">\n    <path d=\"M 247.675 143.1 \nL 247.675 7.2 \n\" style=\"fill:none;stroke:#000000;stroke-linecap:square;stroke-linejoin:miter;stroke-width:0.8;\"/>\n   </g>\n   <g id=\"patch_25\">\n    <path d=\"M 52.375 143.1 \nL 247.675 143.1 \n\" style=\"fill:none;stroke:#000000;stroke-linecap:square;stroke-linejoin:miter;stroke-width:0.8;\"/>\n   </g>\n   <g id=\"patch_26\">\n    <path d=\"M 52.375 7.2 \nL 247.675 7.2 \n\" style=\"fill:none;stroke:#000000;stroke-linecap:square;stroke-linejoin:miter;stroke-width:0.8;\"/>\n   </g>\n   <g id=\"legend_1\">\n    <g id=\"patch_27\">\n     <path d=\"M 175.471875 44.55625 \nL 240.675 44.55625 \nQ 242.675 44.55625 242.675 42.55625 \nL 242.675 14.2 \nQ 242.675 12.2 240.675 12.2 \nL 175.471875 12.2 \nQ 173.471875 12.2 173.471875 14.2 \nL 173.471875 42.55625 \nQ 173.471875 44.55625 175.471875 44.55625 \nz\n\" style=\"fill:#ffffff;opacity:0.8;stroke:#cccccc;stroke-linejoin:miter;\"/>\n    </g>\n    <g id=\"patch_28\">\n     <path d=\"M 177.471875 23.798438 \nL 197.471875 23.798438 \nL 197.471875 16.798438 \nL 177.471875 16.798438 \nz\n\" style=\"fill:#1f77b4;\"/>\n    </g>\n    <g id=\"text_11\">\n     <!-- source -->\n     <defs>\n      <path d=\"M 44.28125 53.078125 \nL 44.28125 44.578125 \nQ 40.484375 46.53125 36.375 47.5 \nQ 32.28125 48.484375 27.875 48.484375 \nQ 21.1875 48.484375 17.84375 46.4375 \nQ 14.5 44.390625 14.5 40.28125 \nQ 14.5 37.15625 16.890625 35.375 \nQ 19.28125 33.59375 26.515625 31.984375 \nL 29.59375 31.296875 \nQ 39.15625 29.25 43.1875 25.515625 \nQ 47.21875 21.78125 47.21875 15.09375 \nQ 47.21875 7.46875 41.1875 3.015625 \nQ 35.15625 -1.421875 24.609375 -1.421875 \nQ 20.21875 -1.421875 15.453125 -0.5625 \nQ 10.6875 0.296875 5.421875 2 \nL 5.421875 11.28125 \nQ 10.40625 8.6875 15.234375 7.390625 \nQ 20.0625 6.109375 24.8125 6.109375 \nQ 31.15625 6.109375 34.5625 8.28125 \nQ 37.984375 10.453125 37.984375 14.40625 \nQ 37.984375 18.0625 35.515625 20.015625 \nQ 33.0625 21.96875 24.703125 23.78125 \nL 21.578125 24.515625 \nQ 13.234375 26.265625 9.515625 29.90625 \nQ 5.8125 33.546875 5.8125 39.890625 \nQ 5.8125 47.609375 11.28125 51.796875 \nQ 16.75 56 26.8125 56 \nQ 31.78125 56 36.171875 55.265625 \nQ 40.578125 54.546875 44.28125 53.078125 \nz\n\" id=\"DejaVuSans-115\"/>\n      <path d=\"M 30.609375 48.390625 \nQ 23.390625 48.390625 19.1875 42.75 \nQ 14.984375 37.109375 14.984375 27.296875 \nQ 14.984375 17.484375 19.15625 11.84375 \nQ 23.34375 6.203125 30.609375 6.203125 \nQ 37.796875 6.203125 41.984375 11.859375 \nQ 46.1875 17.53125 46.1875 27.296875 \nQ 46.1875 37.015625 41.984375 42.703125 \nQ 37.796875 48.390625 30.609375 48.390625 \nz\nM 30.609375 56 \nQ 42.328125 56 49.015625 48.375 \nQ 55.71875 40.765625 55.71875 27.296875 \nQ 55.71875 13.875 49.015625 6.21875 \nQ 42.328125 -1.421875 30.609375 -1.421875 \nQ 18.84375 -1.421875 12.171875 6.21875 \nQ 5.515625 13.875 5.515625 27.296875 \nQ 5.515625 40.765625 12.171875 48.375 \nQ 18.84375 56 30.609375 56 \nz\n\" id=\"DejaVuSans-111\"/>\n      <path d=\"M 8.5 21.578125 \nL 8.5 54.6875 \nL 17.484375 54.6875 \nL 17.484375 21.921875 \nQ 17.484375 14.15625 20.5 10.265625 \nQ 23.53125 6.390625 29.59375 6.390625 \nQ 36.859375 6.390625 41.078125 11.03125 \nQ 45.3125 15.671875 45.3125 23.6875 \nL 45.3125 54.6875 \nL 54.296875 54.6875 \nL 54.296875 0 \nL 45.3125 0 \nL 45.3125 8.40625 \nQ 42.046875 3.421875 37.71875 1 \nQ 33.40625 -1.421875 27.6875 -1.421875 \nQ 18.265625 -1.421875 13.375 4.4375 \nQ 8.5 10.296875 8.5 21.578125 \nz\nM 31.109375 56 \nz\n\" id=\"DejaVuSans-117\"/>\n      <path d=\"M 41.109375 46.296875 \nQ 39.59375 47.171875 37.8125 47.578125 \nQ 36.03125 48 33.890625 48 \nQ 26.265625 48 22.1875 43.046875 \nQ 18.109375 38.09375 18.109375 28.8125 \nL 18.109375 0 \nL 9.078125 0 \nL 9.078125 54.6875 \nL 18.109375 54.6875 \nL 18.109375 46.1875 \nQ 20.953125 51.171875 25.484375 53.578125 \nQ 30.03125 56 36.53125 56 \nQ 37.453125 56 38.578125 55.875 \nQ 39.703125 55.765625 41.0625 55.515625 \nz\n\" id=\"DejaVuSans-114\"/>\n      <path d=\"M 48.78125 52.59375 \nL 48.78125 44.1875 \nQ 44.96875 46.296875 41.140625 47.34375 \nQ 37.3125 48.390625 33.40625 48.390625 \nQ 24.65625 48.390625 19.8125 42.84375 \nQ 14.984375 37.3125 14.984375 27.296875 \nQ 14.984375 17.28125 19.8125 11.734375 \nQ 24.65625 6.203125 33.40625 6.203125 \nQ 37.3125 6.203125 41.140625 7.25 \nQ 44.96875 8.296875 48.78125 10.40625 \nL 48.78125 2.09375 \nQ 45.015625 0.34375 40.984375 -0.53125 \nQ 36.96875 -1.421875 32.421875 -1.421875 \nQ 20.0625 -1.421875 12.78125 6.34375 \nQ 5.515625 14.109375 5.515625 27.296875 \nQ 5.515625 40.671875 12.859375 48.328125 \nQ 20.21875 56 33.015625 56 \nQ 37.15625 56 41.109375 55.140625 \nQ 45.0625 54.296875 48.78125 52.59375 \nz\n\" id=\"DejaVuSans-99\"/>\n      <path d=\"M 56.203125 29.59375 \nL 56.203125 25.203125 \nL 14.890625 25.203125 \nQ 15.484375 15.921875 20.484375 11.0625 \nQ 25.484375 6.203125 34.421875 6.203125 \nQ 39.59375 6.203125 44.453125 7.46875 \nQ 49.3125 8.734375 54.109375 11.28125 \nL 54.109375 2.78125 \nQ 49.265625 0.734375 44.1875 -0.34375 \nQ 39.109375 -1.421875 33.890625 -1.421875 \nQ 20.796875 -1.421875 13.15625 6.1875 \nQ 5.515625 13.8125 5.515625 26.8125 \nQ 5.515625 40.234375 12.765625 48.109375 \nQ 20.015625 56 32.328125 56 \nQ 43.359375 56 49.78125 48.890625 \nQ 56.203125 41.796875 56.203125 29.59375 \nz\nM 47.21875 32.234375 \nQ 47.125 39.59375 43.09375 43.984375 \nQ 39.0625 48.390625 32.421875 48.390625 \nQ 24.90625 48.390625 20.390625 44.140625 \nQ 15.875 39.890625 15.1875 32.171875 \nz\n\" id=\"DejaVuSans-101\"/>\n     </defs>\n     <g transform=\"translate(205.471875 23.798438)scale(0.1 -0.1)\">\n      <use xlink:href=\"#DejaVuSans-115\"/>\n      <use x=\"52.099609\" xlink:href=\"#DejaVuSans-111\"/>\n      <use x=\"113.28125\" xlink:href=\"#DejaVuSans-117\"/>\n      <use x=\"176.660156\" xlink:href=\"#DejaVuSans-114\"/>\n      <use x=\"215.523438\" xlink:href=\"#DejaVuSans-99\"/>\n      <use x=\"270.503906\" xlink:href=\"#DejaVuSans-101\"/>\n     </g>\n    </g>\n    <g id=\"patch_29\">\n     <path d=\"M 177.471875 38.476562 \nL 197.471875 38.476562 \nL 197.471875 31.476562 \nL 177.471875 31.476562 \nz\n\" style=\"fill:url(#hc1514acaba);\"/>\n    </g>\n    <g id=\"text_12\">\n     <!-- target -->\n     <defs>\n      <path d=\"M 18.3125 70.21875 \nL 18.3125 54.6875 \nL 36.8125 54.6875 \nL 36.8125 47.703125 \nL 18.3125 47.703125 \nL 18.3125 18.015625 \nQ 18.3125 11.328125 20.140625 9.421875 \nQ 21.96875 7.515625 27.59375 7.515625 \nL 36.8125 7.515625 \nL 36.8125 0 \nL 27.59375 0 \nQ 17.1875 0 13.234375 3.875 \nQ 9.28125 7.765625 9.28125 18.015625 \nL 9.28125 47.703125 \nL 2.6875 47.703125 \nL 2.6875 54.6875 \nL 9.28125 54.6875 \nL 9.28125 70.21875 \nz\n\" id=\"DejaVuSans-116\"/>\n      <path d=\"M 34.28125 27.484375 \nQ 23.390625 27.484375 19.1875 25 \nQ 14.984375 22.515625 14.984375 16.5 \nQ 14.984375 11.71875 18.140625 8.90625 \nQ 21.296875 6.109375 26.703125 6.109375 \nQ 34.1875 6.109375 38.703125 11.40625 \nQ 43.21875 16.703125 43.21875 25.484375 \nL 43.21875 27.484375 \nz\nM 52.203125 31.203125 \nL 52.203125 0 \nL 43.21875 0 \nL 43.21875 8.296875 \nQ 40.140625 3.328125 35.546875 0.953125 \nQ 30.953125 -1.421875 24.3125 -1.421875 \nQ 15.921875 -1.421875 10.953125 3.296875 \nQ 6 8.015625 6 15.921875 \nQ 6 25.140625 12.171875 29.828125 \nQ 18.359375 34.515625 30.609375 34.515625 \nL 43.21875 34.515625 \nL 43.21875 35.40625 \nQ 43.21875 41.609375 39.140625 45 \nQ 35.0625 48.390625 27.6875 48.390625 \nQ 23 48.390625 18.546875 47.265625 \nQ 14.109375 46.140625 10.015625 43.890625 \nL 10.015625 52.203125 \nQ 14.9375 54.109375 19.578125 55.046875 \nQ 24.21875 56 28.609375 56 \nQ 40.484375 56 46.34375 49.84375 \nQ 52.203125 43.703125 52.203125 31.203125 \nz\n\" id=\"DejaVuSans-97\"/>\n      <path d=\"M 45.40625 27.984375 \nQ 45.40625 37.75 41.375 43.109375 \nQ 37.359375 48.484375 30.078125 48.484375 \nQ 22.859375 48.484375 18.828125 43.109375 \nQ 14.796875 37.75 14.796875 27.984375 \nQ 14.796875 18.265625 18.828125 12.890625 \nQ 22.859375 7.515625 30.078125 7.515625 \nQ 37.359375 7.515625 41.375 12.890625 \nQ 45.40625 18.265625 45.40625 27.984375 \nz\nM 54.390625 6.78125 \nQ 54.390625 -7.171875 48.1875 -13.984375 \nQ 42 -20.796875 29.203125 -20.796875 \nQ 24.46875 -20.796875 20.265625 -20.09375 \nQ 16.0625 -19.390625 12.109375 -17.921875 \nL 12.109375 -9.1875 \nQ 16.0625 -11.328125 19.921875 -12.34375 \nQ 23.78125 -13.375 27.78125 -13.375 \nQ 36.625 -13.375 41.015625 -8.765625 \nQ 45.40625 -4.15625 45.40625 5.171875 \nL 45.40625 9.625 \nQ 42.625 4.78125 38.28125 2.390625 \nQ 33.9375 0 27.875 0 \nQ 17.828125 0 11.671875 7.65625 \nQ 5.515625 15.328125 5.515625 27.984375 \nQ 5.515625 40.671875 11.671875 48.328125 \nQ 17.828125 56 27.875 56 \nQ 33.9375 56 38.28125 53.609375 \nQ 42.625 51.21875 45.40625 46.390625 \nL 45.40625 54.6875 \nL 54.390625 54.6875 \nz\n\" id=\"DejaVuSans-103\"/>\n     </defs>\n     <g transform=\"translate(205.471875 38.476562)scale(0.1 -0.1)\">\n      <use xlink:href=\"#DejaVuSans-116\"/>\n      <use x=\"39.208984\" xlink:href=\"#DejaVuSans-97\"/>\n      <use x=\"100.488281\" xlink:href=\"#DejaVuSans-114\"/>\n      <use x=\"139.851562\" xlink:href=\"#DejaVuSans-103\"/>\n      <use x=\"203.328125\" xlink:href=\"#DejaVuSans-101\"/>\n      <use x=\"264.851562\" xlink:href=\"#DejaVuSans-116\"/>\n     </g>\n    </g>\n   </g>\n  </g>\n </g>\n <defs>\n  <clipPath id=\"p50ef967016\">\n   <rect height=\"135.9\" width=\"195.3\" x=\"52.375\" y=\"7.2\"/>\n  </clipPath>\n </defs>\n <defs>\n  <pattern height=\"72\" id=\"hc1514acaba\" patternUnits=\"userSpaceOnUse\" width=\"72\" x=\"0\" y=\"0\">\n   <rect fill=\"#ff7f0e\" height=\"73\" width=\"73\" x=\"0\" y=\"0\"/>\n   <path d=\"M -36 36 \nL 36 -36 \nM -24 48 \nL 48 -24 \nM -12 60 \nL 60 -12 \nM 0 72 \nL 72 0 \nM 12 84 \nL 84 12 \nM 24 96 \nL 96 24 \nM 36 108 \nL 108 36 \n\" style=\"fill:#000000;stroke:#000000;stroke-linecap:butt;stroke-linejoin:miter;stroke-width:1.0;\"/>\n  </pattern>\n </defs>\n</svg>\n"
          },
          "metadata": {
            "tags": [],
            "needs_background": "light"
          }
        }
      ]
    },
    {
      "cell_type": "code",
      "metadata": {
        "id": "iPxxgcFMaOXt",
        "outputId": "f6e5b6e4-0326-4bb7-c2e2-446d5b29b3a1",
        "colab": {
          "base_uri": "https://localhost:8080/",
          "height": 243
        }
      },
      "source": [
        "### from d2l.ai\n",
        "### length of sentences diagrams for finnish text\n",
        "d2l.set_figsize()\n",
        "_, _, patches = d2l.plt.hist(\n",
        "    [[len(l) for l in source_fin], [len(l) for l in target_fin]],\n",
        "    label=['source', 'target'])\n",
        "for patch in patches[1].patches:\n",
        "    patch.set_hatch('/')\n",
        "d2l.plt.legend(loc='upper right');"
      ],
      "execution_count": 227,
      "outputs": [
        {
          "output_type": "display_data",
          "data": {
            "text/plain": [
              "<Figure size 252x180 with 1 Axes>"
            ],
            "image/svg+xml": "<?xml version=\"1.0\" encoding=\"utf-8\" standalone=\"no\"?>\n<!DOCTYPE svg PUBLIC \"-//W3C//DTD SVG 1.1//EN\"\n  \"http://www.w3.org/Graphics/SVG/1.1/DTD/svg11.dtd\">\n<!-- Created with matplotlib (https://matplotlib.org/) -->\n<svg height=\"166.978125pt\" version=\"1.1\" viewBox=\"0 0 248.5125 166.978125\" width=\"248.5125pt\" xmlns=\"http://www.w3.org/2000/svg\" xmlns:xlink=\"http://www.w3.org/1999/xlink\">\n <defs>\n  <style type=\"text/css\">\n*{stroke-linecap:butt;stroke-linejoin:round;}\n  </style>\n </defs>\n <g id=\"figure_1\">\n  <g id=\"patch_1\">\n   <path d=\"M 0 166.978125 \nL 248.5125 166.978125 \nL 248.5125 0 \nL 0 0 \nz\n\" style=\"fill:none;\"/>\n  </g>\n  <g id=\"axes_1\">\n   <g id=\"patch_2\">\n    <path d=\"M 46.0125 143.1 \nL 241.3125 143.1 \nL 241.3125 7.2 \nL 46.0125 7.2 \nz\n\" style=\"fill:#ffffff;\"/>\n   </g>\n   <g id=\"patch_3\">\n    <path clip-path=\"url(#p69796ebcdb)\" d=\"M 54.889773 143.1 \nL 62.136526 143.1 \nL 62.136526 54.382177 \nL 54.889773 54.382177 \nz\n\" style=\"fill:#1f77b4;\"/>\n   </g>\n   <g id=\"patch_4\">\n    <path clip-path=\"url(#p69796ebcdb)\" d=\"M 73.006656 143.1 \nL 80.253409 143.1 \nL 80.253409 67.972617 \nL 73.006656 67.972617 \nz\n\" style=\"fill:#1f77b4;\"/>\n   </g>\n   <g id=\"patch_5\">\n    <path clip-path=\"url(#p69796ebcdb)\" d=\"M 91.123539 143.1 \nL 98.370292 143.1 \nL 98.370292 135.313581 \nL 91.123539 135.313581 \nz\n\" style=\"fill:#1f77b4;\"/>\n   </g>\n   <g id=\"patch_6\">\n    <path clip-path=\"url(#p69796ebcdb)\" d=\"M 109.240422 143.1 \nL 116.487175 143.1 \nL 116.487175 141.555381 \nL 109.240422 141.555381 \nz\n\" style=\"fill:#1f77b4;\"/>\n   </g>\n   <g id=\"patch_7\">\n    <path clip-path=\"url(#p69796ebcdb)\" d=\"M 127.357305 143.1 \nL 134.604058 143.1 \nL 134.604058 142.87698 \nL 127.357305 142.87698 \nz\n\" style=\"fill:#1f77b4;\"/>\n   </g>\n   <g id=\"patch_8\">\n    <path clip-path=\"url(#p69796ebcdb)\" d=\"M 145.474188 143.1 \nL 152.720942 143.1 \nL 152.720942 143.014647 \nL 145.474188 143.014647 \nz\n\" style=\"fill:#1f77b4;\"/>\n   </g>\n   <g id=\"patch_9\">\n    <path clip-path=\"url(#p69796ebcdb)\" d=\"M 163.591071 143.1 \nL 170.837825 143.1 \nL 170.837825 143.069713 \nL 163.591071 143.069713 \nz\n\" style=\"fill:#1f77b4;\"/>\n   </g>\n   <g id=\"patch_10\">\n    <path clip-path=\"url(#p69796ebcdb)\" d=\"M 181.707955 143.1 \nL 188.954708 143.1 \nL 188.954708 143.088987 \nL 181.707955 143.088987 \nz\n\" style=\"fill:#1f77b4;\"/>\n   </g>\n   <g id=\"patch_11\">\n    <path clip-path=\"url(#p69796ebcdb)\" d=\"M 199.824838 143.1 \nL 207.071591 143.1 \nL 207.071591 143.097247 \nL 199.824838 143.097247 \nz\n\" style=\"fill:#1f77b4;\"/>\n   </g>\n   <g id=\"patch_12\">\n    <path clip-path=\"url(#p69796ebcdb)\" d=\"M 217.941721 143.1 \nL 225.188474 143.1 \nL 225.188474 143.09174 \nL 217.941721 143.09174 \nz\n\" style=\"fill:#1f77b4;\"/>\n   </g>\n   <g id=\"patch_13\">\n    <path clip-path=\"url(#p69796ebcdb)\" d=\"M 62.136526 143.1 \nL 69.383279 143.1 \nL 69.383279 13.671429 \nL 62.136526 13.671429 \nz\n\" style=\"fill:url(#h84645b4d15);\"/>\n   </g>\n   <g id=\"patch_14\">\n    <path clip-path=\"url(#p69796ebcdb)\" d=\"M 80.253409 143.1 \nL 87.500162 143.1 \nL 87.500162 102.843551 \nL 80.253409 102.843551 \nz\n\" style=\"fill:url(#h84645b4d15);\"/>\n   </g>\n   <g id=\"patch_15\">\n    <path clip-path=\"url(#p69796ebcdb)\" d=\"M 98.370292 143.1 \nL 105.617045 143.1 \nL 105.617045 139.919903 \nL 98.370292 139.919903 \nz\n\" style=\"fill:url(#h84645b4d15);\"/>\n   </g>\n   <g id=\"patch_16\">\n    <path clip-path=\"url(#p69796ebcdb)\" d=\"M 116.487175 143.1 \nL 123.733929 143.1 \nL 123.733929 142.549334 \nL 116.487175 142.549334 \nz\n\" style=\"fill:url(#h84645b4d15);\"/>\n   </g>\n   <g id=\"patch_17\">\n    <path clip-path=\"url(#p69796ebcdb)\" d=\"M 134.604058 143.1 \nL 141.850812 143.1 \nL 141.850812 143.0174 \nL 134.604058 143.0174 \nz\n\" style=\"fill:url(#h84645b4d15);\"/>\n   </g>\n   <g id=\"patch_18\">\n    <path clip-path=\"url(#p69796ebcdb)\" d=\"M 152.720942 143.1 \nL 159.967695 143.1 \nL 159.967695 143.07522 \nL 152.720942 143.07522 \nz\n\" style=\"fill:url(#h84645b4d15);\"/>\n   </g>\n   <g id=\"patch_19\">\n    <path clip-path=\"url(#p69796ebcdb)\" d=\"M 170.837825 143.1 \nL 178.084578 143.1 \nL 178.084578 143.088987 \nL 170.837825 143.088987 \nz\n\" style=\"fill:url(#h84645b4d15);\"/>\n   </g>\n   <g id=\"patch_20\">\n    <path clip-path=\"url(#p69796ebcdb)\" d=\"M 188.954708 143.1 \nL 196.201461 143.1 \nL 196.201461 143.1 \nL 188.954708 143.1 \nz\n\" style=\"fill:url(#h84645b4d15);\"/>\n   </g>\n   <g id=\"patch_21\">\n    <path clip-path=\"url(#p69796ebcdb)\" d=\"M 207.071591 143.1 \nL 214.318344 143.1 \nL 214.318344 143.097247 \nL 207.071591 143.097247 \nz\n\" style=\"fill:url(#h84645b4d15);\"/>\n   </g>\n   <g id=\"patch_22\">\n    <path clip-path=\"url(#p69796ebcdb)\" d=\"M 225.188474 143.1 \nL 232.435227 143.1 \nL 232.435227 143.1 \nL 225.188474 143.1 \nz\n\" style=\"fill:url(#h84645b4d15);\"/>\n   </g>\n   <g id=\"matplotlib.axis_1\">\n    <g id=\"xtick_1\">\n     <g id=\"line2d_1\">\n      <defs>\n       <path d=\"M 0 0 \nL 0 3.5 \n\" id=\"m29e37c9b33\" style=\"stroke:#000000;stroke-width:0.8;\"/>\n      </defs>\n      <g>\n       <use style=\"stroke:#000000;stroke-width:0.8;\" x=\"84.585707\" xlink:href=\"#m29e37c9b33\" y=\"143.1\"/>\n      </g>\n     </g>\n     <g id=\"text_1\">\n      <!-- 10 -->\n      <defs>\n       <path d=\"M 12.40625 8.296875 \nL 28.515625 8.296875 \nL 28.515625 63.921875 \nL 10.984375 60.40625 \nL 10.984375 69.390625 \nL 28.421875 72.90625 \nL 38.28125 72.90625 \nL 38.28125 8.296875 \nL 54.390625 8.296875 \nL 54.390625 0 \nL 12.40625 0 \nz\n\" id=\"DejaVuSans-49\"/>\n       <path d=\"M 31.78125 66.40625 \nQ 24.171875 66.40625 20.328125 58.90625 \nQ 16.5 51.421875 16.5 36.375 \nQ 16.5 21.390625 20.328125 13.890625 \nQ 24.171875 6.390625 31.78125 6.390625 \nQ 39.453125 6.390625 43.28125 13.890625 \nQ 47.125 21.390625 47.125 36.375 \nQ 47.125 51.421875 43.28125 58.90625 \nQ 39.453125 66.40625 31.78125 66.40625 \nz\nM 31.78125 74.21875 \nQ 44.046875 74.21875 50.515625 64.515625 \nQ 56.984375 54.828125 56.984375 36.375 \nQ 56.984375 17.96875 50.515625 8.265625 \nQ 44.046875 -1.421875 31.78125 -1.421875 \nQ 19.53125 -1.421875 13.0625 8.265625 \nQ 6.59375 17.96875 6.59375 36.375 \nQ 6.59375 54.828125 13.0625 64.515625 \nQ 19.53125 74.21875 31.78125 74.21875 \nz\n\" id=\"DejaVuSans-48\"/>\n      </defs>\n      <g transform=\"translate(78.223207 157.698438)scale(0.1 -0.1)\">\n       <use xlink:href=\"#DejaVuSans-49\"/>\n       <use x=\"63.623047\" xlink:href=\"#DejaVuSans-48\"/>\n      </g>\n     </g>\n    </g>\n    <g id=\"xtick_2\">\n     <g id=\"line2d_2\">\n      <g>\n       <use style=\"stroke:#000000;stroke-width:0.8;\" x=\"123.970236\" xlink:href=\"#m29e37c9b33\" y=\"143.1\"/>\n      </g>\n     </g>\n     <g id=\"text_2\">\n      <!-- 20 -->\n      <defs>\n       <path d=\"M 19.1875 8.296875 \nL 53.609375 8.296875 \nL 53.609375 0 \nL 7.328125 0 \nL 7.328125 8.296875 \nQ 12.9375 14.109375 22.625 23.890625 \nQ 32.328125 33.6875 34.8125 36.53125 \nQ 39.546875 41.84375 41.421875 45.53125 \nQ 43.3125 49.21875 43.3125 52.78125 \nQ 43.3125 58.59375 39.234375 62.25 \nQ 35.15625 65.921875 28.609375 65.921875 \nQ 23.96875 65.921875 18.8125 64.3125 \nQ 13.671875 62.703125 7.8125 59.421875 \nL 7.8125 69.390625 \nQ 13.765625 71.78125 18.9375 73 \nQ 24.125 74.21875 28.421875 74.21875 \nQ 39.75 74.21875 46.484375 68.546875 \nQ 53.21875 62.890625 53.21875 53.421875 \nQ 53.21875 48.921875 51.53125 44.890625 \nQ 49.859375 40.875 45.40625 35.40625 \nQ 44.1875 33.984375 37.640625 27.21875 \nQ 31.109375 20.453125 19.1875 8.296875 \nz\n\" id=\"DejaVuSans-50\"/>\n      </defs>\n      <g transform=\"translate(117.607736 157.698438)scale(0.1 -0.1)\">\n       <use xlink:href=\"#DejaVuSans-50\"/>\n       <use x=\"63.623047\" xlink:href=\"#DejaVuSans-48\"/>\n      </g>\n     </g>\n    </g>\n    <g id=\"xtick_3\">\n     <g id=\"line2d_3\">\n      <g>\n       <use style=\"stroke:#000000;stroke-width:0.8;\" x=\"163.354764\" xlink:href=\"#m29e37c9b33\" y=\"143.1\"/>\n      </g>\n     </g>\n     <g id=\"text_3\">\n      <!-- 30 -->\n      <defs>\n       <path d=\"M 40.578125 39.3125 \nQ 47.65625 37.796875 51.625 33 \nQ 55.609375 28.21875 55.609375 21.1875 \nQ 55.609375 10.40625 48.1875 4.484375 \nQ 40.765625 -1.421875 27.09375 -1.421875 \nQ 22.515625 -1.421875 17.65625 -0.515625 \nQ 12.796875 0.390625 7.625 2.203125 \nL 7.625 11.71875 \nQ 11.71875 9.328125 16.59375 8.109375 \nQ 21.484375 6.890625 26.8125 6.890625 \nQ 36.078125 6.890625 40.9375 10.546875 \nQ 45.796875 14.203125 45.796875 21.1875 \nQ 45.796875 27.640625 41.28125 31.265625 \nQ 36.765625 34.90625 28.71875 34.90625 \nL 20.21875 34.90625 \nL 20.21875 43.015625 \nL 29.109375 43.015625 \nQ 36.375 43.015625 40.234375 45.921875 \nQ 44.09375 48.828125 44.09375 54.296875 \nQ 44.09375 59.90625 40.109375 62.90625 \nQ 36.140625 65.921875 28.71875 65.921875 \nQ 24.65625 65.921875 20.015625 65.03125 \nQ 15.375 64.15625 9.8125 62.3125 \nL 9.8125 71.09375 \nQ 15.4375 72.65625 20.34375 73.4375 \nQ 25.25 74.21875 29.59375 74.21875 \nQ 40.828125 74.21875 47.359375 69.109375 \nQ 53.90625 64.015625 53.90625 55.328125 \nQ 53.90625 49.265625 50.4375 45.09375 \nQ 46.96875 40.921875 40.578125 39.3125 \nz\n\" id=\"DejaVuSans-51\"/>\n      </defs>\n      <g transform=\"translate(156.992264 157.698438)scale(0.1 -0.1)\">\n       <use xlink:href=\"#DejaVuSans-51\"/>\n       <use x=\"63.623047\" xlink:href=\"#DejaVuSans-48\"/>\n      </g>\n     </g>\n    </g>\n    <g id=\"xtick_4\">\n     <g id=\"line2d_4\">\n      <g>\n       <use style=\"stroke:#000000;stroke-width:0.8;\" x=\"202.739293\" xlink:href=\"#m29e37c9b33\" y=\"143.1\"/>\n      </g>\n     </g>\n     <g id=\"text_4\">\n      <!-- 40 -->\n      <defs>\n       <path d=\"M 37.796875 64.3125 \nL 12.890625 25.390625 \nL 37.796875 25.390625 \nz\nM 35.203125 72.90625 \nL 47.609375 72.90625 \nL 47.609375 25.390625 \nL 58.015625 25.390625 \nL 58.015625 17.1875 \nL 47.609375 17.1875 \nL 47.609375 0 \nL 37.796875 0 \nL 37.796875 17.1875 \nL 4.890625 17.1875 \nL 4.890625 26.703125 \nz\n\" id=\"DejaVuSans-52\"/>\n      </defs>\n      <g transform=\"translate(196.376793 157.698438)scale(0.1 -0.1)\">\n       <use xlink:href=\"#DejaVuSans-52\"/>\n       <use x=\"63.623047\" xlink:href=\"#DejaVuSans-48\"/>\n      </g>\n     </g>\n    </g>\n   </g>\n   <g id=\"matplotlib.axis_2\">\n    <g id=\"ytick_1\">\n     <g id=\"line2d_5\">\n      <defs>\n       <path d=\"M 0 0 \nL -3.5 0 \n\" id=\"mb7dc894a5d\" style=\"stroke:#000000;stroke-width:0.8;\"/>\n      </defs>\n      <g>\n       <use style=\"stroke:#000000;stroke-width:0.8;\" x=\"46.0125\" xlink:href=\"#mb7dc894a5d\" y=\"143.1\"/>\n      </g>\n     </g>\n     <g id=\"text_5\">\n      <!-- 0 -->\n      <g transform=\"translate(32.65 146.899219)scale(0.1 -0.1)\">\n       <use xlink:href=\"#DejaVuSans-48\"/>\n      </g>\n     </g>\n    </g>\n    <g id=\"ytick_2\">\n     <g id=\"line2d_6\">\n      <g>\n       <use style=\"stroke:#000000;stroke-width:0.8;\" x=\"46.0125\" xlink:href=\"#mb7dc894a5d\" y=\"115.566693\"/>\n      </g>\n     </g>\n     <g id=\"text_6\">\n      <!-- 10000 -->\n      <g transform=\"translate(7.2 119.365911)scale(0.1 -0.1)\">\n       <use xlink:href=\"#DejaVuSans-49\"/>\n       <use x=\"63.623047\" xlink:href=\"#DejaVuSans-48\"/>\n       <use x=\"127.246094\" xlink:href=\"#DejaVuSans-48\"/>\n       <use x=\"190.869141\" xlink:href=\"#DejaVuSans-48\"/>\n       <use x=\"254.492188\" xlink:href=\"#DejaVuSans-48\"/>\n      </g>\n     </g>\n    </g>\n    <g id=\"ytick_3\">\n     <g id=\"line2d_7\">\n      <g>\n       <use style=\"stroke:#000000;stroke-width:0.8;\" x=\"46.0125\" xlink:href=\"#mb7dc894a5d\" y=\"88.033385\"/>\n      </g>\n     </g>\n     <g id=\"text_7\">\n      <!-- 20000 -->\n      <g transform=\"translate(7.2 91.832604)scale(0.1 -0.1)\">\n       <use xlink:href=\"#DejaVuSans-50\"/>\n       <use x=\"63.623047\" xlink:href=\"#DejaVuSans-48\"/>\n       <use x=\"127.246094\" xlink:href=\"#DejaVuSans-48\"/>\n       <use x=\"190.869141\" xlink:href=\"#DejaVuSans-48\"/>\n       <use x=\"254.492188\" xlink:href=\"#DejaVuSans-48\"/>\n      </g>\n     </g>\n    </g>\n    <g id=\"ytick_4\">\n     <g id=\"line2d_8\">\n      <g>\n       <use style=\"stroke:#000000;stroke-width:0.8;\" x=\"46.0125\" xlink:href=\"#mb7dc894a5d\" y=\"60.500078\"/>\n      </g>\n     </g>\n     <g id=\"text_8\">\n      <!-- 30000 -->\n      <g transform=\"translate(7.2 64.299297)scale(0.1 -0.1)\">\n       <use xlink:href=\"#DejaVuSans-51\"/>\n       <use x=\"63.623047\" xlink:href=\"#DejaVuSans-48\"/>\n       <use x=\"127.246094\" xlink:href=\"#DejaVuSans-48\"/>\n       <use x=\"190.869141\" xlink:href=\"#DejaVuSans-48\"/>\n       <use x=\"254.492188\" xlink:href=\"#DejaVuSans-48\"/>\n      </g>\n     </g>\n    </g>\n    <g id=\"ytick_5\">\n     <g id=\"line2d_9\">\n      <g>\n       <use style=\"stroke:#000000;stroke-width:0.8;\" x=\"46.0125\" xlink:href=\"#mb7dc894a5d\" y=\"32.96677\"/>\n      </g>\n     </g>\n     <g id=\"text_9\">\n      <!-- 40000 -->\n      <g transform=\"translate(7.2 36.765989)scale(0.1 -0.1)\">\n       <use xlink:href=\"#DejaVuSans-52\"/>\n       <use x=\"63.623047\" xlink:href=\"#DejaVuSans-48\"/>\n       <use x=\"127.246094\" xlink:href=\"#DejaVuSans-48\"/>\n       <use x=\"190.869141\" xlink:href=\"#DejaVuSans-48\"/>\n       <use x=\"254.492188\" xlink:href=\"#DejaVuSans-48\"/>\n      </g>\n     </g>\n    </g>\n   </g>\n   <g id=\"patch_23\">\n    <path d=\"M 46.0125 143.1 \nL 46.0125 7.2 \n\" style=\"fill:none;stroke:#000000;stroke-linecap:square;stroke-linejoin:miter;stroke-width:0.8;\"/>\n   </g>\n   <g id=\"patch_24\">\n    <path d=\"M 241.3125 143.1 \nL 241.3125 7.2 \n\" style=\"fill:none;stroke:#000000;stroke-linecap:square;stroke-linejoin:miter;stroke-width:0.8;\"/>\n   </g>\n   <g id=\"patch_25\">\n    <path d=\"M 46.0125 143.1 \nL 241.3125 143.1 \n\" style=\"fill:none;stroke:#000000;stroke-linecap:square;stroke-linejoin:miter;stroke-width:0.8;\"/>\n   </g>\n   <g id=\"patch_26\">\n    <path d=\"M 46.0125 7.2 \nL 241.3125 7.2 \n\" style=\"fill:none;stroke:#000000;stroke-linecap:square;stroke-linejoin:miter;stroke-width:0.8;\"/>\n   </g>\n   <g id=\"legend_1\">\n    <g id=\"patch_27\">\n     <path d=\"M 169.109375 44.55625 \nL 234.3125 44.55625 \nQ 236.3125 44.55625 236.3125 42.55625 \nL 236.3125 14.2 \nQ 236.3125 12.2 234.3125 12.2 \nL 169.109375 12.2 \nQ 167.109375 12.2 167.109375 14.2 \nL 167.109375 42.55625 \nQ 167.109375 44.55625 169.109375 44.55625 \nz\n\" style=\"fill:#ffffff;opacity:0.8;stroke:#cccccc;stroke-linejoin:miter;\"/>\n    </g>\n    <g id=\"patch_28\">\n     <path d=\"M 171.109375 23.798438 \nL 191.109375 23.798438 \nL 191.109375 16.798438 \nL 171.109375 16.798438 \nz\n\" style=\"fill:#1f77b4;\"/>\n    </g>\n    <g id=\"text_10\">\n     <!-- source -->\n     <defs>\n      <path d=\"M 44.28125 53.078125 \nL 44.28125 44.578125 \nQ 40.484375 46.53125 36.375 47.5 \nQ 32.28125 48.484375 27.875 48.484375 \nQ 21.1875 48.484375 17.84375 46.4375 \nQ 14.5 44.390625 14.5 40.28125 \nQ 14.5 37.15625 16.890625 35.375 \nQ 19.28125 33.59375 26.515625 31.984375 \nL 29.59375 31.296875 \nQ 39.15625 29.25 43.1875 25.515625 \nQ 47.21875 21.78125 47.21875 15.09375 \nQ 47.21875 7.46875 41.1875 3.015625 \nQ 35.15625 -1.421875 24.609375 -1.421875 \nQ 20.21875 -1.421875 15.453125 -0.5625 \nQ 10.6875 0.296875 5.421875 2 \nL 5.421875 11.28125 \nQ 10.40625 8.6875 15.234375 7.390625 \nQ 20.0625 6.109375 24.8125 6.109375 \nQ 31.15625 6.109375 34.5625 8.28125 \nQ 37.984375 10.453125 37.984375 14.40625 \nQ 37.984375 18.0625 35.515625 20.015625 \nQ 33.0625 21.96875 24.703125 23.78125 \nL 21.578125 24.515625 \nQ 13.234375 26.265625 9.515625 29.90625 \nQ 5.8125 33.546875 5.8125 39.890625 \nQ 5.8125 47.609375 11.28125 51.796875 \nQ 16.75 56 26.8125 56 \nQ 31.78125 56 36.171875 55.265625 \nQ 40.578125 54.546875 44.28125 53.078125 \nz\n\" id=\"DejaVuSans-115\"/>\n      <path d=\"M 30.609375 48.390625 \nQ 23.390625 48.390625 19.1875 42.75 \nQ 14.984375 37.109375 14.984375 27.296875 \nQ 14.984375 17.484375 19.15625 11.84375 \nQ 23.34375 6.203125 30.609375 6.203125 \nQ 37.796875 6.203125 41.984375 11.859375 \nQ 46.1875 17.53125 46.1875 27.296875 \nQ 46.1875 37.015625 41.984375 42.703125 \nQ 37.796875 48.390625 30.609375 48.390625 \nz\nM 30.609375 56 \nQ 42.328125 56 49.015625 48.375 \nQ 55.71875 40.765625 55.71875 27.296875 \nQ 55.71875 13.875 49.015625 6.21875 \nQ 42.328125 -1.421875 30.609375 -1.421875 \nQ 18.84375 -1.421875 12.171875 6.21875 \nQ 5.515625 13.875 5.515625 27.296875 \nQ 5.515625 40.765625 12.171875 48.375 \nQ 18.84375 56 30.609375 56 \nz\n\" id=\"DejaVuSans-111\"/>\n      <path d=\"M 8.5 21.578125 \nL 8.5 54.6875 \nL 17.484375 54.6875 \nL 17.484375 21.921875 \nQ 17.484375 14.15625 20.5 10.265625 \nQ 23.53125 6.390625 29.59375 6.390625 \nQ 36.859375 6.390625 41.078125 11.03125 \nQ 45.3125 15.671875 45.3125 23.6875 \nL 45.3125 54.6875 \nL 54.296875 54.6875 \nL 54.296875 0 \nL 45.3125 0 \nL 45.3125 8.40625 \nQ 42.046875 3.421875 37.71875 1 \nQ 33.40625 -1.421875 27.6875 -1.421875 \nQ 18.265625 -1.421875 13.375 4.4375 \nQ 8.5 10.296875 8.5 21.578125 \nz\nM 31.109375 56 \nz\n\" id=\"DejaVuSans-117\"/>\n      <path d=\"M 41.109375 46.296875 \nQ 39.59375 47.171875 37.8125 47.578125 \nQ 36.03125 48 33.890625 48 \nQ 26.265625 48 22.1875 43.046875 \nQ 18.109375 38.09375 18.109375 28.8125 \nL 18.109375 0 \nL 9.078125 0 \nL 9.078125 54.6875 \nL 18.109375 54.6875 \nL 18.109375 46.1875 \nQ 20.953125 51.171875 25.484375 53.578125 \nQ 30.03125 56 36.53125 56 \nQ 37.453125 56 38.578125 55.875 \nQ 39.703125 55.765625 41.0625 55.515625 \nz\n\" id=\"DejaVuSans-114\"/>\n      <path d=\"M 48.78125 52.59375 \nL 48.78125 44.1875 \nQ 44.96875 46.296875 41.140625 47.34375 \nQ 37.3125 48.390625 33.40625 48.390625 \nQ 24.65625 48.390625 19.8125 42.84375 \nQ 14.984375 37.3125 14.984375 27.296875 \nQ 14.984375 17.28125 19.8125 11.734375 \nQ 24.65625 6.203125 33.40625 6.203125 \nQ 37.3125 6.203125 41.140625 7.25 \nQ 44.96875 8.296875 48.78125 10.40625 \nL 48.78125 2.09375 \nQ 45.015625 0.34375 40.984375 -0.53125 \nQ 36.96875 -1.421875 32.421875 -1.421875 \nQ 20.0625 -1.421875 12.78125 6.34375 \nQ 5.515625 14.109375 5.515625 27.296875 \nQ 5.515625 40.671875 12.859375 48.328125 \nQ 20.21875 56 33.015625 56 \nQ 37.15625 56 41.109375 55.140625 \nQ 45.0625 54.296875 48.78125 52.59375 \nz\n\" id=\"DejaVuSans-99\"/>\n      <path d=\"M 56.203125 29.59375 \nL 56.203125 25.203125 \nL 14.890625 25.203125 \nQ 15.484375 15.921875 20.484375 11.0625 \nQ 25.484375 6.203125 34.421875 6.203125 \nQ 39.59375 6.203125 44.453125 7.46875 \nQ 49.3125 8.734375 54.109375 11.28125 \nL 54.109375 2.78125 \nQ 49.265625 0.734375 44.1875 -0.34375 \nQ 39.109375 -1.421875 33.890625 -1.421875 \nQ 20.796875 -1.421875 13.15625 6.1875 \nQ 5.515625 13.8125 5.515625 26.8125 \nQ 5.515625 40.234375 12.765625 48.109375 \nQ 20.015625 56 32.328125 56 \nQ 43.359375 56 49.78125 48.890625 \nQ 56.203125 41.796875 56.203125 29.59375 \nz\nM 47.21875 32.234375 \nQ 47.125 39.59375 43.09375 43.984375 \nQ 39.0625 48.390625 32.421875 48.390625 \nQ 24.90625 48.390625 20.390625 44.140625 \nQ 15.875 39.890625 15.1875 32.171875 \nz\n\" id=\"DejaVuSans-101\"/>\n     </defs>\n     <g transform=\"translate(199.109375 23.798438)scale(0.1 -0.1)\">\n      <use xlink:href=\"#DejaVuSans-115\"/>\n      <use x=\"52.099609\" xlink:href=\"#DejaVuSans-111\"/>\n      <use x=\"113.28125\" xlink:href=\"#DejaVuSans-117\"/>\n      <use x=\"176.660156\" xlink:href=\"#DejaVuSans-114\"/>\n      <use x=\"215.523438\" xlink:href=\"#DejaVuSans-99\"/>\n      <use x=\"270.503906\" xlink:href=\"#DejaVuSans-101\"/>\n     </g>\n    </g>\n    <g id=\"patch_29\">\n     <path d=\"M 171.109375 38.476562 \nL 191.109375 38.476562 \nL 191.109375 31.476562 \nL 171.109375 31.476562 \nz\n\" style=\"fill:url(#h84645b4d15);\"/>\n    </g>\n    <g id=\"text_11\">\n     <!-- target -->\n     <defs>\n      <path d=\"M 18.3125 70.21875 \nL 18.3125 54.6875 \nL 36.8125 54.6875 \nL 36.8125 47.703125 \nL 18.3125 47.703125 \nL 18.3125 18.015625 \nQ 18.3125 11.328125 20.140625 9.421875 \nQ 21.96875 7.515625 27.59375 7.515625 \nL 36.8125 7.515625 \nL 36.8125 0 \nL 27.59375 0 \nQ 17.1875 0 13.234375 3.875 \nQ 9.28125 7.765625 9.28125 18.015625 \nL 9.28125 47.703125 \nL 2.6875 47.703125 \nL 2.6875 54.6875 \nL 9.28125 54.6875 \nL 9.28125 70.21875 \nz\n\" id=\"DejaVuSans-116\"/>\n      <path d=\"M 34.28125 27.484375 \nQ 23.390625 27.484375 19.1875 25 \nQ 14.984375 22.515625 14.984375 16.5 \nQ 14.984375 11.71875 18.140625 8.90625 \nQ 21.296875 6.109375 26.703125 6.109375 \nQ 34.1875 6.109375 38.703125 11.40625 \nQ 43.21875 16.703125 43.21875 25.484375 \nL 43.21875 27.484375 \nz\nM 52.203125 31.203125 \nL 52.203125 0 \nL 43.21875 0 \nL 43.21875 8.296875 \nQ 40.140625 3.328125 35.546875 0.953125 \nQ 30.953125 -1.421875 24.3125 -1.421875 \nQ 15.921875 -1.421875 10.953125 3.296875 \nQ 6 8.015625 6 15.921875 \nQ 6 25.140625 12.171875 29.828125 \nQ 18.359375 34.515625 30.609375 34.515625 \nL 43.21875 34.515625 \nL 43.21875 35.40625 \nQ 43.21875 41.609375 39.140625 45 \nQ 35.0625 48.390625 27.6875 48.390625 \nQ 23 48.390625 18.546875 47.265625 \nQ 14.109375 46.140625 10.015625 43.890625 \nL 10.015625 52.203125 \nQ 14.9375 54.109375 19.578125 55.046875 \nQ 24.21875 56 28.609375 56 \nQ 40.484375 56 46.34375 49.84375 \nQ 52.203125 43.703125 52.203125 31.203125 \nz\n\" id=\"DejaVuSans-97\"/>\n      <path d=\"M 45.40625 27.984375 \nQ 45.40625 37.75 41.375 43.109375 \nQ 37.359375 48.484375 30.078125 48.484375 \nQ 22.859375 48.484375 18.828125 43.109375 \nQ 14.796875 37.75 14.796875 27.984375 \nQ 14.796875 18.265625 18.828125 12.890625 \nQ 22.859375 7.515625 30.078125 7.515625 \nQ 37.359375 7.515625 41.375 12.890625 \nQ 45.40625 18.265625 45.40625 27.984375 \nz\nM 54.390625 6.78125 \nQ 54.390625 -7.171875 48.1875 -13.984375 \nQ 42 -20.796875 29.203125 -20.796875 \nQ 24.46875 -20.796875 20.265625 -20.09375 \nQ 16.0625 -19.390625 12.109375 -17.921875 \nL 12.109375 -9.1875 \nQ 16.0625 -11.328125 19.921875 -12.34375 \nQ 23.78125 -13.375 27.78125 -13.375 \nQ 36.625 -13.375 41.015625 -8.765625 \nQ 45.40625 -4.15625 45.40625 5.171875 \nL 45.40625 9.625 \nQ 42.625 4.78125 38.28125 2.390625 \nQ 33.9375 0 27.875 0 \nQ 17.828125 0 11.671875 7.65625 \nQ 5.515625 15.328125 5.515625 27.984375 \nQ 5.515625 40.671875 11.671875 48.328125 \nQ 17.828125 56 27.875 56 \nQ 33.9375 56 38.28125 53.609375 \nQ 42.625 51.21875 45.40625 46.390625 \nL 45.40625 54.6875 \nL 54.390625 54.6875 \nz\n\" id=\"DejaVuSans-103\"/>\n     </defs>\n     <g transform=\"translate(199.109375 38.476562)scale(0.1 -0.1)\">\n      <use xlink:href=\"#DejaVuSans-116\"/>\n      <use x=\"39.208984\" xlink:href=\"#DejaVuSans-97\"/>\n      <use x=\"100.488281\" xlink:href=\"#DejaVuSans-114\"/>\n      <use x=\"139.851562\" xlink:href=\"#DejaVuSans-103\"/>\n      <use x=\"203.328125\" xlink:href=\"#DejaVuSans-101\"/>\n      <use x=\"264.851562\" xlink:href=\"#DejaVuSans-116\"/>\n     </g>\n    </g>\n   </g>\n  </g>\n </g>\n <defs>\n  <clipPath id=\"p69796ebcdb\">\n   <rect height=\"135.9\" width=\"195.3\" x=\"46.0125\" y=\"7.2\"/>\n  </clipPath>\n </defs>\n <defs>\n  <pattern height=\"72\" id=\"h84645b4d15\" patternUnits=\"userSpaceOnUse\" width=\"72\" x=\"0\" y=\"0\">\n   <rect fill=\"#ff7f0e\" height=\"73\" width=\"73\" x=\"0\" y=\"0\"/>\n   <path d=\"M -36 36 \nL 36 -36 \nM -24 48 \nL 48 -24 \nM -12 60 \nL 60 -12 \nM 0 72 \nL 72 0 \nM 12 84 \nL 84 12 \nM 24 96 \nL 96 24 \nM 36 108 \nL 108 36 \n\" style=\"fill:#000000;stroke:#000000;stroke-linecap:butt;stroke-linejoin:miter;stroke-width:1.0;\"/>\n  </pattern>\n </defs>\n</svg>\n"
          },
          "metadata": {
            "tags": [],
            "needs_background": "light"
          }
        }
      ]
    },
    {
      "cell_type": "markdown",
      "metadata": {
        "id": "zf9XGXvfd3Xd"
      },
      "source": [
        ""
      ]
    },
    {
      "cell_type": "markdown",
      "metadata": {
        "id": "Um1YmG1zdp6w"
      },
      "source": [
        "### Vocabulary"
      ]
    },
    {
      "cell_type": "markdown",
      "metadata": {
        "id": "Vu4LNSr3ecl_"
      },
      "source": [
        "Add special tokens \\<pad>, \\<bos>, \\<eos>"
      ]
    },
    {
      "cell_type": "code",
      "metadata": {
        "id": "U68Vl3WWduXH",
        "outputId": "9506f656-babc-43cc-d8b7-d2467129deda",
        "colab": {
          "base_uri": "https://localhost:8080/"
        }
      },
      "source": [
        "src_vocab_fin = Vocab(source_fin, min_freq=2,\n",
        "                      reserved_tokens=['<pad>', '<bos>', '<eos>'])\n",
        "len(src_vocab_fin)"
      ],
      "execution_count": 228,
      "outputs": [
        {
          "output_type": "execute_result",
          "data": {
            "text/plain": [
              "6492"
            ]
          },
          "metadata": {
            "tags": []
          },
          "execution_count": 228
        }
      ]
    },
    {
      "cell_type": "code",
      "metadata": {
        "id": "qlhYj3oLeE5g",
        "outputId": "59d37d83-2da6-469f-ea7a-dabbcde8306b",
        "colab": {
          "base_uri": "https://localhost:8080/"
        }
      },
      "source": [
        "src_vocab_fra = Vocab(source_fra, min_freq=2,\n",
        "                      reserved_tokens=['<pad>', '<bos>', '<eos>'])\n",
        "len(src_vocab_fra)"
      ],
      "execution_count": 229,
      "outputs": [
        {
          "output_type": "execute_result",
          "data": {
            "text/plain": [
              "10348"
            ]
          },
          "metadata": {
            "tags": []
          },
          "execution_count": 229
        }
      ]
    },
    {
      "cell_type": "markdown",
      "metadata": {
        "id": "8HZD1SB8inau"
      },
      "source": [
        "### Truncate and Pad ; Build Array for Translation"
      ]
    },
    {
      "cell_type": "code",
      "metadata": {
        "id": "oLV9DhOIi7UL"
      },
      "source": [
        "### from d2l.ai\n",
        "def truncate_pad(line, num_steps, padding_token):\n",
        "    \"\"\"Truncate or pad sequences.\"\"\"\n",
        "    if len(line) > num_steps:\n",
        "        return line[:num_steps]  # Truncate\n",
        "    return line + [padding_token] * (num_steps - len(line))  # Pad"
      ],
      "execution_count": 230,
      "outputs": []
    },
    {
      "cell_type": "code",
      "metadata": {
        "id": "k_8YGAHgjGqL",
        "outputId": "0f5977d2-2cf2-420a-9a61-aed3f4c8d034",
        "colab": {
          "base_uri": "https://localhost:8080/"
        }
      },
      "source": [
        "### fin\n",
        "truncate_pad(src_vocab_fin[target_fin[0]], 10, src_vocab_fin['<pad>'])"
      ],
      "execution_count": 231,
      "outputs": [
        {
          "output_type": "execute_result",
          "data": {
            "text/plain": [
              "[0, 4, 1, 1, 1, 1, 1, 1, 1, 1]"
            ]
          },
          "metadata": {
            "tags": []
          },
          "execution_count": 231
        }
      ]
    },
    {
      "cell_type": "code",
      "metadata": {
        "id": "8nFxPB05jZdY",
        "outputId": "92f09386-b866-418a-ea06-808ac145079b",
        "colab": {
          "base_uri": "https://localhost:8080/"
        }
      },
      "source": [
        "### fra\n",
        "truncate_pad(src_vocab_fra[target_fra[0]], 10, src_vocab_fra['<pad>'])"
      ],
      "execution_count": 232,
      "outputs": [
        {
          "output_type": "execute_result",
          "data": {
            "text/plain": [
              "[0, 131, 1, 1, 1, 1, 1, 1, 1, 1]"
            ]
          },
          "metadata": {
            "tags": []
          },
          "execution_count": 232
        }
      ]
    },
    {
      "cell_type": "code",
      "metadata": {
        "id": "Cp-FmPx4qneL"
      },
      "source": [
        "### d2l.ai \n",
        "### <eos> token is added to the end of every sequence\n",
        "### lines are source or target list of list of word indixes\n",
        "### return the array (tf.constant)(this is data iterator)  \n",
        "### and the length of sentence \n",
        "### without <pad> tokens\n",
        "def build_array_nmt(lines, vocab, num_steps):\n",
        "    \"\"\"Transform text sequences of machine translation into minibatches.\"\"\"\n",
        "    lines = [vocab[l] for l in lines]\n",
        "### vocab['<eos>'] is index of <eos> token\n",
        "    lines = [l + [vocab['<eos>']] for l in lines]\n",
        "    array = tf.constant([truncate_pad(\n",
        "        l, num_steps, vocab['<pad>']) for l in lines])\n",
        "    valid_len = tf.reduce_sum(\n",
        "        tf.cast(array != vocab['<pad>'], tf.int32), 1)\n",
        "    return array, valid_len"
      ],
      "execution_count": 233,
      "outputs": []
    },
    {
      "cell_type": "markdown",
      "metadata": {
        "id": "5Qk45r1zxKCm"
      },
      "source": [
        "### Load Data\n",
        "The function is the combinations of the functions above  \n",
        "It returns the data iterator + vocabularies for the source  and target languages"
      ]
    },
    {
      "cell_type": "code",
      "metadata": {
        "id": "dlQZuAYIyZFJ"
      },
      "source": [
        "###d2l.ai code\n",
        "def load_array(data_arrays, batch_size, is_train=True):\n",
        "    \"\"\"Construct a TensorFlow data iterator.\"\"\"\n",
        "    dataset = tf.data.Dataset.from_tensor_slices(data_arrays)\n",
        "    if is_train:\n",
        "        dataset = dataset.shuffle(buffer_size=1000)\n",
        "    dataset = dataset.batch(batch_size)\n",
        "    return dataset"
      ],
      "execution_count": 234,
      "outputs": []
    },
    {
      "cell_type": "code",
      "metadata": {
        "id": "jK9qgApdxI5J"
      },
      "source": [
        "###d2l.ai code (modified)\n",
        "def load_data_nmt(file_name,batch_size, num_steps, num_examples=600):\n",
        "    \"\"\"Return the iterator and the vocabularies of the translation dataset.\"\"\"\n",
        "    text = preprocess_nmt(read_data_nmt(file_name))\n",
        "    source, target = tokenize_nmt(text, num_examples)\n",
        "    src_vocab = Vocab(source, min_freq=2,\n",
        "                          reserved_tokens=['<pad>', '<bos>', '<eos>'])\n",
        "    tgt_vocab = Vocab(target, min_freq=2,\n",
        "                          reserved_tokens=['<pad>', '<bos>', '<eos>'])\n",
        "### src_array and tgt-array are now tf.constants\n",
        "    src_array, src_valid_len = build_array_nmt(source, src_vocab, num_steps)\n",
        "    tgt_array, tgt_valid_len = build_array_nmt(target, tgt_vocab, num_steps)\n",
        "    data_arrays = (src_array, src_valid_len, tgt_array, tgt_valid_len)\n",
        "    data_iter = load_array(data_arrays, batch_size)\n",
        "    return data_iter, src_vocab, tgt_vocab"
      ],
      "execution_count": 235,
      "outputs": []
    },
    {
      "cell_type": "code",
      "metadata": {
        "id": "S6uz31xp3s3R",
        "outputId": "25343221-49cf-4858-980a-52babf405b54",
        "colab": {
          "base_uri": "https://localhost:8080/"
        }
      },
      "source": [
        "train_iter, src_vocab, tgt_vocab = load_data_nmt(FIN_ENG_NAME,batch_size=4, num_steps=10)\n",
        "for X, X_valid_len, Y, Y_valid_len in train_iter:\n",
        "    print('X:', tf.cast(X, tf.int32))\n",
        "    print('valid lengths for X:', X_valid_len)\n",
        "    print('Y:', tf.cast(Y, tf.int32))\n",
        "    print('valid lengths for Y:', Y_valid_len)\n",
        "    break"
      ],
      "execution_count": 237,
      "outputs": [
        {
          "output_type": "stream",
          "text": [
            "X: tf.Tensor(\n",
            "[[14 38  4  3  1  1  1  1  1  1]\n",
            " [11 19  5  3  1  1  1  1  1  1]\n",
            " [32 10  4  3  1  1  1  1  1  1]\n",
            " [31 52  7  3  1  1  1  1  1  1]], shape=(4, 10), dtype=int32)\n",
            "valid lengths for X: tf.Tensor([4 4 4 4], shape=(4,), dtype=int32)\n",
            "Y: tf.Tensor(\n",
            "[[117   4   3   1   1   1   1   1   1   1]\n",
            " [ 11  48   5   3   1   1   1   1   1   1]\n",
            " [ 11  48   5   3   1   1   1   1   1   1]\n",
            " [ 19 228   6   3   1   1   1   1   1   1]], shape=(4, 10), dtype=int32)\n",
            "valid lengths for Y: tf.Tensor([3 4 4 4], shape=(4,), dtype=int32)\n"
          ],
          "name": "stdout"
        }
      ]
    }
  ]
}