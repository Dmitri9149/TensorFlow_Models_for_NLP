{
  "nbformat": 4,
  "nbformat_minor": 0,
  "metadata": {
    "colab": {
      "name": "EuroparlamentDataForMachineTranslation.ipynb",
      "provenance": [],
      "collapsed_sections": [],
      "authorship_tag": "ABX9TyPbTpo2V7RHrty40k/Ur2Ux",
      "include_colab_link": true
    },
    "kernelspec": {
      "name": "python3",
      "display_name": "Python 3"
    }
  },
  "cells": [
    {
      "cell_type": "markdown",
      "metadata": {
        "id": "view-in-github",
        "colab_type": "text"
      },
      "source": [
        "<a href=\"https://colab.research.google.com/github/Dmitri9149/TensorFlow_Models_for_NLP/blob/main/EuroparlamentDataForMachineTranslation.ipynb\" target=\"_parent\"><img src=\"https://colab.research.google.com/assets/colab-badge.svg\" alt=\"Open In Colab\"/></a>"
      ]
    },
    {
      "cell_type": "code",
      "metadata": {
        "id": "uhtogEPZAJWT"
      },
      "source": [
        "import sys\n",
        "import zipfile\n",
        "import os\n",
        "import tarfile"
      ],
      "execution_count": 1,
      "outputs": []
    },
    {
      "cell_type": "markdown",
      "metadata": {
        "id": "hBX1xB_f3544"
      },
      "source": [
        "The data for Machine Translation are prepared using PyTorch \n",
        "torchtext and Spacy. \n",
        "Here I follow : https://towardsdatascience.com/how-to-use-torchtext-for-neural-machine-translation-plus-hack-to-make-it-5x-faster-77f3884d95  \n",
        "The datase is European Parliament Proceedings Parallel Corpus 1996–2011 : http://www.statmt.org/europarl/ "
      ]
    },
    {
      "cell_type": "code",
      "metadata": {
        "colab": {
          "base_uri": "https://localhost:8080/"
        },
        "id": "oF_XBLx0Br1m",
        "outputId": "f3cf004e-0b95-4366-a337-d65385faedc5"
      },
      "source": [
        "from google.colab import drive\n",
        "drive.mount('/content/drive')"
      ],
      "execution_count": 2,
      "outputs": [
        {
          "output_type": "stream",
          "text": [
            "Drive already mounted at /content/drive; to attempt to forcibly remount, call drive.mount(\"/content/drive\", force_remount=True).\n"
          ],
          "name": "stdout"
        }
      ]
    },
    {
      "cell_type": "code",
      "metadata": {
        "colab": {
          "base_uri": "https://localhost:8080/"
        },
        "id": "hywRtxntC7kJ",
        "outputId": "28c1c25c-2893-4221-92d8-e92ee55f69e0"
      },
      "source": [
        "tf = tarfile.open('drive/My Drive/Data/TextData/fr-en.tgz', mode=\"r\")\n",
        "tf.getnames()"
      ],
      "execution_count": 3,
      "outputs": [
        {
          "output_type": "execute_result",
          "data": {
            "text/plain": [
              "['europarl-v7.fr-en.en', 'europarl-v7.fr-en.fr']"
            ]
          },
          "metadata": {
            "tags": []
          },
          "execution_count": 3
        }
      ]
    },
    {
      "cell_type": "code",
      "metadata": {
        "id": "zlJcDpdgFEo6"
      },
      "source": [
        "tf.extractall('drive/My Drive/Data/TextData')"
      ],
      "execution_count": 4,
      "outputs": []
    },
    {
      "cell_type": "code",
      "metadata": {
        "id": "a7HRMfTuJOVu"
      },
      "source": [
        "europarl_en = open('drive/My Drive/Data/TextData/europarl-v7.fr-en.en', encoding='utf-8').read().split('\\n')\n",
        "europarl_fr = open('drive/My Drive/Data/TextData/europarl-v7.fr-en.fr', encoding='utf-8').read().split('\\n')"
      ],
      "execution_count": 5,
      "outputs": []
    },
    {
      "cell_type": "code",
      "metadata": {
        "id": "nI52qumCN4n6",
        "colab": {
          "base_uri": "https://localhost:8080/"
        },
        "outputId": "26f0d9b7-9c11-4b74-a271-940952b76854"
      },
      "source": [
        "europarl_en[0:10]"
      ],
      "execution_count": 6,
      "outputs": [
        {
          "output_type": "execute_result",
          "data": {
            "text/plain": [
              "['Resumption of the session',\n",
              " 'I declare resumed the session of the European Parliament adjourned on Friday 17 December 1999, and I would like once again to wish you a happy new year in the hope that you enjoyed a pleasant festive period.',\n",
              " \"Although, as you will have seen, the dreaded 'millennium bug' failed to materialise, still the people in a number of countries suffered a series of natural disasters that truly were dreadful.\",\n",
              " 'You have requested a debate on this subject in the course of the next few days, during this part-session.',\n",
              " \"In the meantime, I should like to observe a minute' s silence, as a number of Members have requested, on behalf of all the victims concerned, particularly those of the terrible storms, in the various countries of the European Union.\",\n",
              " \"Please rise, then, for this minute' s silence.\",\n",
              " \"(The House rose and observed a minute' s silence)\",\n",
              " 'Madam President, on a point of order.',\n",
              " 'You will be aware from the press and television that there have been a number of bomb explosions and killings in Sri Lanka.',\n",
              " 'One of the people assassinated very recently in Sri Lanka was Mr Kumar Ponnambalam, who had visited the European Parliament just a few months ago.']"
            ]
          },
          "metadata": {
            "tags": []
          },
          "execution_count": 6
        }
      ]
    },
    {
      "cell_type": "code",
      "metadata": {
        "id": "Trt3NlrbOAEq",
        "colab": {
          "base_uri": "https://localhost:8080/"
        },
        "outputId": "6938c27c-3c90-4a9a-a1d5-55c03b568821"
      },
      "source": [
        "europarl_fr[0:10]"
      ],
      "execution_count": 7,
      "outputs": [
        {
          "output_type": "execute_result",
          "data": {
            "text/plain": [
              "['Reprise de la session',\n",
              " 'Je déclare reprise la session du Parlement européen qui avait été interrompue le vendredi 17 décembre dernier et je vous renouvelle tous mes vux en espérant que vous avez passé de bonnes vacances.',\n",
              " 'Comme vous avez pu le constater, le grand \"bogue de l\\'an 2000\" ne s\\'est pas produit. En revanche, les citoyens d\\'un certain nombre de nos pays ont été victimes de catastrophes naturelles qui ont vraiment été terribles.',\n",
              " 'Vous avez souhaité un débat à ce sujet dans les prochains jours, au cours de cette période de session.',\n",
              " \"En attendant, je souhaiterais, comme un certain nombre de collègues me l'ont demandé, que nous observions une minute de silence pour toutes les victimes, des tempêtes notamment, dans les différents pays de l'Union européenne qui ont été touchés.\",\n",
              " 'Je vous invite à vous lever pour cette minute de silence.',\n",
              " '(Le Parlement, debout, observe une minute de silence)',\n",
              " \"Madame la Présidente, c'est une motion de procédure.\",\n",
              " 'Vous avez probablement appris par la presse et par la télévision que plusieurs attentats à la bombe et crimes ont été perpétrés au Sri Lanka.',\n",
              " \"L'une des personnes qui vient d'être assassinée au Sri Lanka est M. Kumar Ponnambalam, qui avait rendu visite au Parlement européen il y a quelques mois à peine.\"]"
            ]
          },
          "metadata": {
            "tags": []
          },
          "execution_count": 7
        }
      ]
    },
    {
      "cell_type": "code",
      "metadata": {
        "id": "cGeSDTmNOdAs"
      },
      "source": [
        "### use Torchtext and Spacy to create Field objects for later \n",
        "### tokenization and text processinguage \n",
        "### Spacy is used for language specific tokenization "
      ],
      "execution_count": 8,
      "outputs": []
    },
    {
      "cell_type": "code",
      "metadata": {
        "id": "9g_u6iM_OntN",
        "colab": {
          "base_uri": "https://localhost:8080/"
        },
        "outputId": "384a2923-0d06-4e2b-90e5-9bfdc3965cf0"
      },
      "source": [
        "import spacy\n",
        "import torchtext\n",
        "from torchtext.data import Field, BucketIterator, TabularDataset\n",
        "en = spacy.load('en')\n",
        "### the line below does not work \n",
        "## fr = spacy.load('fr')\n",
        "## used : tackoverflow.com/questions/55338972/oserror-e050-cant-find-model-fr-core-web-md-it-doesnt-seem-to-be-a-short\n",
        "## to overcome the problem \n",
        "### more over 'advise' from spacy -> \n",
        "### '✔ Download and installation successful\n",
        "### You can now load the model via spacy.load('fr_core_news_md') ' \n",
        "### does not work too ! \n",
        "### fr = spacy.load('fr_core_news_md')  -> does not work \n",
        "!python3 -m spacy download fr_core_news_md\n",
        "import fr_core_news_md\n",
        "fr = fr_core_news_md.load()\n",
        "def tokenize_en(sentence):\n",
        "    return [tok.text for tok in en.tokenizer(sentence)]\n",
        "def tokenize_fr(sentence):\n",
        "    return [tok.text for tok in fr.tokenizer(sentence)]\n",
        "EN_TEXT = Field(tokenize=tokenize_en)\n",
        "FR_TEXT = Field(tokenize=tokenize_fr, init_token = \"<sos>\", eos_token = \"<eos>\")"
      ],
      "execution_count": 9,
      "outputs": [
        {
          "output_type": "stream",
          "text": [
            "Requirement already satisfied: fr_core_news_md==2.2.5 from https://github.com/explosion/spacy-models/releases/download/fr_core_news_md-2.2.5/fr_core_news_md-2.2.5.tar.gz#egg=fr_core_news_md==2.2.5 in /usr/local/lib/python3.6/dist-packages (2.2.5)\n",
            "Requirement already satisfied: spacy>=2.2.2 in /usr/local/lib/python3.6/dist-packages (from fr_core_news_md==2.2.5) (2.2.4)\n",
            "Requirement already satisfied: blis<0.5.0,>=0.4.0 in /usr/local/lib/python3.6/dist-packages (from spacy>=2.2.2->fr_core_news_md==2.2.5) (0.4.1)\n",
            "Requirement already satisfied: preshed<3.1.0,>=3.0.2 in /usr/local/lib/python3.6/dist-packages (from spacy>=2.2.2->fr_core_news_md==2.2.5) (3.0.5)\n",
            "Requirement already satisfied: catalogue<1.1.0,>=0.0.7 in /usr/local/lib/python3.6/dist-packages (from spacy>=2.2.2->fr_core_news_md==2.2.5) (1.0.0)\n",
            "Requirement already satisfied: setuptools in /usr/local/lib/python3.6/dist-packages (from spacy>=2.2.2->fr_core_news_md==2.2.5) (51.1.2)\n",
            "Requirement already satisfied: requests<3.0.0,>=2.13.0 in /usr/local/lib/python3.6/dist-packages (from spacy>=2.2.2->fr_core_news_md==2.2.5) (2.23.0)\n",
            "Requirement already satisfied: cymem<2.1.0,>=2.0.2 in /usr/local/lib/python3.6/dist-packages (from spacy>=2.2.2->fr_core_news_md==2.2.5) (2.0.5)\n",
            "Requirement already satisfied: srsly<1.1.0,>=1.0.2 in /usr/local/lib/python3.6/dist-packages (from spacy>=2.2.2->fr_core_news_md==2.2.5) (1.0.5)\n",
            "Requirement already satisfied: numpy>=1.15.0 in /usr/local/lib/python3.6/dist-packages (from spacy>=2.2.2->fr_core_news_md==2.2.5) (1.19.5)\n",
            "Requirement already satisfied: tqdm<5.0.0,>=4.38.0 in /usr/local/lib/python3.6/dist-packages (from spacy>=2.2.2->fr_core_news_md==2.2.5) (4.41.1)\n",
            "Requirement already satisfied: plac<1.2.0,>=0.9.6 in /usr/local/lib/python3.6/dist-packages (from spacy>=2.2.2->fr_core_news_md==2.2.5) (1.1.3)\n",
            "Requirement already satisfied: thinc==7.4.0 in /usr/local/lib/python3.6/dist-packages (from spacy>=2.2.2->fr_core_news_md==2.2.5) (7.4.0)\n",
            "Requirement already satisfied: murmurhash<1.1.0,>=0.28.0 in /usr/local/lib/python3.6/dist-packages (from spacy>=2.2.2->fr_core_news_md==2.2.5) (1.0.5)\n",
            "Requirement already satisfied: wasabi<1.1.0,>=0.4.0 in /usr/local/lib/python3.6/dist-packages (from spacy>=2.2.2->fr_core_news_md==2.2.5) (0.8.0)\n",
            "Requirement already satisfied: importlib-metadata>=0.20; python_version < \"3.8\" in /usr/local/lib/python3.6/dist-packages (from catalogue<1.1.0,>=0.0.7->spacy>=2.2.2->fr_core_news_md==2.2.5) (3.3.0)\n",
            "Requirement already satisfied: certifi>=2017.4.17 in /usr/local/lib/python3.6/dist-packages (from requests<3.0.0,>=2.13.0->spacy>=2.2.2->fr_core_news_md==2.2.5) (2020.12.5)\n",
            "Requirement already satisfied: chardet<4,>=3.0.2 in /usr/local/lib/python3.6/dist-packages (from requests<3.0.0,>=2.13.0->spacy>=2.2.2->fr_core_news_md==2.2.5) (3.0.4)\n",
            "Requirement already satisfied: urllib3!=1.25.0,!=1.25.1,<1.26,>=1.21.1 in /usr/local/lib/python3.6/dist-packages (from requests<3.0.0,>=2.13.0->spacy>=2.2.2->fr_core_news_md==2.2.5) (1.24.3)\n",
            "Requirement already satisfied: idna<3,>=2.5 in /usr/local/lib/python3.6/dist-packages (from requests<3.0.0,>=2.13.0->spacy>=2.2.2->fr_core_news_md==2.2.5) (2.10)\n",
            "Requirement already satisfied: zipp>=0.5 in /usr/local/lib/python3.6/dist-packages (from importlib-metadata>=0.20; python_version < \"3.8\"->catalogue<1.1.0,>=0.0.7->spacy>=2.2.2->fr_core_news_md==2.2.5) (3.4.0)\n",
            "Requirement already satisfied: typing-extensions>=3.6.4; python_version < \"3.8\" in /usr/local/lib/python3.6/dist-packages (from importlib-metadata>=0.20; python_version < \"3.8\"->catalogue<1.1.0,>=0.0.7->spacy>=2.2.2->fr_core_news_md==2.2.5) (3.7.4.3)\n",
            "\u001b[38;5;2m✔ Download and installation successful\u001b[0m\n",
            "You can now load the model via spacy.load('fr_core_news_md')\n"
          ],
          "name": "stdout"
        }
      ]
    },
    {
      "cell_type": "code",
      "metadata": {
        "id": "ny9C-7xhenwE"
      },
      "source": [
        "### create DataFrame fom the data , because it gives big possibilities \n",
        "### in using TabularDataset of torchtext\n",
        "import pandas as pd\n",
        "#### create vocab \n",
        "raw_data = {'English' : [line for line in europarl_en], 'French': [line for line in europarl_fr]}\n",
        "#### create DataFrame\n",
        "df = pd.DataFrame(raw_data, columns=[\"English\", \"French\"])\n",
        "# remove very long sentences and sentences where translations are \n",
        "# not of roughly equal length\n",
        "### count white spaces -> approx. number of words in a sentence\n",
        "df['eng_len'] = df['English'].str.count(' ')\n",
        "df['fr_len'] = df['French'].str.count(' ')\n",
        "df = df.query('fr_len < 80 & eng_len < 80')\n",
        "df = df.query('fr_len < eng_len * 1.5 & fr_len * 1.5 > eng_len')\n"
      ],
      "execution_count": 10,
      "outputs": []
    },
    {
      "cell_type": "code",
      "metadata": {
        "id": "y-JhuQzyf-d2"
      },
      "source": [
        "from sklearn.model_selection import train_test_split\n",
        "# create train and validation set \n",
        "train, val = train_test_split(df, test_size=0.1)\n",
        "train.to_csv(\"train.csv\", index=False)\n",
        "val.to_csv(\"val.csv\", index=False)"
      ],
      "execution_count": 11,
      "outputs": []
    },
    {
      "cell_type": "code",
      "metadata": {
        "id": "P_utk2vowLPF",
        "colab": {
          "base_uri": "https://localhost:8080/"
        },
        "outputId": "12e4438b-6132-4c8c-a6f3-7699ca9e58f3"
      },
      "source": [
        "print(\"len of 'train.csv' = \", len(df))\n"
      ],
      "execution_count": 13,
      "outputs": [
        {
          "output_type": "stream",
          "text": [
            "len of 'train.csv' =  1840428\n"
          ],
          "name": "stdout"
        }
      ]
    },
    {
      "cell_type": "code",
      "metadata": {
        "id": "-O5CtSoChimT",
        "colab": {
          "base_uri": "https://localhost:8080/"
        },
        "outputId": "1693c38f-74fe-4b59-c6e3-1a88be7797ba"
      },
      "source": [
        "!whoami\n"
      ],
      "execution_count": 14,
      "outputs": [
        {
          "output_type": "stream",
          "text": [
            "root\n"
          ],
          "name": "stdout"
        }
      ]
    },
    {
      "cell_type": "code",
      "metadata": {
        "id": "k7-F_SeSgDPG"
      },
      "source": [
        "# associate the text in the 'English' column with the EN_TEXT field, # and 'French' with FR_TEXT\n",
        "data_fields = [('English', EN_TEXT), ('French', FR_TEXT)]\n",
        "train,val = torchtext.data.TabularDataset.splits(path='./', train='train.csv', validation='val.csv', format='csv', fields=data_fields)"
      ],
      "execution_count": 15,
      "outputs": []
    },
    {
      "cell_type": "code",
      "metadata": {
        "id": "S60mTjvCj0O9"
      },
      "source": [
        "### build vocab\n",
        "FR_TEXT.build_vocab(train, val)\n",
        "EN_TEXT.build_vocab(train, val)"
      ],
      "execution_count": 16,
      "outputs": []
    },
    {
      "cell_type": "code",
      "metadata": {
        "id": "QxEwAGeVkzt0",
        "colab": {
          "base_uri": "https://localhost:8080/"
        },
        "outputId": "0792461f-7272-4628-d9a0-cbbc9b23022c"
      },
      "source": [
        "print(EN_TEXT.vocab.stoi['the'])"
      ],
      "execution_count": 17,
      "outputs": [
        {
          "output_type": "stream",
          "text": [
            "2\n"
          ],
          "name": "stdout"
        }
      ]
    },
    {
      "cell_type": "code",
      "metadata": {
        "id": "riexvzr6k6Yb",
        "colab": {
          "base_uri": "https://localhost:8080/"
        },
        "outputId": "4dc2a2d6-b65f-4f41-99c0-0326373ce792"
      },
      "source": [
        "print(EN_TEXT.vocab.itos[2])"
      ],
      "execution_count": 18,
      "outputs": [
        {
          "output_type": "stream",
          "text": [
            "the\n"
          ],
          "name": "stdout"
        }
      ]
    },
    {
      "cell_type": "code",
      "metadata": {
        "id": "bqcMQuVMmFlu"
      },
      "source": [
        "### constract iterator\n",
        "train_iter = BucketIterator(train, batch_size=20, \\\n",
        "sort_key=lambda x: len(x.French), shuffle=True)"
      ],
      "execution_count": 19,
      "outputs": []
    }
  ]
}